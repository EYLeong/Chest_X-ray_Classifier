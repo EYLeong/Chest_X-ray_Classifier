{
 "cells": [
  {
   "cell_type": "code",
   "execution_count": 1,
   "metadata": {},
   "outputs": [],
   "source": [
    "%matplotlib inline\n",
    "\n",
    "# Matplotlib\n",
    "import matplotlib.pyplot as plt\n",
    "# Numpy\n",
    "import numpy as np\n",
    "# Pillow\n",
    "from PIL import Image\n",
    "# tqdm\n",
    "from tqdm.notebook import tqdm\n",
    "# Torch\n",
    "import torch\n",
    "from torch.utils.data import Dataset, DataLoader\n",
    "import torch.nn as nn\n",
    "import torch.optim as optim\n",
    "import torch.nn.functional as F\n",
    "from torch.autograd import Variable\n",
    "from torchvision import transforms\n",
    "# OS\n",
    "import os\n",
    "# Optuna for Hyperparameter Optimization\n",
    "import optuna\n",
    "from optuna.trial import TrialState\n",
    "# conda install -c conda-forge optuna"
   ]
  },
  {
   "cell_type": "markdown",
   "metadata": {},
   "source": [
    "Data Loading using the dataloader class"
   ]
  },
  {
   "cell_type": "code",
   "execution_count": 2,
   "metadata": {
    "code_folding": [
     0
    ]
   },
   "outputs": [],
   "source": [
    "class Lung_Dataset(Dataset):\n",
    "    \"\"\"\n",
    "    Lung Dataset Consisting of Infected and Non-Infected.\n",
    "    \"\"\"\n",
    "\n",
    "    def __init__(self, purpose, verbose=0):\n",
    "        \"\"\"\n",
    "        Constructor for generic Dataset class - simply assembles\n",
    "        the important parameters in attributes.\n",
    "        \n",
    "        Parameter:\n",
    "        -purpose variable should be set to a string of either 'train', 'test' or 'val'\n",
    "        -verbose takes an int of either 0,1 or 2. 0 will only differentiate between normal and infected, 1 will differentiate\n",
    "            between normal, covid and non-covid while 2 will only differentiate between covid and non-covid\n",
    "        \"\"\"\n",
    "        self.purpose = purpose\n",
    "        self.verbose = verbose\n",
    "        \n",
    "        # All images are of size 150 x 150\n",
    "        self.img_size = (150, 150)\n",
    "            \n",
    "        # The dataset has been split in training, testing and validation datasets\n",
    "        self.groups = ['train', 'test', 'val']\n",
    "        \n",
    "        # Path to images for different parts of the dataset\n",
    "        self.dataset_paths = {'train_normal': './dataset/train/normal/',\n",
    "                              'train_infected': './dataset/train/infected/',\n",
    "                              'train_infected_covid': './dataset/train/infected/covid',\n",
    "                              'train_infected_non_covid': './dataset/train/infected/non-covid',\n",
    "                              'test_normal': './dataset/test/normal/',\n",
    "                              'test_infected': './dataset/test/infected/',\n",
    "                              'test_infected_covid': './dataset/test/infected/covid',\n",
    "                              'test_infected_non_covid': './dataset/test/infected/non-covid',\n",
    "                              'val_normal': './dataset/val/normal/',\n",
    "                              'val_infected': './dataset/val/infected/',\n",
    "                              'val_infected_covid': './dataset/val/infected/covid',\n",
    "                              'val_infected_non_covid': './dataset/val/infected/non-covid'}\n",
    "        \n",
    "        self.dataset_numbers = {}\n",
    "        \n",
    "        # Consider normal and infected only\n",
    "        if verbose == 0:\n",
    "            self.classes = {0: 'normal', 1: 'infected'}\n",
    "            \n",
    "            #Populate self.dataset_numbers\n",
    "            for condition in self.classes.values():\n",
    "                key = \"{}_{}\".format(self.purpose, condition)\n",
    "                if condition == \"normal\":\n",
    "                    file_path = self.dataset_paths[key]\n",
    "                    count = len(os.listdir(file_path))\n",
    "                    self.dataset_numbers[key] = count\n",
    "                else:\n",
    "                    key1 = key + \"_covid\"\n",
    "                    key2 = key + \"_non_covid\"\n",
    "                    file_path1 = self.dataset_paths[key1]\n",
    "                    file_path2 = self.dataset_paths[key2]\n",
    "                    count1 = len(os.listdir(file_path1))\n",
    "                    count2 = len(os.listdir(file_path2))\n",
    "                    count = count1 + count2\n",
    "                    self.dataset_numbers[key] = count\n",
    "                       \n",
    "        #Consider normal, covid and non-covid\n",
    "        elif verbose == 1:\n",
    "            self.classes = {0: 'normal', 1: 'covid', 2: 'non_covid'}\n",
    "        \n",
    "            #Populate self.dataset_numbers\n",
    "            for condition in self.classes.values():\n",
    "                if condition == \"normal\":\n",
    "                    key = \"{}_{}\".format(self.purpose, condition)\n",
    "                    file_path = self.dataset_paths[key]\n",
    "                    count = len(os.listdir(file_path))\n",
    "                    self.dataset_numbers[key] = count\n",
    "                else:\n",
    "                    key = \"{}_infected\".format(self.purpose)\n",
    "                    key1 = key + \"_covid\"\n",
    "                    key2 = key + \"_non_covid\"\n",
    "                    file_path1 = self.dataset_paths[key1]\n",
    "                    file_path2 = self.dataset_paths[key2]\n",
    "                    count1 = len(os.listdir(file_path1))\n",
    "                    count2 = len(os.listdir(file_path2))\n",
    "                    self.dataset_numbers[key1] = count1\n",
    "                    self.dataset_numbers[key2] = count2\n",
    "                \n",
    "        #Consider covid and non-covid\n",
    "        elif verbose == 2:\n",
    "            self.classes = {0: 'covid', 1 :'non_covid' }\n",
    "\n",
    "            #Populate self.dataset_numbers\n",
    "            for condition in self.classes.values():\n",
    "                key = \"{}_infected\".format(self.purpose)\n",
    "                key1 = key + \"_covid\"\n",
    "                key2 = key + \"_non_covid\"\n",
    "                file_path1 = self.dataset_paths[key1]\n",
    "                file_path2 = self.dataset_paths[key2]\n",
    "                count1 = len(os.listdir(file_path1))\n",
    "                count2 = len(os.listdir(file_path2))\n",
    "                self.dataset_numbers[key1] = count1\n",
    "                self.dataset_numbers[key2] = count2\n",
    "            \n",
    "        else:\n",
    "            err_msg  = \"Verbose argument only takes in an int of either 0,1 or 2\"\n",
    "            raise TypeError(err_msg)\n",
    "        \n",
    "        \n",
    "    def describe(self):\n",
    "        \"\"\"\n",
    "        Descriptor function.\n",
    "        Will print details about the dataset when called.\n",
    "        \"\"\"\n",
    "        \n",
    "        # Generate description\n",
    "        msg = \"This is the Lung {} Dataset in the 50.039 Deep Learning class project\".format(self.purpose)\n",
    "        msg += \" in Feb-March 2021. \\n\"\n",
    "        msg += \"It contains a total of {} images, \".format(sum(self.dataset_numbers.values()))\n",
    "        msg += \"of size {} by {}.\\n\".format(self.img_size[0], self.img_size[1])\n",
    "        msg += \"The images are stored in the following locations \"\n",
    "        msg += \"and each one contains the following number of images:\\n\"\n",
    "        for key, val in self.dataset_numbers.items():\n",
    "            if key != 'infected':\n",
    "                file_path = self.dataset_paths[key]\n",
    "            else:\n",
    "                file_path = self.dataset_paths\n",
    "            msg += \" - {}, in folder {}: {} images.\\n\".format(key, file_path, val)\n",
    "        print(msg)\n",
    "        \n",
    "        \n",
    "    def open_img(self, class_val, index_val):\n",
    "        \"\"\"\n",
    "        Opens image with specified parameters.\n",
    "        \n",
    "        Parameters:\n",
    "        - class_val variable should be set to 'normal' or 'infected'.\n",
    "        - index_val should be an integer with values between 0 and the maximal number of images in dataset.\n",
    "        \n",
    "        Returns loaded image as a normalized Numpy array.\n",
    "        \"\"\"\n",
    "        group_val = self.purpose\n",
    "        err_msg = \"Error - class_val variable should be set to 'normal', 'infected', 'covid' or 'non_covid'.\"\n",
    "        assert class_val in self.classes.values(), err_msg\n",
    "        \n",
    "        if class_val == 'covid' or class_val == 'non_covid':\n",
    "            class_val = 'infected_' + class_val\n",
    "            \n",
    "        max_val = self.dataset_numbers['{}_{}'.format(group_val, class_val)]\n",
    "        err_msg = \"Error - index_val variable should be an integer between 0 and the maximal number of images.\"\n",
    "        err_msg += \"\\n(In {}/{}, you have {} images.)\".format(group_val, class_val, max_val)\n",
    "        assert isinstance(index_val, int), err_msg\n",
    "        assert index_val >= 0 and index_val <= max_val, err_msg\n",
    "        \n",
    "        # Open file as before\n",
    "        if class_val != \"infected\":\n",
    "            path_to_file = '{}/{}.jpg'.format(self.dataset_paths['{}_{}'.format(group_val, class_val)], index_val)\n",
    "        else:\n",
    "            covid_count = len(os.listdir(self.dataset_paths['{}_{}_covid'.format(group_val, class_val)]))\n",
    "            if index_val < covid_count:\n",
    "                path_to_file = '{}/{}.jpg'.format(self.dataset_paths['{}_{}_covid'.format(group_val, class_val)], index_val)\n",
    "            else:\n",
    "                index_val = index_val - covid_count\n",
    "                path_to_file = '{}/{}.jpg'.format(self.dataset_paths['{}_{}_non_covid'.format(group_val, class_val)], index_val)\n",
    "        with open(path_to_file, 'rb') as f:\n",
    "            im = np.asarray(Image.open(f))/255\n",
    "        f.close()\n",
    "        return im\n",
    "    \n",
    "    \n",
    "    def show_img(self, class_val, index_val):\n",
    "        \"\"\"\n",
    "        Opens, then displays image with specified parameters.\n",
    "        \n",
    "        Parameters:\n",
    "        - class_val variable should be set to 'normal' or 'infected'.\n",
    "        - index_val should be an integer with values between 0 and the maximal number of images in dataset.\n",
    "        \"\"\"\n",
    "        # Open image\n",
    "        im = self.open_img(class_val, index_val)\n",
    "        \n",
    "        # Display\n",
    "        plt.imshow(im)\n",
    "        \n",
    "    def __len__(self):\n",
    "        \"\"\"\n",
    "        Length special method, returns the number of images in dataset.\n",
    "        \"\"\"\n",
    "        \n",
    "        # Length function\n",
    "        return sum(self.dataset_numbers.values())\n",
    "    \n",
    "    \n",
    "    def __getitem__(self, index):\n",
    "        \"\"\"\n",
    "        Getitem special method.\n",
    "        \n",
    "        Expects an integer value index, between 0 and len(self) - 1.\n",
    "        \n",
    "        Returns the image and its label as a one hot vector, both\n",
    "        in torch tensor format in dataset.\n",
    "        \"\"\"\n",
    "        #If we only have 2 classes\n",
    "        if self.verbose == 0 or self.verbose == 2:\n",
    "            first_val = int(list(self.dataset_numbers.values())[0])\n",
    "            if index < first_val:\n",
    "                class_val = self.classes[0]\n",
    "                label = torch.Tensor([1, 0])\n",
    "            else:\n",
    "                class_val = self.classes[1]\n",
    "                index = index - first_val\n",
    "                label = torch.Tensor([0, 1])\n",
    "            im = self.open_img(class_val, index)\n",
    "            im = transforms.functional.to_tensor(np.array(im)).float()\n",
    "          \n",
    "        #If we have 3 classes to consider\n",
    "        elif self.verbose == 1:\n",
    "            first_val = int(list(self.dataset_numbers.values())[0])\n",
    "            second_val = int(list(self.dataset_numbers.values())[1])\n",
    "            if index < first_val:\n",
    "                class_val = self.classes[0]\n",
    "                label = torch.Tensor([1, 0, 0])\n",
    "            elif index >= first_val and index < first_val + second_val:\n",
    "                index = index - first_val\n",
    "                class_val = self.classes[1]\n",
    "                label = torch.Tensor([0,1,0])\n",
    "            else:\n",
    "                index = index-(first_val + second_val)\n",
    "                class_val = self.classes[2]\n",
    "                label = torch.Tensor([0,0,1])\n",
    "            im = self.open_img(class_val, index)\n",
    "            im = transforms.functional.to_tensor(np.array(im)).float()\n",
    "                \n",
    "        else:\n",
    "            raise TypeError(\"Verbose value is not 0,1 or 2\")\n",
    "        return im, label"
   ]
  },
  {
   "cell_type": "code",
   "execution_count": 3,
   "metadata": {},
   "outputs": [],
   "source": [
    "\"\"\"\n",
    "Data Split for First Layer classification task (normal vs infected) \n",
    "\"\"\"\n",
    "\n",
    "fl_labels = {\n",
    "0 : \"Normal\",\n",
    "1 : \"Infected\"\n",
    "}\n",
    "\n",
    "fl_train = Lung_Dataset('train', verbose = 0)\n",
    "fl_test = Lung_Dataset('test', verbose = 0)\n",
    "fl_val = Lung_Dataset('val', verbose = 0)\n",
    "\n",
    "\"\"\"\n",
    "Data Split for Second Layer classification task (COVID vs Non-COVID) \n",
    "\"\"\"\n",
    "\n",
    "sl_labels = {\n",
    "0 : \"COVID\",\n",
    "1 : \"Non-COVID\"\n",
    "}\n",
    "\n",
    "sl_train = Lung_Dataset('train', verbose = 2)\n",
    "sl_test = Lung_Dataset('test', verbose = 2)\n",
    "sl_val = Lung_Dataset('val', verbose = 2)"
   ]
  },
  {
   "cell_type": "markdown",
   "metadata": {},
   "source": [
    "Model Construction"
   ]
  },
  {
   "cell_type": "code",
   "execution_count": 4,
   "metadata": {
    "code_folding": []
   },
   "outputs": [],
   "source": [
    "class CNN(nn.Module):\n",
    "    def __init__(self):\n",
    "        super(CNN,self).__init__()\n",
    "        \n",
    "        \"\"\"\n",
    "        Insert each layer blocks. Same architecture will be used for the first layer and second layer CNNs\n",
    "        \"\"\"\n",
    "        self.conv1 = nn.Sequential(\n",
    "            nn.Conv2d(1, 64, kernel_size=3, stride=1, padding=1),\n",
    "            nn.MaxPool2d(kernel_size=2, stride=2),\n",
    "            nn.ReLU(),\n",
    "            nn.BatchNorm2d(64),\n",
    "            nn.Dropout(p=0.05))\n",
    "        self.conv2 = nn.Sequential(\n",
    "            nn.Conv2d(64, 128, kernel_size=3, stride=1, padding=1),\n",
    "            nn.MaxPool2d(kernel_size=2, stride=2),\n",
    "            nn.ReLU(),\n",
    "            nn.BatchNorm2d(128),\n",
    "            nn.Dropout(p=0.05))\n",
    "        self.conv3 = nn.Sequential(\n",
    "            nn.Conv2d(128, 256, kernel_size=3, stride=1, padding=1),\n",
    "            nn.MaxPool2d(kernel_size=2, stride=2),\n",
    "            nn.ReLU(),\n",
    "            nn.BatchNorm2d(256),\n",
    "            nn.Dropout(p=0.05))\n",
    "        self.conv4 = nn.Sequential(\n",
    "            nn.Conv2d(256, 512, kernel_size=3, stride=1, padding=1),\n",
    "            nn.MaxPool2d(kernel_size=2, stride=2),\n",
    "            nn.ReLU(),\n",
    "            nn.BatchNorm2d(512),\n",
    "            nn.Dropout(p=0.05))\n",
    "\n",
    "        self.final = nn.Sequential(\n",
    "            nn.AdaptiveAvgPool2d((1,1)),\n",
    "            nn.Flatten())\n",
    "\n",
    "        self.fc = nn.Linear(512, 1)\n",
    "        \n",
    "        \"\"\"\n",
    "        Initialization of the Conv layers and FC layer using Kaiming initialization\n",
    "        \"\"\"\n",
    "        self.conv1.apply(init_weights)\n",
    "        self.conv2.apply(init_weights)\n",
    "        self.conv3.apply(init_weights)\n",
    "        self.conv4.apply(init_weights)\n",
    "        self.fc.apply(init_weights)\n",
    "    \n",
    "    def forward(self,x):\n",
    "        \n",
    "        x = self.conv1(x)\n",
    "        x = self.conv2(x)\n",
    "        x = self.conv3(x)\n",
    "        x = self.conv4(x)\n",
    "        x = self.final(x)\n",
    "        x = self.fc(x)\n",
    "\n",
    "        return torch.sigmoid(x)"
   ]
  },
  {
   "cell_type": "code",
   "execution_count": 5,
   "metadata": {
    "code_folding": []
   },
   "outputs": [],
   "source": [
    "def init_weights(m):\n",
    "    if type(m) == nn.Linear or type(m) == nn.Conv2d:\n",
    "        nn.init.kaiming_normal_(m.weight, nonlinearity='relu')\n",
    "\n",
    "def train(model, device, train_loader, optimizer, epoch):\n",
    "    model.train()\n",
    "    \n",
    "    running_loss = 0\n",
    "    \n",
    "    tk0 = tqdm(train_loader, total=int(len(train_loader)))\n",
    "    counter = 0\n",
    "    \n",
    "    for batch_idx, (data, target) in enumerate(tk0):\n",
    "        data, target = data.to(device), target.to(device)\n",
    "        optimizer.zero_grad()\n",
    "        \n",
    "        output = model.forward(data)\n",
    "        \n",
    "        target = target.argmax(dim=1, keepdim=True).float()\n",
    "        \n",
    "        loss_criterion = nn.BCELoss()\n",
    "        loss = loss_criterion(output, target)\n",
    "        loss.backward()\n",
    "        optimizer.step()\n",
    "        \n",
    "        running_loss += loss.item()\n",
    "        \n",
    "        counter += 1\n",
    "        tk0.set_postfix(loss=(running_loss / (counter * train_loader.batch_size)))\n",
    "        \n",
    "        if (batch_idx + 1) % 100 == 0:\n",
    "            print('Epoch:', epoch, ',Training Loss:', running_loss / 100)\n",
    "            running_loss = 0\n",
    "        \n",
    "def validate(model, device, val_loader, loss_criterion, plot=False):\n",
    "    model.eval()\n",
    "\n",
    "    correct = 0\n",
    "    val_loss = 0\n",
    "\n",
    "    with torch.no_grad():\n",
    "        for data, target in val_loader:\n",
    "            data, target = data.to(device), target.to(device)\n",
    "\n",
    "            target = target.argmax(dim=1, keepdim=True).float()\n",
    "            \n",
    "            output = model.forward(data)\n",
    "            val_loss += loss_criterion(output, target).item()\n",
    "            \n",
    "            pred = torch.round(output)\n",
    "            equal_data = torch.sum(target.data == pred).item()\n",
    "            correct += equal_data\n",
    "\n",
    "    print(\"Validation loss: {}\".format(val_loss / len(val_loader)))\n",
    "    print('Validation set accuracy: ', 100. * correct / len(val_loader.dataset), '%')\n",
    "    \n",
    "    return (val_loss / len(val_loader))\n",
    "    \n",
    "def test(model, device, test_loader, plot=False):\n",
    "    model.eval()\n",
    "    \n",
    "    correct = 0\n",
    "    \n",
    "    with torch.no_grad():\n",
    "        for data, target in test_loader:\n",
    "            data, target = data.to(device), target.to(device)\n",
    "\n",
    "            target = target.argmax(dim=1, keepdim=True).float()\n",
    "            \n",
    "            output = model.forward(data)\n",
    "            pred = torch.round(output)\n",
    "\n",
    "            equal_data = torch.sum(target.data == pred).item()\n",
    "            correct += equal_data\n",
    "\n",
    "    print('Test set accuracy: ', 100. * correct / len(test_loader.dataset), '%')"
   ]
  },
  {
   "cell_type": "code",
   "execution_count": 6,
   "metadata": {},
   "outputs": [
    {
     "name": "stdout",
     "output_type": "stream",
     "text": [
      "Training the first model to classify normal and infected images\n"
     ]
    },
    {
     "data": {
      "application/vnd.jupyter.widget-view+json": {
       "model_id": "b73a9bf7063448f8bd4657ee7bfba0ce",
       "version_major": 2,
       "version_minor": 0
      },
      "text/plain": [
       "  0%|          | 0/163 [00:00<?, ?it/s]"
      ]
     },
     "metadata": {},
     "output_type": "display_data"
    },
    {
     "name": "stdout",
     "output_type": "stream",
     "text": [
      "Epoch: 1 ,Training Loss: 0.406059917062521\n",
      "Validation loss: 0.6342885494232178\n",
      "Validation set accuracy:  72.0 %\n"
     ]
    },
    {
     "data": {
      "application/vnd.jupyter.widget-view+json": {
       "model_id": "9d7c7085c9004ac79c5d6e2ab6e383e7",
       "version_major": 2,
       "version_minor": 0
      },
      "text/plain": [
       "  0%|          | 0/163 [00:00<?, ?it/s]"
      ]
     },
     "metadata": {},
     "output_type": "display_data"
    },
    {
     "name": "stdout",
     "output_type": "stream",
     "text": [
      "Epoch: 2 ,Training Loss: 0.17371247582137583\n",
      "Validation loss: 1.6552448272705078\n",
      "Validation set accuracy:  44.0 %\n"
     ]
    },
    {
     "data": {
      "application/vnd.jupyter.widget-view+json": {
       "model_id": "25147a8c707d4b17a41f02cac87e0e80",
       "version_major": 2,
       "version_minor": 0
      },
      "text/plain": [
       "  0%|          | 0/163 [00:00<?, ?it/s]"
      ]
     },
     "metadata": {},
     "output_type": "display_data"
    },
    {
     "name": "stdout",
     "output_type": "stream",
     "text": [
      "Epoch: 3 ,Training Loss: 0.12315673748031258\n",
      "Validation loss: 0.6368852853775024\n",
      "Validation set accuracy:  76.0 %\n"
     ]
    },
    {
     "data": {
      "application/vnd.jupyter.widget-view+json": {
       "model_id": "630d369d21cb4272b5110f7e0ee9a3a7",
       "version_major": 2,
       "version_minor": 0
      },
      "text/plain": [
       "  0%|          | 0/163 [00:00<?, ?it/s]"
      ]
     },
     "metadata": {},
     "output_type": "display_data"
    },
    {
     "name": "stdout",
     "output_type": "stream",
     "text": [
      "Epoch: 4 ,Training Loss: 0.11258306334726513\n",
      "Validation loss: 0.43794435262680054\n",
      "Validation set accuracy:  84.0 %\n"
     ]
    },
    {
     "data": {
      "application/vnd.jupyter.widget-view+json": {
       "model_id": "ee55c8f4d590465c83a8aa21982abab9",
       "version_major": 2,
       "version_minor": 0
      },
      "text/plain": [
       "  0%|          | 0/163 [00:00<?, ?it/s]"
      ]
     },
     "metadata": {},
     "output_type": "display_data"
    },
    {
     "name": "stdout",
     "output_type": "stream",
     "text": [
      "Epoch: 5 ,Training Loss: 0.09918390599545092\n",
      "Validation loss: 0.4787502586841583\n",
      "Validation set accuracy:  80.0 %\n"
     ]
    },
    {
     "data": {
      "application/vnd.jupyter.widget-view+json": {
       "model_id": "211f44e086cb4f9ea6d694d06c3070d0",
       "version_major": 2,
       "version_minor": 0
      },
      "text/plain": [
       "  0%|          | 0/163 [00:00<?, ?it/s]"
      ]
     },
     "metadata": {},
     "output_type": "display_data"
    },
    {
     "name": "stdout",
     "output_type": "stream",
     "text": [
      "Epoch: 6 ,Training Loss: 0.08280799758154898\n",
      "Validation loss: 1.0345041751861572\n",
      "Validation set accuracy:  68.0 %\n"
     ]
    },
    {
     "data": {
      "application/vnd.jupyter.widget-view+json": {
       "model_id": "312fa78fe3b14a29b6852affca458ad7",
       "version_major": 2,
       "version_minor": 0
      },
      "text/plain": [
       "  0%|          | 0/163 [00:00<?, ?it/s]"
      ]
     },
     "metadata": {},
     "output_type": "display_data"
    },
    {
     "name": "stdout",
     "output_type": "stream",
     "text": [
      "Epoch: 7 ,Training Loss: 0.06955229019513354\n",
      "Validation loss: 0.8159579038619995\n",
      "Validation set accuracy:  76.0 %\n"
     ]
    },
    {
     "data": {
      "application/vnd.jupyter.widget-view+json": {
       "model_id": "4d4618f40c954787b8cbce1a69b65ecb",
       "version_major": 2,
       "version_minor": 0
      },
      "text/plain": [
       "  0%|          | 0/163 [00:00<?, ?it/s]"
      ]
     },
     "metadata": {},
     "output_type": "display_data"
    },
    {
     "name": "stdout",
     "output_type": "stream",
     "text": [
      "Epoch: 8 ,Training Loss: 0.060979280386818574\n",
      "Validation loss: 0.29998862743377686\n",
      "Validation set accuracy:  84.0 %\n"
     ]
    },
    {
     "data": {
      "application/vnd.jupyter.widget-view+json": {
       "model_id": "451cabb56f0d405f95893ec455e9763d",
       "version_major": 2,
       "version_minor": 0
      },
      "text/plain": [
       "  0%|          | 0/163 [00:00<?, ?it/s]"
      ]
     },
     "metadata": {},
     "output_type": "display_data"
    },
    {
     "name": "stdout",
     "output_type": "stream",
     "text": [
      "Epoch: 9 ,Training Loss: 0.046801506727933886\n",
      "Validation loss: 0.4144107401371002\n",
      "Validation set accuracy:  80.0 %\n"
     ]
    },
    {
     "data": {
      "application/vnd.jupyter.widget-view+json": {
       "model_id": "9a7adb49998d4aa0a51506dcb2eae3f5",
       "version_major": 2,
       "version_minor": 0
      },
      "text/plain": [
       "  0%|          | 0/163 [00:00<?, ?it/s]"
      ]
     },
     "metadata": {},
     "output_type": "display_data"
    },
    {
     "name": "stdout",
     "output_type": "stream",
     "text": [
      "Epoch: 10 ,Training Loss: 0.04497560428921133\n",
      "Validation loss: 0.612773060798645\n",
      "Validation set accuracy:  76.0 %\n"
     ]
    },
    {
     "data": {
      "application/vnd.jupyter.widget-view+json": {
       "model_id": "02b4837315254ebab273f81e98ba678e",
       "version_major": 2,
       "version_minor": 0
      },
      "text/plain": [
       "  0%|          | 0/163 [00:00<?, ?it/s]"
      ]
     },
     "metadata": {},
     "output_type": "display_data"
    },
    {
     "name": "stdout",
     "output_type": "stream",
     "text": [
      "Epoch: 11 ,Training Loss: 0.04656482307123952\n",
      "Validation loss: 0.19504080712795258\n",
      "Validation set accuracy:  88.0 %\n"
     ]
    },
    {
     "data": {
      "application/vnd.jupyter.widget-view+json": {
       "model_id": "ad96bf5e6bc641edbb6d8f9513f1c6a8",
       "version_major": 2,
       "version_minor": 0
      },
      "text/plain": [
       "  0%|          | 0/163 [00:00<?, ?it/s]"
      ]
     },
     "metadata": {},
     "output_type": "display_data"
    },
    {
     "name": "stdout",
     "output_type": "stream",
     "text": [
      "Epoch: 12 ,Training Loss: 0.03025804430595599\n",
      "Validation loss: 0.22106721997261047\n",
      "Validation set accuracy:  92.0 %\n"
     ]
    },
    {
     "data": {
      "application/vnd.jupyter.widget-view+json": {
       "model_id": "e677042a3f75432294cf3a85e3cb110b",
       "version_major": 2,
       "version_minor": 0
      },
      "text/plain": [
       "  0%|          | 0/163 [00:00<?, ?it/s]"
      ]
     },
     "metadata": {},
     "output_type": "display_data"
    },
    {
     "name": "stdout",
     "output_type": "stream",
     "text": [
      "Epoch: 13 ,Training Loss: 0.028688356122584083\n",
      "Validation loss: 0.22571447491645813\n",
      "Validation set accuracy:  92.0 %\n"
     ]
    },
    {
     "data": {
      "application/vnd.jupyter.widget-view+json": {
       "model_id": "1fd3e63c93b744e6a9c542dd4a625a4c",
       "version_major": 2,
       "version_minor": 0
      },
      "text/plain": [
       "  0%|          | 0/163 [00:00<?, ?it/s]"
      ]
     },
     "metadata": {},
     "output_type": "display_data"
    },
    {
     "name": "stdout",
     "output_type": "stream",
     "text": [
      "Epoch: 14 ,Training Loss: 0.04043141747417394\n",
      "Validation loss: 0.13673973083496094\n",
      "Validation set accuracy:  88.0 %\n"
     ]
    },
    {
     "data": {
      "application/vnd.jupyter.widget-view+json": {
       "model_id": "b8a8e160cd44400b836ac780b3ce5923",
       "version_major": 2,
       "version_minor": 0
      },
      "text/plain": [
       "  0%|          | 0/163 [00:00<?, ?it/s]"
      ]
     },
     "metadata": {},
     "output_type": "display_data"
    },
    {
     "name": "stdout",
     "output_type": "stream",
     "text": [
      "Epoch: 15 ,Training Loss: 0.033768204959342255\n",
      "Validation loss: 0.20618373155593872\n",
      "Validation set accuracy:  92.0 %\n"
     ]
    },
    {
     "data": {
      "application/vnd.jupyter.widget-view+json": {
       "model_id": "db5310c2ea3d408fa66f7e2deb58493b",
       "version_major": 2,
       "version_minor": 0
      },
      "text/plain": [
       "  0%|          | 0/163 [00:00<?, ?it/s]"
      ]
     },
     "metadata": {},
     "output_type": "display_data"
    },
    {
     "name": "stdout",
     "output_type": "stream",
     "text": [
      "Epoch: 16 ,Training Loss: 0.034934489543084056\n",
      "Validation loss: 0.2015175223350525\n",
      "Validation set accuracy:  96.0 %\n"
     ]
    },
    {
     "data": {
      "application/vnd.jupyter.widget-view+json": {
       "model_id": "be3908ea27404df2a7aab5b15fd104f4",
       "version_major": 2,
       "version_minor": 0
      },
      "text/plain": [
       "  0%|          | 0/163 [00:00<?, ?it/s]"
      ]
     },
     "metadata": {},
     "output_type": "display_data"
    },
    {
     "name": "stdout",
     "output_type": "stream",
     "text": [
      "Epoch: 17 ,Training Loss: 0.018504678254103055\n",
      "Validation loss: 0.5077541470527649\n",
      "Validation set accuracy:  84.0 %\n"
     ]
    },
    {
     "data": {
      "application/vnd.jupyter.widget-view+json": {
       "model_id": "4a57db629ff4437d931717b53c7770ce",
       "version_major": 2,
       "version_minor": 0
      },
      "text/plain": [
       "  0%|          | 0/163 [00:00<?, ?it/s]"
      ]
     },
     "metadata": {},
     "output_type": "display_data"
    },
    {
     "name": "stdout",
     "output_type": "stream",
     "text": [
      "Epoch: 18 ,Training Loss: 0.03302537915966241\n",
      "Validation loss: 0.814653754234314\n",
      "Validation set accuracy:  76.0 %\n"
     ]
    },
    {
     "data": {
      "application/vnd.jupyter.widget-view+json": {
       "model_id": "68cc0617907d4f9ab785176aac02b07c",
       "version_major": 2,
       "version_minor": 0
      },
      "text/plain": [
       "  0%|          | 0/163 [00:00<?, ?it/s]"
      ]
     },
     "metadata": {},
     "output_type": "display_data"
    },
    {
     "name": "stdout",
     "output_type": "stream",
     "text": [
      "Epoch: 19 ,Training Loss: 0.01909679183132539\n",
      "Validation loss: 0.0425771027803421\n",
      "Validation set accuracy:  96.0 %\n"
     ]
    },
    {
     "data": {
      "application/vnd.jupyter.widget-view+json": {
       "model_id": "3fbb4de3811042f89b6bfa24730a1078",
       "version_major": 2,
       "version_minor": 0
      },
      "text/plain": [
       "  0%|          | 0/163 [00:00<?, ?it/s]"
      ]
     },
     "metadata": {},
     "output_type": "display_data"
    },
    {
     "name": "stdout",
     "output_type": "stream",
     "text": [
      "Epoch: 20 ,Training Loss: 0.03124385985414847\n",
      "Validation loss: 0.01478220522403717\n",
      "Validation set accuracy:  100.0 %\n"
     ]
    },
    {
     "data": {
      "application/vnd.jupyter.widget-view+json": {
       "model_id": "7eea44a68b3f4e028fe17c3ba2475511",
       "version_major": 2,
       "version_minor": 0
      },
      "text/plain": [
       "  0%|          | 0/163 [00:00<?, ?it/s]"
      ]
     },
     "metadata": {},
     "output_type": "display_data"
    },
    {
     "name": "stdout",
     "output_type": "stream",
     "text": [
      "Epoch: 21 ,Training Loss: 0.018870074216683862\n",
      "Validation loss: 0.24802367389202118\n",
      "Validation set accuracy:  92.0 %\n"
     ]
    },
    {
     "data": {
      "application/vnd.jupyter.widget-view+json": {
       "model_id": "7c01087c4c31487baf85e156046c927f",
       "version_major": 2,
       "version_minor": 0
      },
      "text/plain": [
       "  0%|          | 0/163 [00:00<?, ?it/s]"
      ]
     },
     "metadata": {},
     "output_type": "display_data"
    },
    {
     "name": "stdout",
     "output_type": "stream",
     "text": [
      "Epoch: 22 ,Training Loss: 0.01669026617630152\n",
      "Validation loss: 0.20362897217273712\n",
      "Validation set accuracy:  92.0 %\n"
     ]
    },
    {
     "data": {
      "application/vnd.jupyter.widget-view+json": {
       "model_id": "66272cef768c4337a5a94b0e8cdf0bd7",
       "version_major": 2,
       "version_minor": 0
      },
      "text/plain": [
       "  0%|          | 0/163 [00:00<?, ?it/s]"
      ]
     },
     "metadata": {},
     "output_type": "display_data"
    },
    {
     "name": "stdout",
     "output_type": "stream",
     "text": [
      "Epoch: 23 ,Training Loss: 0.016115569342582604\n",
      "Validation loss: 0.9228680729866028\n",
      "Validation set accuracy:  80.0 %\n"
     ]
    },
    {
     "data": {
      "application/vnd.jupyter.widget-view+json": {
       "model_id": "a1315f7fbc8b488892c2fc0796c20fa4",
       "version_major": 2,
       "version_minor": 0
      },
      "text/plain": [
       "  0%|          | 0/163 [00:00<?, ?it/s]"
      ]
     },
     "metadata": {},
     "output_type": "display_data"
    },
    {
     "name": "stdout",
     "output_type": "stream",
     "text": [
      "Epoch: 24 ,Training Loss: 0.015922598126562663\n",
      "Validation loss: 0.12833164632320404\n",
      "Validation set accuracy:  92.0 %\n"
     ]
    },
    {
     "data": {
      "application/vnd.jupyter.widget-view+json": {
       "model_id": "a4459d061f8941e29f296a6b72c79e21",
       "version_major": 2,
       "version_minor": 0
      },
      "text/plain": [
       "  0%|          | 0/163 [00:00<?, ?it/s]"
      ]
     },
     "metadata": {},
     "output_type": "display_data"
    },
    {
     "name": "stdout",
     "output_type": "stream",
     "text": [
      "Epoch: 25 ,Training Loss: 0.017015099059262864\n",
      "Validation loss: 0.19462187588214874\n",
      "Validation set accuracy:  92.0 %\n",
      "\n",
      "\n",
      "\n",
      "Test Accuracy of the first model:\n",
      "Test set accuracy:  82.76422764227642 %\n",
      "\n",
      "\n",
      "\n",
      "Training the second model to classify COVID and non-COVID images\n"
     ]
    },
    {
     "data": {
      "application/vnd.jupyter.widget-view+json": {
       "model_id": "10aa7f7978a44f448f6275fe47589bcb",
       "version_major": 2,
       "version_minor": 0
      },
      "text/plain": [
       "  0%|          | 0/122 [00:00<?, ?it/s]"
      ]
     },
     "metadata": {},
     "output_type": "display_data"
    },
    {
     "name": "stdout",
     "output_type": "stream",
     "text": [
      "Epoch: 1 ,Training Loss: 0.7310113555192947\n",
      "Validation loss: 0.8027167916297913\n",
      "Validation set accuracy:  58.8235294117647 %\n"
     ]
    },
    {
     "data": {
      "application/vnd.jupyter.widget-view+json": {
       "model_id": "6eb4ee12b85a45e4878d4fee89a098cd",
       "version_major": 2,
       "version_minor": 0
      },
      "text/plain": [
       "  0%|          | 0/122 [00:00<?, ?it/s]"
      ]
     },
     "metadata": {},
     "output_type": "display_data"
    },
    {
     "name": "stdout",
     "output_type": "stream",
     "text": [
      "Epoch: 2 ,Training Loss: 0.5681099840998649\n",
      "Validation loss: 0.7549899816513062\n",
      "Validation set accuracy:  58.8235294117647 %\n"
     ]
    },
    {
     "data": {
      "application/vnd.jupyter.widget-view+json": {
       "model_id": "4e584b87850f461897dacd4034b32537",
       "version_major": 2,
       "version_minor": 0
      },
      "text/plain": [
       "  0%|          | 0/122 [00:00<?, ?it/s]"
      ]
     },
     "metadata": {},
     "output_type": "display_data"
    },
    {
     "name": "stdout",
     "output_type": "stream",
     "text": [
      "Epoch: 3 ,Training Loss: 0.551237236559391\n",
      "Validation loss: 0.7957115173339844\n",
      "Validation set accuracy:  64.70588235294117 %\n"
     ]
    },
    {
     "data": {
      "application/vnd.jupyter.widget-view+json": {
       "model_id": "f5bbe6e56e2e4e448adbbcfe73bac383",
       "version_major": 2,
       "version_minor": 0
      },
      "text/plain": [
       "  0%|          | 0/122 [00:00<?, ?it/s]"
      ]
     },
     "metadata": {},
     "output_type": "display_data"
    },
    {
     "name": "stdout",
     "output_type": "stream",
     "text": [
      "Epoch: 4 ,Training Loss: 0.5361668160557747\n",
      "Validation loss: 0.860979437828064\n",
      "Validation set accuracy:  58.8235294117647 %\n"
     ]
    },
    {
     "data": {
      "application/vnd.jupyter.widget-view+json": {
       "model_id": "7fe6b0dafa674bb38c50d3f1218dee48",
       "version_major": 2,
       "version_minor": 0
      },
      "text/plain": [
       "  0%|          | 0/122 [00:00<?, ?it/s]"
      ]
     },
     "metadata": {},
     "output_type": "display_data"
    },
    {
     "name": "stdout",
     "output_type": "stream",
     "text": [
      "Epoch: 5 ,Training Loss: 0.5309222292900085\n",
      "Validation loss: 0.8926554918289185\n",
      "Validation set accuracy:  52.94117647058823 %\n"
     ]
    },
    {
     "data": {
      "application/vnd.jupyter.widget-view+json": {
       "model_id": "43f55a2cc2e041f78dc4de72f1231776",
       "version_major": 2,
       "version_minor": 0
      },
      "text/plain": [
       "  0%|          | 0/122 [00:00<?, ?it/s]"
      ]
     },
     "metadata": {},
     "output_type": "display_data"
    },
    {
     "name": "stdout",
     "output_type": "stream",
     "text": [
      "Epoch: 6 ,Training Loss: 0.5263352981209755\n",
      "Validation loss: 0.9302441477775574\n",
      "Validation set accuracy:  47.05882352941177 %\n"
     ]
    },
    {
     "data": {
      "application/vnd.jupyter.widget-view+json": {
       "model_id": "6f3fefb9669d4eee9223ba2cf9c44ea9",
       "version_major": 2,
       "version_minor": 0
      },
      "text/plain": [
       "  0%|          | 0/122 [00:00<?, ?it/s]"
      ]
     },
     "metadata": {},
     "output_type": "display_data"
    },
    {
     "name": "stdout",
     "output_type": "stream",
     "text": [
      "Epoch: 7 ,Training Loss: 0.5138878846168518\n",
      "Validation loss: 0.9794571995735168\n",
      "Validation set accuracy:  52.94117647058823 %\n",
      "\n",
      "\n",
      "\n",
      "Test Accuracy of the second model:\n",
      "Test set accuracy:  87.4015748031496 %\n"
     ]
    }
   ],
   "source": [
    "def main():\n",
    "    N_EPOCH = 200\n",
    "    L_RATE = 0.005\n",
    "    BETAS = (0.9,0.999)\n",
    "    bs_val = 32\n",
    "    \n",
    "    stop_threshold = 0.0005\n",
    "    temp_loss = None\n",
    "    early_stop = 0\n",
    "    \n",
    "    device = torch.device(\"cuda\" if torch.cuda.is_available() else \"cpu\")\n",
    "\n",
    "    fl_train_loader = DataLoader(fl_train, batch_size=bs_val, shuffle=True)\n",
    "    fl_val_loader = DataLoader(fl_val, batch_size=bs_val, shuffle=True)\n",
    "    fl_test_loader = DataLoader(fl_test, batch_size=bs_val, shuffle=True)\n",
    "    \n",
    "    fl_model = CNN().to(device)\n",
    "    fl_optimizer = optim.Adam(fl_model.parameters(), lr=L_RATE, betas=BETAS)\n",
    "    \n",
    "    print(\"Training the first model to classify normal and infected images\")\n",
    "    for epoch in range(1,N_EPOCH+1):\n",
    "        train(fl_model, device, fl_train_loader, fl_optimizer, epoch)\n",
    "        val_loss = validate(fl_model, device, fl_val_loader, nn.BCELoss())\n",
    "        \n",
    "        \"\"\"\n",
    "        Early Stopping \n",
    "        \"\"\"\n",
    "        if temp_loss == None:\n",
    "            temp_loss = val_loss\n",
    "        else:\n",
    "            if val_loss < temp_loss:\n",
    "                early_stop = 0\n",
    "                temp_loss = val_loss\n",
    "            else:\n",
    "                early_stop += 1\n",
    "                \n",
    "        if early_stop == 5:\n",
    "            break\n",
    "\n",
    "    print(\"\\n\\n\")\n",
    "    print(\"Test Accuracy of the first model:\")\n",
    "    test(fl_model, device, fl_test_loader)\n",
    "\n",
    "    fl_model.to(\"cpu\")\n",
    "    \n",
    "    \n",
    "    #Second Model\n",
    "    temp_loss = None\n",
    "    early_stop = 0\n",
    "    \n",
    "    sl_train_loader = DataLoader(sl_train, batch_size=bs_val, shuffle=True)\n",
    "    sl_val_loader = DataLoader(sl_val, batch_size=bs_val, shuffle=True)\n",
    "    sl_test_loader = DataLoader(sl_test, batch_size=bs_val, shuffle=True)\n",
    "    \n",
    "    sl_model = CNN().to(device)\n",
    "    \n",
    "    sl_optimizer = optim.Adam(sl_model.parameters(), lr=L_RATE, betas=BETAS)\n",
    "    \n",
    "    print(\"\\n\\n\")\n",
    "    print(\"Training the second model to classify COVID and non-COVID images\")\n",
    "    for epoch in range(1,N_EPOCH+1):\n",
    "        train(sl_model, device, sl_train_loader, sl_optimizer, epoch)\n",
    "        val_loss = validate(sl_model, device, sl_val_loader, nn.BCELoss())\n",
    "        \n",
    "        \"\"\"\n",
    "        Early Stopping \n",
    "        \"\"\"\n",
    "        if temp_loss == None:\n",
    "            temp_loss = val_loss\n",
    "        else:\n",
    "            if val_loss < temp_loss:\n",
    "                early_stop = 0\n",
    "                temp_loss = val_loss\n",
    "            else:\n",
    "                early_stop += 1\n",
    "                \n",
    "        if early_stop == 5:\n",
    "            break\n",
    "    \n",
    "    print(\"\\n\\n\")\n",
    "    print(\"Test Accuracy of the second model:\")\n",
    "    test(sl_model, device, sl_test_loader)\n",
    "    \n",
    "if __name__ == '__main__':\n",
    "    main()"
   ]
  },
  {
   "cell_type": "code",
   "execution_count": null,
   "metadata": {},
   "outputs": [],
   "source": []
  },
  {
   "cell_type": "code",
   "execution_count": null,
   "metadata": {},
   "outputs": [],
   "source": []
  },
  {
   "cell_type": "code",
   "execution_count": null,
   "metadata": {},
   "outputs": [],
   "source": []
  },
  {
   "cell_type": "code",
   "execution_count": null,
   "metadata": {},
   "outputs": [],
   "source": []
  },
  {
   "cell_type": "code",
   "execution_count": null,
   "metadata": {},
   "outputs": [],
   "source": []
  },
  {
   "cell_type": "code",
   "execution_count": null,
   "metadata": {},
   "outputs": [],
   "source": []
  },
  {
   "cell_type": "code",
   "execution_count": null,
   "metadata": {},
   "outputs": [],
   "source": []
  },
  {
   "cell_type": "code",
   "execution_count": 7,
   "metadata": {},
   "outputs": [
    {
     "data": {
      "text/plain": [
       "'\\nPlaceholder - Code to generate images and the corresponding labels\\nif plot == True:\\n        example_data = np.zeros([24, 150, 150])\\n        example_pred = np.zeros(24)\\n        \\n        for i in range(24):\\n            example_data[i] = data[i][0].to(\"cpu\").numpy()\\n            example_pred[i] = pred[i].to(\"cpu\").numpy()\\n                    \\n        for i in range(24):\\n            plt.subplot(5,5,i+1)\\n            plt.imshow(example_data[i], cmap=\\'gray\\', interpolation=\\'none\\')\\n            plt.title(fl_labels[example_pred[i]])\\n            plt.xticks([])\\n            plt.yticks([])\\n        plt.show()\\n'"
      ]
     },
     "execution_count": 7,
     "metadata": {},
     "output_type": "execute_result"
    }
   ],
   "source": [
    "'''\n",
    "Placeholder - Code to generate images and the corresponding labels\n",
    "if plot == True:\n",
    "        example_data = np.zeros([24, 150, 150])\n",
    "        example_pred = np.zeros(24)\n",
    "        \n",
    "        for i in range(24):\n",
    "            example_data[i] = data[i][0].to(\"cpu\").numpy()\n",
    "            example_pred[i] = pred[i].to(\"cpu\").numpy()\n",
    "                    \n",
    "        for i in range(24):\n",
    "            plt.subplot(5,5,i+1)\n",
    "            plt.imshow(example_data[i], cmap='gray', interpolation='none')\n",
    "            plt.title(fl_labels[example_pred[i]])\n",
    "            plt.xticks([])\n",
    "            plt.yticks([])\n",
    "        plt.show()\n",
    "'''"
   ]
  }
 ],
 "metadata": {
  "kernelspec": {
   "display_name": "Python 3",
   "language": "python",
   "name": "python3"
  },
  "language_info": {
   "codemirror_mode": {
    "name": "ipython",
    "version": 3
   },
   "file_extension": ".py",
   "mimetype": "text/x-python",
   "name": "python",
   "nbconvert_exporter": "python",
   "pygments_lexer": "ipython3",
   "version": "3.7.4"
  }
 },
 "nbformat": 4,
 "nbformat_minor": 2
}
