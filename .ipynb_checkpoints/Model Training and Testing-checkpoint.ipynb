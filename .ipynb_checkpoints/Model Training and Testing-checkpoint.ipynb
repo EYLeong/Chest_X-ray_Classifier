{
 "cells": [
  {
   "cell_type": "code",
   "execution_count": 1,
   "metadata": {},
   "outputs": [],
   "source": [
    "# Torch\n",
    "import torch\n",
    "from torch.utils.data import DataLoader\n",
    "from torch import optim, nn\n",
    "\n",
    "# Custom\n",
    "import data\n",
    "import model"
   ]
  },
  {
   "cell_type": "code",
   "execution_count": 2,
   "metadata": {},
   "outputs": [],
   "source": [
    "\"\"\"\n",
    "Data Split for First Layer classification task (normal vs infected) \n",
    "\"\"\"\n",
    "\n",
    "fl_labels = {\n",
    "0 : \"Normal\",\n",
    "1 : \"Infected\"\n",
    "}\n",
    "\n",
    "fl_train = data.Lung_Dataset('train', verbose = 0)\n",
    "fl_test = data.Lung_Dataset('test', verbose = 0)\n",
    "fl_val = data.Lung_Dataset('val', verbose = 0)\n",
    "\n",
    "\"\"\"\n",
    "Data Split for Second Layer classification task (COVID vs Non-COVID) \n",
    "\"\"\"\n",
    "\n",
    "sl_labels = {\n",
    "0 : \"COVID\",\n",
    "1 : \"Non-COVID\"\n",
    "}\n",
    "\n",
    "sl_train = data.Lung_Dataset('train', verbose = 2)\n",
    "sl_test = data.Lung_Dataset('test', verbose = 2)\n",
    "sl_val = data.Lung_Dataset('val', verbose = 2)\n",
    "\n",
    "\"\"\"\n",
    "Data Split for combined classification task (normal vs COVID vs Non-COVID) \n",
    "\"\"\"\n",
    "\n",
    "combined_labels = {\n",
    "0 : \"Normal\",\n",
    "1 : \"COVID\",\n",
    "2 : \"Non-COVID\"\n",
    "\n",
    "}\n",
    "final_test = data.Lung_Dataset('test', verbose = 1)"
   ]
  },
  {
   "cell_type": "code",
   "execution_count": 3,
   "metadata": {},
   "outputs": [],
   "source": [
    "def main():\n",
    "    N_EPOCH = 2\n",
    "    L_RATE = 0.001\n",
    "    BATCH_SIZE = 32\n",
    "    PATIENCE = 1\n",
    "    \n",
    "    device = torch.device(\"cuda\" if torch.cuda.is_available() else \"cpu\")\n",
    "\n",
    "    fl_train_loader = DataLoader(fl_train, batch_size=BATCH_SIZE, shuffle=True)\n",
    "    fl_val_loader = DataLoader(fl_val, batch_size=BATCH_SIZE, shuffle=True)\n",
    "    fl_test_loader = DataLoader(fl_test, batch_size=BATCH_SIZE, shuffle=True)\n",
    "    \n",
    "    fl_model = model.CNN().to(device)\n",
    "    fl_optimizer = optim.Adam(fl_model.parameters(), lr=L_RATE)\n",
    "    \n",
    "    print(\"Training the first model to classify normal and infected images\")\n",
    "    model.train(fl_model, device, nn.BCELoss(), fl_optimizer, fl_train_loader, fl_val_loader, N_EPOCH, PATIENCE)\n",
    "\n",
    "    print(\"\\n\\n\")\n",
    "    print(\"Test Accuracy of the first model:\")\n",
    "    model.test(fl_model, device, fl_test_loader)\n",
    "\n",
    "    fl_model.to(\"cpu\")\n",
    "    \n",
    "    model.save_model(fl_model, fl_optimizer, './saved_models/fl_model.pth')\n",
    "    \n",
    "    #Second Model\n",
    "    sl_train_loader = DataLoader(sl_train, batch_size=BATCH_SIZE, shuffle=True)\n",
    "    sl_val_loader = DataLoader(sl_val, batch_size=BATCH_SIZE, shuffle=True)\n",
    "    sl_test_loader = DataLoader(sl_test, batch_size=BATCH_SIZE, shuffle=True)\n",
    "    \n",
    "    sl_model = model.CNN().to(device)\n",
    "    \n",
    "    sl_optimizer = optim.Adam(sl_model.parameters(), lr=L_RATE)\n",
    "    \n",
    "    print(\"\\n\\n\")\n",
    "    print(\"Training the second model to classify COVID and non-COVID images\")\n",
    "    model.train(sl_model, device, nn.BCELoss(), sl_optimizer, sl_train_loader, sl_val_loader, N_EPOCH, PATIENCE)\n",
    "    \n",
    "    print(\"\\n\\n\")\n",
    "    print(\"Test Accuracy of the second model:\")\n",
    "    model.test(sl_model, device, sl_test_loader)\n",
    "    \n",
    "    sl_model.to(\"cpu\")\n",
    "    \n",
    "    model.save_model(sl_model, sl_optimizer, './saved_models/sl_model.pth')\n",
    "    \n",
    "if __name__ == '__main__':\n",
    "    pass\n",
    "    #main()"
   ]
  },
  {
   "cell_type": "code",
   "execution_count": 4,
   "metadata": {},
   "outputs": [
    {
     "name": "stdout",
     "output_type": "stream",
     "text": [
      "Test set accuracy:  88.97637795275591 %\n"
     ]
    }
   ],
   "source": [
    "\"\"\"\n",
    "Soo Han's own testing code. can delete away\n",
    "\"\"\"\n",
    "\n",
    "device = torch.device(\"cuda\" if torch.cuda.is_available() else \"cpu\")\n",
    "L_RATE = 0.001\n",
    "\n",
    "fl_model = model.CNN().to(device)\n",
    "fl_optimizer = optim.Adam(fl_model.parameters(), lr=L_RATE)\n",
    "fl_model, fl_optimizer = model.load_model(fl_model, fl_optimizer, './saved_models/fl_model.pth',device)\n",
    "\n",
    "sl_model = model.CNN().to(device)\n",
    "sl_optimizer = optim.Adam(sl_model.parameters(), lr=L_RATE)\n",
    "sl_model, sl_optimizer = model.load_model(sl_model, sl_optimizer, './saved_models/sl_model.pth',device)\n",
    "\n",
    "fl_test_loader = DataLoader(fl_test, batch_size=32, shuffle=True)\n",
    "sl_test_loader = DataLoader(sl_test, batch_size=32, shuffle=True)\n",
    "final_test_loader = DataLoader(final_test, batch_size=32, shuffle=True)\n",
    "\n",
    "sl_model.eval()\n",
    "model.test(sl_model, device, sl_test_loader)"
   ]
  },
  {
   "cell_type": "code",
   "execution_count": 5,
   "metadata": {
    "scrolled": true
   },
   "outputs": [
    {
     "name": "stdout",
     "output_type": "stream",
     "text": [
      "Test set accuracy:  88.97637795275591 %\n"
     ]
    }
   ],
   "source": [
    "model.test(sl_model, device, sl_test_loader)"
   ]
  },
  {
   "cell_type": "code",
   "execution_count": 6,
   "metadata": {},
   "outputs": [],
   "source": [
    "my_model = model.combine_models('./saved_models/fl_model.pth','./saved_models/sl_model.pth',device,L_RATE)"
   ]
  },
  {
   "cell_type": "code",
   "execution_count": 7,
   "metadata": {},
   "outputs": [
    {
     "name": "stdout",
     "output_type": "stream",
     "text": [
      "Test set accuracy:  66.17886178861788 %\n"
     ]
    }
   ],
   "source": [
    "my_model.test_combine(device, final_test_loader)"
   ]
  },
  {
   "cell_type": "code",
   "execution_count": 9,
   "metadata": {},
   "outputs": [
    {
     "data": {
      "text/plain": [
       "'\\nPlaceholder - Code to generate images and the corresponding labels\\nif plot == True:\\n        example_data = np.zeros([24, 150, 150])\\n        example_pred = np.zeros(24)\\n        \\n        for i in range(24):\\n            example_data[i] = data[i][0].to(\"cpu\").numpy()\\n            example_pred[i] = pred[i].to(\"cpu\").numpy()\\n                    \\n        for i in range(24):\\n            plt.subplot(5,5,i+1)\\n            plt.imshow(example_data[i], cmap=\\'gray\\', interpolation=\\'none\\')\\n            plt.title(fl_labels[example_pred[i]])\\n            plt.xticks([])\\n            plt.yticks([])\\n        plt.show()\\n'"
      ]
     },
     "execution_count": 9,
     "metadata": {},
     "output_type": "execute_result"
    }
   ],
   "source": [
    "'''\n",
    "Placeholder - Code to generate images and the corresponding labels\n",
    "if plot == True:\n",
    "        example_data = np.zeros([24, 150, 150])\n",
    "        example_pred = np.zeros(24)\n",
    "        \n",
    "        for i in range(24):\n",
    "            example_data[i] = data[i][0].to(\"cpu\").numpy()\n",
    "            example_pred[i] = pred[i].to(\"cpu\").numpy()\n",
    "                    \n",
    "        for i in range(24):\n",
    "            plt.subplot(5,5,i+1)\n",
    "            plt.imshow(example_data[i], cmap='gray', interpolation='none')\n",
    "            plt.title(fl_labels[example_pred[i]])\n",
    "            plt.xticks([])\n",
    "            plt.yticks([])\n",
    "        plt.show()\n",
    "'''"
   ]
  }
 ],
 "metadata": {
  "kernelspec": {
   "display_name": "Python 3",
   "language": "python",
   "name": "python3"
  },
  "language_info": {
   "codemirror_mode": {
    "name": "ipython",
    "version": 3
   },
   "file_extension": ".py",
   "mimetype": "text/x-python",
   "name": "python",
   "nbconvert_exporter": "python",
   "pygments_lexer": "ipython3",
   "version": "3.7.4"
  }
 },
 "nbformat": 4,
 "nbformat_minor": 2
}
