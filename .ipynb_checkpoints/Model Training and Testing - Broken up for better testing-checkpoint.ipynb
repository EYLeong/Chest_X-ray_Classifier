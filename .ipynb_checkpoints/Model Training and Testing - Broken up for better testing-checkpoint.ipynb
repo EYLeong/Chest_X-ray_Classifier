{
 "cells": [
  {
   "cell_type": "markdown",
   "metadata": {},
   "source": [
    "<h1> Deep Learning Small Project </h1>"
   ]
  },
  {
   "cell_type": "code",
   "execution_count": 1,
   "metadata": {},
   "outputs": [],
   "source": [
    "%matplotlib inline\n",
    "\n",
    "# Display\n",
    "from IPython.display import Image\n",
    "\n",
    "# Torch\n",
    "import torch\n",
    "from torch.utils.data import DataLoader\n",
    "from torch import optim, nn\n",
    "\n",
    "# Custom\n",
    "import data\n",
    "import model\n",
    "import utils"
   ]
  },
  {
   "cell_type": "markdown",
   "metadata": {},
   "source": [
    "Using Custom Dataloader, Data Split for First Layer classification task (normal vs infected)"
   ]
  },
  {
   "cell_type": "code",
   "execution_count": 2,
   "metadata": {},
   "outputs": [],
   "source": [
    "fl_labels = {\n",
    "0 : \"Normal\",\n",
    "1 : \"Infected\"\n",
    "}\n",
    "\n",
    "fl_train = data.Lung_Dataset('train', verbose = 0)\n",
    "fl_test = data.Lung_Dataset('val', verbose = 0)\n",
    "fl_val = data.Lung_Dataset('test', verbose = 0)\n",
    "\n",
    "\"\"\"\n",
    "Data Split for Second Layer classification task (COVID vs Non-COVID) \n",
    "\"\"\"\n",
    "\n",
    "sl_labels = {\n",
    "0 : \"COVID\",\n",
    "1 : \"Non-COVID\"\n",
    "}\n",
    "\n",
    "sl_train = data.Lung_Dataset('train', verbose = 2)\n",
    "sl_test = data.Lung_Dataset('val', verbose = 2)\n",
    "sl_val = data.Lung_Dataset('test', verbose = 2)\n",
    "\n",
    "\"\"\"\n",
    "Data Split for combined classification task (normal vs COVID vs Non-COVID) \n",
    "\"\"\"\n",
    "\n",
    "combined_labels = {\n",
    "0 : \"Normal\",\n",
    "1 : \"COVID\",\n",
    "2 : \"Non-COVID\"\n",
    "}\n",
    "\n",
    "final_val = data.Lung_Dataset('test', verbose = 1)\n",
    "final_test = data.Lung_Dataset('val', verbose = 1)"
   ]
  },
  {
   "cell_type": "markdown",
   "metadata": {},
   "source": [
    "Defining Model Parameters"
   ]
  },
  {
   "cell_type": "code",
   "execution_count": 3,
   "metadata": {},
   "outputs": [],
   "source": [
    "N_EPOCH = 200\n",
    "L_RATE_FL = 0.001\n",
    "BATCH_SIZE_FL = 32\n",
    "DROPOUT_FL = 0.05\n",
    "WD_FL = 0.01\n",
    "L_RATE_SL = 0.01\n",
    "BATCH_SIZE_SL = 64\n",
    "DROPOUT_SL = 0.15\n",
    "WD_SL = 0.01\n",
    "PATIENCE = 10\n",
    "STEPS = 5\n",
    "\n",
    "device = torch.device(\"cuda\" if torch.cuda.is_available() else \"cpu\")"
   ]
  },
  {
   "cell_type": "markdown",
   "metadata": {},
   "source": [
    "Training the First Layer Model"
   ]
  },
  {
   "cell_type": "code",
   "execution_count": null,
   "metadata": {
    "scrolled": true
   },
   "outputs": [
    {
     "name": "stdout",
     "output_type": "stream",
     "text": [
      "Training the first model to classify normal and infected images\n",
      "\n",
      "\n",
      "Epoch 1\n"
     ]
    },
    {
     "data": {
      "application/vnd.jupyter.widget-view+json": {
       "model_id": "4b0bde667f3c4f4e9388593e89cd76e1",
       "version_major": 2,
       "version_minor": 0
      },
      "text/plain": [
       "HBox(children=(FloatProgress(value=0.0, max=163.0), HTML(value='')))"
      ]
     },
     "metadata": {},
     "output_type": "display_data"
    },
    {
     "name": "stdout",
     "output_type": "stream",
     "text": [
      "\n",
      "Validation loss: 0.3445986695587635\n",
      "Validation set accuracy:  86.66666666666667 %\n",
      "\n",
      "\n",
      "Epoch 2\n"
     ]
    },
    {
     "data": {
      "application/vnd.jupyter.widget-view+json": {
       "model_id": "d8bb0aee0ec2482da30b6f7de31dd157",
       "version_major": 2,
       "version_minor": 0
      },
      "text/plain": [
       "HBox(children=(FloatProgress(value=0.0, max=163.0), HTML(value='')))"
      ]
     },
     "metadata": {},
     "output_type": "display_data"
    },
    {
     "name": "stdout",
     "output_type": "stream",
     "text": [
      "\n",
      "Validation loss: 1.4649523109197617\n",
      "Validation set accuracy:  65.36585365853658 %\n",
      "\n",
      "\n",
      "Epoch 3\n"
     ]
    },
    {
     "data": {
      "application/vnd.jupyter.widget-view+json": {
       "model_id": "bce08114aaaa47c2a6cd258033b3c15b",
       "version_major": 2,
       "version_minor": 0
      },
      "text/plain": [
       "HBox(children=(FloatProgress(value=0.0, max=163.0), HTML(value='')))"
      ]
     },
     "metadata": {},
     "output_type": "display_data"
    },
    {
     "name": "stdout",
     "output_type": "stream",
     "text": [
      "\n",
      "Validation loss: 0.8151061813812703\n",
      "Validation set accuracy:  72.6829268292683 %\n",
      "\n",
      "\n",
      "Epoch 4\n"
     ]
    },
    {
     "data": {
      "application/vnd.jupyter.widget-view+json": {
       "model_id": "0970ceb782dd4cd79269b3d81bcd96f4",
       "version_major": 2,
       "version_minor": 0
      },
      "text/plain": [
       "HBox(children=(FloatProgress(value=0.0, max=163.0), HTML(value='')))"
      ]
     },
     "metadata": {},
     "output_type": "display_data"
    },
    {
     "name": "stdout",
     "output_type": "stream",
     "text": [
      "\n",
      "Validation loss: 0.9582311630249023\n",
      "Validation set accuracy:  72.6829268292683 %\n",
      "\n",
      "\n",
      "Epoch 5\n"
     ]
    },
    {
     "data": {
      "application/vnd.jupyter.widget-view+json": {
       "model_id": "e7a87bc5f2dc4c3eb543e807e10b6dea",
       "version_major": 2,
       "version_minor": 0
      },
      "text/plain": [
       "HBox(children=(FloatProgress(value=0.0, max=163.0), HTML(value='')))"
      ]
     },
     "metadata": {},
     "output_type": "display_data"
    },
    {
     "name": "stdout",
     "output_type": "stream",
     "text": [
      "\n",
      "Validation loss: 1.3095101043581963\n",
      "Validation set accuracy:  70.73170731707317 %\n",
      "\n",
      "\n",
      "Epoch 6\n"
     ]
    },
    {
     "data": {
      "application/vnd.jupyter.widget-view+json": {
       "model_id": "08d4e50aee024ddc9c0c496b18b0294a",
       "version_major": 2,
       "version_minor": 0
      },
      "text/plain": [
       "HBox(children=(FloatProgress(value=0.0, max=163.0), HTML(value='')))"
      ]
     },
     "metadata": {},
     "output_type": "display_data"
    }
   ],
   "source": [
    "#First Model Training\n",
    "fl_train_loader = DataLoader(fl_train, batch_size=BATCH_SIZE_FL, shuffle=True)\n",
    "fl_val_loader = DataLoader(fl_val, batch_size=BATCH_SIZE_FL, shuffle=True)\n",
    "fl_test_loader = DataLoader(fl_test, batch_size=BATCH_SIZE_FL, shuffle=True)\n",
    "    \n",
    "fl_model = model.CNN(dropout=DROPOUT_FL).to(device)\n",
    "fl_optimizer = optim.AdamW(fl_model.parameters(), lr=L_RATE_FL, weight_decay=WD_FL)\n",
    "fl_scheduler = torch.optim.lr_scheduler.CosineAnnealingLR(fl_optimizer, STEPS)\n",
    "    \n",
    "print(\"Training the first model to classify normal and infected images\")\n",
    "model.train(fl_model, device, nn.BCELoss(), fl_optimizer, fl_train_loader, fl_val_loader, N_EPOCH, PATIENCE, \"fl\", fl_scheduler, STEPS)\n",
    "\n",
    "print(\"\\n\\n\")\n",
    "print(\"Test Accuracy of the first model:\")\n",
    "model.test(fl_model, device, fl_test_loader)\n",
    "\n",
    "fl_model.to(\"cpu\")\n",
    "    \n",
    "model.save_model(fl_model, fl_optimizer, './saved_models/fl_model.pth')"
   ]
  },
  {
   "cell_type": "markdown",
   "metadata": {},
   "source": [
    "Training the Second Layer Model"
   ]
  },
  {
   "cell_type": "code",
   "execution_count": null,
   "metadata": {},
   "outputs": [],
   "source": [
    "#Second Model Training\n",
    "sl_train_loader = DataLoader(sl_train, batch_size=BATCH_SIZE_SL, shuffle=True)\n",
    "sl_val_loader = DataLoader(sl_val, batch_size=BATCH_SIZE_SL, shuffle=True)\n",
    "sl_test_loader = DataLoader(sl_test, batch_size=BATCH_SIZE_SL, shuffle=True)\n",
    "    \n",
    "sl_model = model.CNN(dropout=DROPOUT_SL).to(device)  \n",
    "sl_optimizer = optim.AdamW(sl_model.parameters(), lr=L_RATE_SL, weight_decay=WD_SL)\n",
    "sl_scheduler = torch.optim.lr_scheduler.CosineAnnealingLR(sl_optimizer, STEPS)\n",
    "\n",
    "print(\"\\n\\n\")\n",
    "print(\"Training the second model to classify COVID and non-COVID images\")\n",
    "model.train(sl_model, device, nn.BCELoss(), sl_optimizer, sl_train_loader, sl_val_loader, N_EPOCH, PATIENCE, \"sl\", sl_scheduler,STEPS)\n",
    "    \n",
    "print(\"\\n\\n\")\n",
    "print(\"Test Accuracy of the second model:\")\n",
    "model.test(sl_model, device, sl_test_loader)\n",
    "    \n",
    "sl_model.to(\"cpu\")\n",
    "    \n",
    "model.save_model(sl_model, sl_optimizer, './saved_models/sl_model.pth')"
   ]
  },
  {
   "cell_type": "markdown",
   "metadata": {},
   "source": [
    "Analyzing the performance of each model (first layer and second layer models) "
   ]
  },
  {
   "cell_type": "markdown",
   "metadata": {},
   "source": [
    "Learning Curve of the First Layer Model"
   ]
  },
  {
   "cell_type": "code",
   "execution_count": null,
   "metadata": {},
   "outputs": [],
   "source": [
    "Image(filename='./saved_graphs/fl_learning_curve.png') "
   ]
  },
  {
   "cell_type": "markdown",
   "metadata": {},
   "source": [
    "Learning Curve of the Second Layer Model"
   ]
  },
  {
   "cell_type": "code",
   "execution_count": null,
   "metadata": {},
   "outputs": [],
   "source": [
    "Image(filename='./saved_graphs/sl_learning_curve.png') "
   ]
  },
  {
   "cell_type": "markdown",
   "metadata": {},
   "source": [
    "Combine the 2 Models and Test the results on validation and test"
   ]
  },
  {
   "cell_type": "code",
   "execution_count": null,
   "metadata": {},
   "outputs": [],
   "source": [
    "final_val_loader = DataLoader(final_val, batch_size=BATCH_SIZE_FL, shuffle=False)\n",
    "final_test_loader = DataLoader(final_test, batch_size=BATCH_SIZE_FL, shuffle=False)\n",
    "    \n",
    "combined_model = model.load_combined('./saved_models/fl_model.pth','./saved_models/sl_model.pth',WD_FL ,L_RATE_FL, DROPOUT_FL, WD_SL, L_RATE_SL, DROPOUT_SL)\n",
    "pred = combined_model.predict_loader(device, final_val_loader)\n",
    "actual = torch.empty(0, 3).to(device)\n",
    "for _, labels in final_val_loader:\n",
    "    labels = labels.to(device)\n",
    "    actual = torch.cat((actual, labels), 0)\n",
    "print(\"Validation Results\")\n",
    "print(\"Accuracy: {}\".format(model.accuracy(pred, actual)))\n",
    "print(\"Precision: {}\".format(model.precision(pred, actual)))\n",
    "print(\"Recall: {}\".format(model.recall(pred, actual)))\n",
    "print()\n",
    "pred = combined_model.predict_loader(device, final_test_loader)\n",
    "actual = torch.empty(0, 3).to(device)\n",
    "for _, labels in final_test_loader:\n",
    "    labels = labels.to(device)\n",
    "    actual = torch.cat((actual, labels), 0)\n",
    "\n",
    "print(\"Test Results\")\n",
    "print(\"Accuracy: {}\".format(model.accuracy(pred, actual)))\n",
    "print(\"Precision: {}\".format(model.precision(pred, actual)))\n",
    "print(\"Recall: {}\".format(model.recall(pred, actual)))\n",
    "\n",
    "print(\"\\n\\n\")\n",
    "print(\"Visualizing the Test Set: \")\n",
    "utils.generate_performance_display(final_test_loader, pred, combined_labels)"
   ]
  }
 ],
 "metadata": {
  "kernelspec": {
   "display_name": "Python 3",
   "language": "python",
   "name": "python3"
  },
  "language_info": {
   "codemirror_mode": {
    "name": "ipython",
    "version": 3
   },
   "file_extension": ".py",
   "mimetype": "text/x-python",
   "name": "python",
   "nbconvert_exporter": "python",
   "pygments_lexer": "ipython3",
   "version": "3.7.10"
  }
 },
 "nbformat": 4,
 "nbformat_minor": 2
}
