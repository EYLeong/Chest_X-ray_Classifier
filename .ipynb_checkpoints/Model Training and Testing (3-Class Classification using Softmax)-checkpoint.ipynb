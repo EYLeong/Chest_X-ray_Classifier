{
 "cells": [
  {
   "cell_type": "code",
   "execution_count": 1,
   "metadata": {},
   "outputs": [],
   "source": [
    "%matplotlib inline\n",
    "\n",
    "# Matplotlib\n",
    "import matplotlib.pyplot as plt\n",
    "# Numpy\n",
    "import numpy as np\n",
    "# Pillow\n",
    "from PIL import Image\n",
    "# tqdm\n",
    "from tqdm.notebook import tqdm\n",
    "# Torch\n",
    "import torch\n",
    "from torch.utils.data import Dataset, DataLoader\n",
    "import torch.nn as nn\n",
    "import torch.optim as optim\n",
    "import torch.nn.functional as F\n",
    "from torch.autograd import Variable\n",
    "from torchvision import transforms\n",
    "# OS\n",
    "import os\n",
    "# Optuna for Hyperparameter Optimization\n",
    "import optuna\n",
    "from optuna.trial import TrialState\n",
    "# conda install -c conda-forge optuna"
   ]
  },
  {
   "cell_type": "markdown",
   "metadata": {},
   "source": [
    "Data Loading using the dataloader class"
   ]
  },
  {
   "cell_type": "code",
   "execution_count": 2,
   "metadata": {
    "code_folding": [
     0
    ]
   },
   "outputs": [],
   "source": [
    "class Lung_Dataset(Dataset):\n",
    "    \"\"\"\n",
    "    Lung Dataset Consisting of Infected and Non-Infected.\n",
    "    \"\"\"\n",
    "\n",
    "    def __init__(self, purpose, verbose=0):\n",
    "        \"\"\"\n",
    "        Constructor for generic Dataset class - simply assembles\n",
    "        the important parameters in attributes.\n",
    "        \n",
    "        Parameter:\n",
    "        -purpose variable should be set to a string of either 'train', 'test' or 'val'\n",
    "        -verbose takes an int of either 0,1 or 2. 0 will only differentiate between normal and infected, 1 will differentiate\n",
    "            between normal, covid and non-covid while 2 will only differentiate between covid and non-covid\n",
    "        \"\"\"\n",
    "        self.purpose = purpose\n",
    "        self.verbose = verbose\n",
    "        \n",
    "        # All images are of size 150 x 150\n",
    "        self.img_size = (150, 150)\n",
    "            \n",
    "        # The dataset has been split in training, testing and validation datasets\n",
    "        self.groups = ['train', 'test', 'val']\n",
    "        \n",
    "        # Path to images for different parts of the dataset\n",
    "        self.dataset_paths = {'train_normal': './dataset/train/normal/',\n",
    "                              'train_infected': './dataset/train/infected/',\n",
    "                              'train_infected_covid': './dataset/train/infected/covid',\n",
    "                              'train_infected_non_covid': './dataset/train/infected/non-covid',\n",
    "                              'test_normal': './dataset/test/normal/',\n",
    "                              'test_infected': './dataset/test/infected/',\n",
    "                              'test_infected_covid': './dataset/test/infected/covid',\n",
    "                              'test_infected_non_covid': './dataset/test/infected/non-covid',\n",
    "                              'val_normal': './dataset/val/normal/',\n",
    "                              'val_infected': './dataset/val/infected/',\n",
    "                              'val_infected_covid': './dataset/val/infected/covid',\n",
    "                              'val_infected_non_covid': './dataset/val/infected/non-covid'}\n",
    "        \n",
    "        self.dataset_numbers = {}\n",
    "        \n",
    "        # Consider normal and infected only\n",
    "        if verbose == 0:\n",
    "            self.classes = {0: 'normal', 1: 'infected'}\n",
    "            \n",
    "            #Populate self.dataset_numbers\n",
    "            for condition in self.classes.values():\n",
    "                key = \"{}_{}\".format(self.purpose, condition)\n",
    "                if condition == \"normal\":\n",
    "                    file_path = self.dataset_paths[key]\n",
    "                    count = len(os.listdir(file_path))\n",
    "                    self.dataset_numbers[key] = count\n",
    "                else:\n",
    "                    key1 = key + \"_covid\"\n",
    "                    key2 = key + \"_non_covid\"\n",
    "                    file_path1 = self.dataset_paths[key1]\n",
    "                    file_path2 = self.dataset_paths[key2]\n",
    "                    count1 = len(os.listdir(file_path1))\n",
    "                    count2 = len(os.listdir(file_path2))\n",
    "                    count = count1 + count2\n",
    "                    self.dataset_numbers[key] = count\n",
    "                       \n",
    "        #Consider normal, covid and non-covid\n",
    "        elif verbose == 1:\n",
    "            self.classes = {0: 'normal', 1: 'covid', 2: 'non_covid'}\n",
    "        \n",
    "            #Populate self.dataset_numbers\n",
    "            for condition in self.classes.values():\n",
    "                if condition == \"normal\":\n",
    "                    key = \"{}_{}\".format(self.purpose, condition)\n",
    "                    file_path = self.dataset_paths[key]\n",
    "                    count = len(os.listdir(file_path))\n",
    "                    self.dataset_numbers[key] = count\n",
    "                else:\n",
    "                    key = \"{}_infected\".format(self.purpose)\n",
    "                    key1 = key + \"_covid\"\n",
    "                    key2 = key + \"_non_covid\"\n",
    "                    file_path1 = self.dataset_paths[key1]\n",
    "                    file_path2 = self.dataset_paths[key2]\n",
    "                    count1 = len(os.listdir(file_path1))\n",
    "                    count2 = len(os.listdir(file_path2))\n",
    "                    self.dataset_numbers[key1] = count1\n",
    "                    self.dataset_numbers[key2] = count2\n",
    "                \n",
    "        #Consider covid and non-covid\n",
    "        elif verbose == 2:\n",
    "            self.classes = {0: 'covid', 1 :'non_covid' }\n",
    "\n",
    "            #Populate self.dataset_numbers\n",
    "            for condition in self.classes.values():\n",
    "                key = \"{}_infected\".format(self.purpose)\n",
    "                key1 = key + \"_covid\"\n",
    "                key2 = key + \"_non_covid\"\n",
    "                file_path1 = self.dataset_paths[key1]\n",
    "                file_path2 = self.dataset_paths[key2]\n",
    "                count1 = len(os.listdir(file_path1))\n",
    "                count2 = len(os.listdir(file_path2))\n",
    "                self.dataset_numbers[key1] = count1\n",
    "                self.dataset_numbers[key2] = count2\n",
    "            \n",
    "        else:\n",
    "            err_msg  = \"Verbose argument only takes in an int of either 0,1 or 2\"\n",
    "            raise TypeError(err_msg)\n",
    "        \n",
    "        \n",
    "    def describe(self):\n",
    "        \"\"\"\n",
    "        Descriptor function.\n",
    "        Will print details about the dataset when called.\n",
    "        \"\"\"\n",
    "        \n",
    "        # Generate description\n",
    "        msg = \"This is the Lung {} Dataset in the 50.039 Deep Learning class project\".format(self.purpose)\n",
    "        msg += \" in Feb-March 2021. \\n\"\n",
    "        msg += \"It contains a total of {} images, \".format(sum(self.dataset_numbers.values()))\n",
    "        msg += \"of size {} by {}.\\n\".format(self.img_size[0], self.img_size[1])\n",
    "        msg += \"The images are stored in the following locations \"\n",
    "        msg += \"and each one contains the following number of images:\\n\"\n",
    "        for key, val in self.dataset_numbers.items():\n",
    "            if key != 'infected':\n",
    "                file_path = self.dataset_paths[key]\n",
    "            else:\n",
    "                file_path = self.dataset_paths\n",
    "            msg += \" - {}, in folder {}: {} images.\\n\".format(key, file_path, val)\n",
    "        print(msg)\n",
    "        \n",
    "        \n",
    "    def open_img(self, class_val, index_val):\n",
    "        \"\"\"\n",
    "        Opens image with specified parameters.\n",
    "        \n",
    "        Parameters:\n",
    "        - class_val variable should be set to 'normal' or 'infected'.\n",
    "        - index_val should be an integer with values between 0 and the maximal number of images in dataset.\n",
    "        \n",
    "        Returns loaded image as a normalized Numpy array.\n",
    "        \"\"\"\n",
    "        group_val = self.purpose\n",
    "        err_msg = \"Error - class_val variable should be set to 'normal', 'infected', 'covid' or 'non_covid'.\"\n",
    "        assert class_val in self.classes.values(), err_msg\n",
    "        \n",
    "        if class_val == 'covid' or class_val == 'non_covid':\n",
    "            class_val = 'infected_' + class_val\n",
    "            \n",
    "        max_val = self.dataset_numbers['{}_{}'.format(group_val, class_val)]\n",
    "        err_msg = \"Error - index_val variable should be an integer between 0 and the maximal number of images.\"\n",
    "        err_msg += \"\\n(In {}/{}, you have {} images.)\".format(group_val, class_val, max_val)\n",
    "        assert isinstance(index_val, int), err_msg\n",
    "        assert index_val >= 0 and index_val <= max_val, err_msg\n",
    "        \n",
    "        # Open file as before\n",
    "        if class_val != \"infected\":\n",
    "            path_to_file = '{}/{}.jpg'.format(self.dataset_paths['{}_{}'.format(group_val, class_val)], index_val)\n",
    "        else:\n",
    "            covid_count = len(os.listdir(self.dataset_paths['{}_{}_covid'.format(group_val, class_val)]))\n",
    "            if index_val < covid_count:\n",
    "                path_to_file = '{}/{}.jpg'.format(self.dataset_paths['{}_{}_covid'.format(group_val, class_val)], index_val)\n",
    "            else:\n",
    "                index_val = index_val - covid_count\n",
    "                path_to_file = '{}/{}.jpg'.format(self.dataset_paths['{}_{}_non_covid'.format(group_val, class_val)], index_val)\n",
    "        with open(path_to_file, 'rb') as f:\n",
    "            im = np.asarray(Image.open(f))/255\n",
    "        f.close()\n",
    "        return im\n",
    "    \n",
    "    \n",
    "    def show_img(self, class_val, index_val):\n",
    "        \"\"\"\n",
    "        Opens, then displays image with specified parameters.\n",
    "        \n",
    "        Parameters:\n",
    "        - class_val variable should be set to 'normal' or 'infected'.\n",
    "        - index_val should be an integer with values between 0 and the maximal number of images in dataset.\n",
    "        \"\"\"\n",
    "        # Open image\n",
    "        im = self.open_img(class_val, index_val)\n",
    "        \n",
    "        # Display\n",
    "        plt.imshow(im)\n",
    "        \n",
    "    def __len__(self):\n",
    "        \"\"\"\n",
    "        Length special method, returns the number of images in dataset.\n",
    "        \"\"\"\n",
    "        \n",
    "        # Length function\n",
    "        return sum(self.dataset_numbers.values())\n",
    "    \n",
    "    \n",
    "    def __getitem__(self, index):\n",
    "        \"\"\"\n",
    "        Getitem special method.\n",
    "        \n",
    "        Expects an integer value index, between 0 and len(self) - 1.\n",
    "        \n",
    "        Returns the image and its label as a one hot vector, both\n",
    "        in torch tensor format in dataset.\n",
    "        \"\"\"\n",
    "        #If we only have 2 classes\n",
    "        if self.verbose == 0 or self.verbose == 2:\n",
    "            first_val = int(list(self.dataset_numbers.values())[0])\n",
    "            if index < first_val:\n",
    "                class_val = self.classes[0]\n",
    "                label = torch.Tensor([1, 0])\n",
    "            else:\n",
    "                class_val = self.classes[1]\n",
    "                index = index - first_val\n",
    "                label = torch.Tensor([0, 1])\n",
    "            im = self.open_img(class_val, index)\n",
    "            im = transforms.functional.to_tensor(np.array(im)).float()\n",
    "          \n",
    "        #If we have 3 classes to consider\n",
    "        elif self.verbose == 1:\n",
    "            first_val = int(list(self.dataset_numbers.values())[0])\n",
    "            second_val = int(list(self.dataset_numbers.values())[1])\n",
    "            if index < first_val:\n",
    "                class_val = self.classes[0]\n",
    "                label = torch.Tensor([1, 0, 0])\n",
    "            elif index >= first_val and index < first_val + second_val:\n",
    "                index = index - first_val\n",
    "                class_val = self.classes[1]\n",
    "                label = torch.Tensor([0,1,0])\n",
    "            else:\n",
    "                index = index-(first_val + second_val)\n",
    "                class_val = self.classes[2]\n",
    "                label = torch.Tensor([0,0,1])\n",
    "            im = self.open_img(class_val, index)\n",
    "            im = transforms.functional.to_tensor(np.array(im)).float()\n",
    "                \n",
    "        else:\n",
    "            raise TypeError(\"Verbose value is not 0,1 or 2\")\n",
    "        return im, label"
   ]
  },
  {
   "cell_type": "code",
   "execution_count": 3,
   "metadata": {},
   "outputs": [],
   "source": [
    "\"\"\"\n",
    "Data Split\n",
    "\"\"\"\n",
    "\n",
    "fl_labels = {\n",
    "0 : \"Normal\",\n",
    "1 : \"Covid\",\n",
    "2 : \"Non-Covid\"\n",
    "}\n",
    "\n",
    "train_data = Lung_Dataset('train', verbose = 1)\n",
    "test_data = Lung_Dataset('test', verbose = 1)\n",
    "val_data = Lung_Dataset('val', verbose = 1)\n"
   ]
  },
  {
   "cell_type": "markdown",
   "metadata": {},
   "source": [
    "Model Construction"
   ]
  },
  {
   "cell_type": "code",
   "execution_count": 4,
   "metadata": {
    "code_folding": []
   },
   "outputs": [],
   "source": [
    "class CNN_2(nn.Module):\n",
    "    def __init__(self):\n",
    "        super(CNN_2,self).__init__()\n",
    "        \n",
    "        \"\"\"\n",
    "        Insert each layer blocks. Same architecture will be used for the first layer and second layer CNNs\n",
    "        \"\"\"\n",
    "        self.conv1 = nn.Sequential(\n",
    "            nn.Conv2d(1, 64, kernel_size=3, stride=1, padding=1),\n",
    "            nn.MaxPool2d(kernel_size=2, stride=2),\n",
    "            nn.ReLU(),\n",
    "            nn.BatchNorm2d(64),\n",
    "            nn.Dropout(p=0.05))\n",
    "        self.conv2 = nn.Sequential(\n",
    "            nn.Conv2d(64, 128, kernel_size=3, stride=1, padding=1),\n",
    "            nn.MaxPool2d(kernel_size=2, stride=2),\n",
    "            nn.ReLU(),\n",
    "            nn.BatchNorm2d(128),\n",
    "            nn.Dropout(p=0.05))\n",
    "        self.conv3 = nn.Sequential(\n",
    "            nn.Conv2d(128, 256, kernel_size=3, stride=1, padding=1),\n",
    "            nn.MaxPool2d(kernel_size=2, stride=2),\n",
    "            nn.ReLU(),\n",
    "            nn.BatchNorm2d(256),\n",
    "            nn.Dropout(p=0.05))\n",
    "        self.conv4 = nn.Sequential(\n",
    "            nn.Conv2d(256, 512, kernel_size=3, stride=1, padding=1),\n",
    "            nn.MaxPool2d(kernel_size=2, stride=2),\n",
    "            nn.ReLU(),\n",
    "            nn.BatchNorm2d(512),\n",
    "            nn.Dropout(p=0.05))\n",
    "\n",
    "        self.final = nn.Sequential(\n",
    "            nn.AdaptiveAvgPool2d((1,1)),\n",
    "            nn.Flatten())\n",
    "\n",
    "        self.fc = nn.Linear(512, 3)\n",
    "        \n",
    "        \"\"\"\n",
    "        Initialization of the Conv layers and FC layer using Kaiming initialization\n",
    "        \"\"\"\n",
    "        self.conv1.apply(init_weights)\n",
    "        self.conv2.apply(init_weights)\n",
    "        self.conv3.apply(init_weights)\n",
    "        self.conv4.apply(init_weights)\n",
    "        self.fc.apply(init_weights)\n",
    "    \n",
    "    def forward(self,x):\n",
    "        \n",
    "        x = self.conv1(x)\n",
    "        x = self.conv2(x)\n",
    "        x = self.conv3(x)\n",
    "        x = self.conv4(x)\n",
    "        x = self.final(x)\n",
    "        x = self.fc(x)\n",
    "\n",
    "        return F.log_softmax(x, dim=1)"
   ]
  },
  {
   "cell_type": "code",
   "execution_count": 5,
   "metadata": {
    "code_folding": []
   },
   "outputs": [],
   "source": [
    "def init_weights(m):\n",
    "    if type(m) == nn.Linear or type(m) == nn.Conv2d:\n",
    "        nn.init.kaiming_normal_(m.weight, nonlinearity='relu')\n",
    "\n",
    "def train(model, device, train_loader, optimizer, epoch):\n",
    "    model.train()\n",
    "    \n",
    "    running_loss = 0\n",
    "    \n",
    "    tk0 = tqdm(train_loader, total=int(len(train_loader)))\n",
    "    counter = 0\n",
    "    \n",
    "    for batch_idx, (data, target) in enumerate(tk0):\n",
    "        data, target = data.to(device), target.to(device, dtype=torch.int64)\n",
    "        target = torch.argmax(target, 1)\n",
    "        \n",
    "        optimizer.zero_grad()\n",
    "        \n",
    "        output = model.forward(data)\n",
    "        loss_criterion = nn.NLLLoss()\n",
    "        loss = loss_criterion(output, target)\n",
    "        loss.backward()\n",
    "        optimizer.step()\n",
    "        \n",
    "        running_loss += loss.item()\n",
    "        \n",
    "        counter += 1\n",
    "        tk0.set_postfix(loss=(running_loss / (counter * train_loader.batch_size)))\n",
    "        \n",
    "        if (batch_idx + 1) % 100 == 0:\n",
    "            print('Epoch:', epoch, ',Training Loss:', running_loss / 100)\n",
    "            running_loss = 0\n",
    "        \n",
    "def validate(model, device, val_loader, loss_criterion, plot=False):\n",
    "    model.eval()\n",
    "\n",
    "    correct = 0\n",
    "    val_loss = 0\n",
    "\n",
    "    with torch.no_grad():\n",
    "        for data, target in val_loader:\n",
    "            data, target = data.to(device), target.to(device, dtype=torch.int64)\n",
    "            target = torch.argmax(target, 1)\n",
    "                  \n",
    "            output = model.forward(data)\n",
    "            val_loss += loss_criterion(output, target).item()\n",
    "            \n",
    "            ps = torch.exp(output)\n",
    "            pred = ps.max(dim=1)[1]\n",
    "            \n",
    "            equal_data = torch.sum(target.data == pred).item()\n",
    "            correct += equal_data\n",
    "\n",
    "    print(\"Validation loss: {}\".format(val_loss / len(val_loader)))\n",
    "    print('Validation set accuracy: ', 100. * correct / len(val_loader.dataset), '%')\n",
    "    \n",
    "    return (val_loss / len(val_loader))\n",
    "    \n",
    "def test(model, device, test_loader, plot=False):\n",
    "    model.eval()\n",
    "    \n",
    "    correct = 0\n",
    "    \n",
    "    with torch.no_grad():\n",
    "        for data, target in test_loader:\n",
    "            data, target = data.to(device), target.to(device, dtype=torch.int64)\n",
    "            target = torch.argmax(target, 1)\n",
    "            \n",
    "            output = model.forward(data)\n",
    "            ps = torch.exp(output)\n",
    "            pred = ps.max(dim=1)[1]\n",
    "            \n",
    "            equal_data = torch.sum(target.data == pred).item()\n",
    "            correct += equal_data\n",
    "\n",
    "    print('Test set accuracy: ', 100. * correct / len(test_loader.dataset), '%')"
   ]
  },
  {
   "cell_type": "code",
   "execution_count": 6,
   "metadata": {},
   "outputs": [
    {
     "name": "stdout",
     "output_type": "stream",
     "text": [
      "Training the model\n"
     ]
    },
    {
     "data": {
      "application/vnd.jupyter.widget-view+json": {
       "model_id": "5d14ea02e4a8467885ecd0c011a00c3c",
       "version_major": 2,
       "version_minor": 0
      },
      "text/plain": [
       "  0%|          | 0/163 [00:00<?, ?it/s]"
      ]
     },
     "metadata": {},
     "output_type": "display_data"
    },
    {
     "name": "stdout",
     "output_type": "stream",
     "text": [
      "Epoch: 1 ,Training Loss: 0.9457382693886757\n",
      "Validation loss: 1.8361788988113403\n",
      "Validation set accuracy:  36.0 %\n"
     ]
    },
    {
     "data": {
      "application/vnd.jupyter.widget-view+json": {
       "model_id": "25a416e91c064bcc851a1282cb286b5a",
       "version_major": 2,
       "version_minor": 0
      },
      "text/plain": [
       "  0%|          | 0/163 [00:00<?, ?it/s]"
      ]
     },
     "metadata": {},
     "output_type": "display_data"
    },
    {
     "name": "stdout",
     "output_type": "stream",
     "text": [
      "Epoch: 2 ,Training Loss: 0.6238113427162171\n",
      "Validation loss: 1.7580407857894897\n",
      "Validation set accuracy:  40.0 %\n"
     ]
    },
    {
     "data": {
      "application/vnd.jupyter.widget-view+json": {
       "model_id": "3cbec51cc6ed4624bcee42f918021d24",
       "version_major": 2,
       "version_minor": 0
      },
      "text/plain": [
       "  0%|          | 0/163 [00:00<?, ?it/s]"
      ]
     },
     "metadata": {},
     "output_type": "display_data"
    },
    {
     "name": "stdout",
     "output_type": "stream",
     "text": [
      "Epoch: 3 ,Training Loss: 0.545665947496891\n",
      "Validation loss: 1.946791410446167\n",
      "Validation set accuracy:  56.0 %\n"
     ]
    },
    {
     "data": {
      "application/vnd.jupyter.widget-view+json": {
       "model_id": "a13abd97aef14e1a8b1f150941c251e6",
       "version_major": 2,
       "version_minor": 0
      },
      "text/plain": [
       "  0%|          | 0/163 [00:00<?, ?it/s]"
      ]
     },
     "metadata": {},
     "output_type": "display_data"
    },
    {
     "name": "stdout",
     "output_type": "stream",
     "text": [
      "Epoch: 4 ,Training Loss: 0.5326520341634751\n",
      "Validation loss: 1.3080010414123535\n",
      "Validation set accuracy:  44.0 %\n"
     ]
    },
    {
     "data": {
      "application/vnd.jupyter.widget-view+json": {
       "model_id": "c03969f9390e4956930592df881aba19",
       "version_major": 2,
       "version_minor": 0
      },
      "text/plain": [
       "  0%|          | 0/163 [00:00<?, ?it/s]"
      ]
     },
     "metadata": {},
     "output_type": "display_data"
    },
    {
     "name": "stdout",
     "output_type": "stream",
     "text": [
      "Epoch: 5 ,Training Loss: 0.4622760179638863\n",
      "Validation loss: 0.8116049766540527\n",
      "Validation set accuracy:  60.0 %\n"
     ]
    },
    {
     "data": {
      "application/vnd.jupyter.widget-view+json": {
       "model_id": "a5f1a2fe175549528d3aea9e2ffbc40c",
       "version_major": 2,
       "version_minor": 0
      },
      "text/plain": [
       "  0%|          | 0/163 [00:00<?, ?it/s]"
      ]
     },
     "metadata": {},
     "output_type": "display_data"
    },
    {
     "name": "stdout",
     "output_type": "stream",
     "text": [
      "Epoch: 6 ,Training Loss: 0.44620569944381716\n",
      "Validation loss: 1.035578966140747\n",
      "Validation set accuracy:  64.0 %\n"
     ]
    },
    {
     "data": {
      "application/vnd.jupyter.widget-view+json": {
       "model_id": "677cb747d1854d00b3792bc0d4abcff9",
       "version_major": 2,
       "version_minor": 0
      },
      "text/plain": [
       "  0%|          | 0/163 [00:00<?, ?it/s]"
      ]
     },
     "metadata": {},
     "output_type": "display_data"
    },
    {
     "name": "stdout",
     "output_type": "stream",
     "text": [
      "Epoch: 7 ,Training Loss: 0.4328462307155132\n",
      "Validation loss: 0.8913108706474304\n",
      "Validation set accuracy:  64.0 %\n"
     ]
    },
    {
     "data": {
      "application/vnd.jupyter.widget-view+json": {
       "model_id": "d973430711d64964bd60535d9725c82b",
       "version_major": 2,
       "version_minor": 0
      },
      "text/plain": [
       "  0%|          | 0/163 [00:00<?, ?it/s]"
      ]
     },
     "metadata": {},
     "output_type": "display_data"
    },
    {
     "name": "stdout",
     "output_type": "stream",
     "text": [
      "Epoch: 8 ,Training Loss: 0.4239601157605648\n",
      "Validation loss: 1.8745046854019165\n",
      "Validation set accuracy:  32.0 %\n"
     ]
    },
    {
     "data": {
      "application/vnd.jupyter.widget-view+json": {
       "model_id": "2cd08f5e0324473b9292ff234cdbae1b",
       "version_major": 2,
       "version_minor": 0
      },
      "text/plain": [
       "  0%|          | 0/163 [00:00<?, ?it/s]"
      ]
     },
     "metadata": {},
     "output_type": "display_data"
    },
    {
     "name": "stdout",
     "output_type": "stream",
     "text": [
      "Epoch: 9 ,Training Loss: 0.40739466458559037\n",
      "Validation loss: 1.1481510400772095\n",
      "Validation set accuracy:  68.0 %\n"
     ]
    },
    {
     "data": {
      "application/vnd.jupyter.widget-view+json": {
       "model_id": "f68d364bdf0546fcbbcfd732db0671c3",
       "version_major": 2,
       "version_minor": 0
      },
      "text/plain": [
       "  0%|          | 0/163 [00:00<?, ?it/s]"
      ]
     },
     "metadata": {},
     "output_type": "display_data"
    },
    {
     "name": "stdout",
     "output_type": "stream",
     "text": [
      "Epoch: 10 ,Training Loss: 0.39348006665706636\n",
      "Validation loss: 0.7677351236343384\n",
      "Validation set accuracy:  56.0 %\n"
     ]
    },
    {
     "data": {
      "application/vnd.jupyter.widget-view+json": {
       "model_id": "4aac8a5acbb249d4b3d41cace1baeafe",
       "version_major": 2,
       "version_minor": 0
      },
      "text/plain": [
       "  0%|          | 0/163 [00:00<?, ?it/s]"
      ]
     },
     "metadata": {},
     "output_type": "display_data"
    },
    {
     "name": "stdout",
     "output_type": "stream",
     "text": [
      "Epoch: 11 ,Training Loss: 0.38165030494332314\n",
      "Validation loss: 0.9387985467910767\n",
      "Validation set accuracy:  48.0 %\n"
     ]
    },
    {
     "data": {
      "application/vnd.jupyter.widget-view+json": {
       "model_id": "0ffdd60779444110a1c3b7f4a4c5d581",
       "version_major": 2,
       "version_minor": 0
      },
      "text/plain": [
       "  0%|          | 0/163 [00:00<?, ?it/s]"
      ]
     },
     "metadata": {},
     "output_type": "display_data"
    },
    {
     "name": "stdout",
     "output_type": "stream",
     "text": [
      "Epoch: 12 ,Training Loss: 0.3793597786128521\n",
      "Validation loss: 1.6688315868377686\n",
      "Validation set accuracy:  40.0 %\n"
     ]
    },
    {
     "data": {
      "application/vnd.jupyter.widget-view+json": {
       "model_id": "523a2871781a4981943fe0c0ed0f50ef",
       "version_major": 2,
       "version_minor": 0
      },
      "text/plain": [
       "  0%|          | 0/163 [00:00<?, ?it/s]"
      ]
     },
     "metadata": {},
     "output_type": "display_data"
    },
    {
     "name": "stdout",
     "output_type": "stream",
     "text": [
      "Epoch: 13 ,Training Loss: 0.36605500370264055\n",
      "Validation loss: 0.6838551163673401\n",
      "Validation set accuracy:  84.0 %\n"
     ]
    },
    {
     "data": {
      "application/vnd.jupyter.widget-view+json": {
       "model_id": "220bac1c9d684ca894848b3c00c3bcab",
       "version_major": 2,
       "version_minor": 0
      },
      "text/plain": [
       "  0%|          | 0/163 [00:00<?, ?it/s]"
      ]
     },
     "metadata": {},
     "output_type": "display_data"
    },
    {
     "name": "stdout",
     "output_type": "stream",
     "text": [
      "Epoch: 14 ,Training Loss: 0.3403735212981701\n",
      "Validation loss: 1.4717533588409424\n",
      "Validation set accuracy:  48.0 %\n"
     ]
    },
    {
     "data": {
      "application/vnd.jupyter.widget-view+json": {
       "model_id": "de7068e973ae4d539345a55d4cd937d8",
       "version_major": 2,
       "version_minor": 0
      },
      "text/plain": [
       "  0%|          | 0/163 [00:00<?, ?it/s]"
      ]
     },
     "metadata": {},
     "output_type": "display_data"
    },
    {
     "name": "stdout",
     "output_type": "stream",
     "text": [
      "Epoch: 15 ,Training Loss: 0.32655869863927367\n",
      "Validation loss: 0.9029462933540344\n",
      "Validation set accuracy:  68.0 %\n"
     ]
    },
    {
     "data": {
      "application/vnd.jupyter.widget-view+json": {
       "model_id": "012698393fe44e86966816ce040c0492",
       "version_major": 2,
       "version_minor": 0
      },
      "text/plain": [
       "  0%|          | 0/163 [00:00<?, ?it/s]"
      ]
     },
     "metadata": {},
     "output_type": "display_data"
    },
    {
     "name": "stdout",
     "output_type": "stream",
     "text": [
      "Epoch: 16 ,Training Loss: 0.30317644350230694\n",
      "Validation loss: 0.7561428546905518\n",
      "Validation set accuracy:  60.0 %\n"
     ]
    },
    {
     "data": {
      "application/vnd.jupyter.widget-view+json": {
       "model_id": "f45cf86075fc48afa3ee8429ebd84ef1",
       "version_major": 2,
       "version_minor": 0
      },
      "text/plain": [
       "  0%|          | 0/163 [00:00<?, ?it/s]"
      ]
     },
     "metadata": {},
     "output_type": "display_data"
    },
    {
     "name": "stdout",
     "output_type": "stream",
     "text": [
      "Epoch: 17 ,Training Loss: 0.289924177005887\n",
      "Validation loss: 1.0754841566085815\n",
      "Validation set accuracy:  60.0 %\n"
     ]
    },
    {
     "data": {
      "application/vnd.jupyter.widget-view+json": {
       "model_id": "c0336350fffa4d748f5afb3e8b88c126",
       "version_major": 2,
       "version_minor": 0
      },
      "text/plain": [
       "  0%|          | 0/163 [00:00<?, ?it/s]"
      ]
     },
     "metadata": {},
     "output_type": "display_data"
    },
    {
     "name": "stdout",
     "output_type": "stream",
     "text": [
      "Epoch: 18 ,Training Loss: 0.253987423107028\n",
      "Validation loss: 0.9219520688056946\n",
      "Validation set accuracy:  68.0 %\n",
      "\n",
      "\n",
      "\n",
      "Test Accuracy of the model:\n"
     ]
    },
    {
     "ename": "NameError",
     "evalue": "name 'fl_model' is not defined",
     "output_type": "error",
     "traceback": [
      "\u001b[1;31m---------------------------------------------------------------------------\u001b[0m",
      "\u001b[1;31mNameError\u001b[0m                                 Traceback (most recent call last)",
      "\u001b[1;32m<ipython-input-6-8ea6f21d6625>\u001b[0m in \u001b[0;36m<module>\u001b[1;34m\u001b[0m\n\u001b[0;32m     44\u001b[0m \u001b[1;33m\u001b[0m\u001b[0m\n\u001b[0;32m     45\u001b[0m \u001b[1;32mif\u001b[0m \u001b[0m__name__\u001b[0m \u001b[1;33m==\u001b[0m \u001b[1;34m'__main__'\u001b[0m\u001b[1;33m:\u001b[0m\u001b[1;33m\u001b[0m\u001b[1;33m\u001b[0m\u001b[0m\n\u001b[1;32m---> 46\u001b[1;33m     \u001b[0mmain\u001b[0m\u001b[1;33m(\u001b[0m\u001b[1;33m)\u001b[0m\u001b[1;33m\u001b[0m\u001b[1;33m\u001b[0m\u001b[0m\n\u001b[0m",
      "\u001b[1;32m<ipython-input-6-8ea6f21d6625>\u001b[0m in \u001b[0;36mmain\u001b[1;34m()\u001b[0m\n\u001b[0;32m     40\u001b[0m     \u001b[0mprint\u001b[0m\u001b[1;33m(\u001b[0m\u001b[1;34m\"\\n\\n\"\u001b[0m\u001b[1;33m)\u001b[0m\u001b[1;33m\u001b[0m\u001b[1;33m\u001b[0m\u001b[0m\n\u001b[0;32m     41\u001b[0m     \u001b[0mprint\u001b[0m\u001b[1;33m(\u001b[0m\u001b[1;34m\"Test Accuracy of the model:\"\u001b[0m\u001b[1;33m)\u001b[0m\u001b[1;33m\u001b[0m\u001b[1;33m\u001b[0m\u001b[0m\n\u001b[1;32m---> 42\u001b[1;33m     \u001b[0mtest\u001b[0m\u001b[1;33m(\u001b[0m\u001b[0mfl_model\u001b[0m\u001b[1;33m,\u001b[0m \u001b[0mdevice\u001b[0m\u001b[1;33m,\u001b[0m \u001b[0mtest_loader\u001b[0m\u001b[1;33m)\u001b[0m\u001b[1;33m\u001b[0m\u001b[1;33m\u001b[0m\u001b[0m\n\u001b[0m\u001b[0;32m     43\u001b[0m \u001b[1;33m\u001b[0m\u001b[0m\n\u001b[0;32m     44\u001b[0m \u001b[1;33m\u001b[0m\u001b[0m\n",
      "\u001b[1;31mNameError\u001b[0m: name 'fl_model' is not defined"
     ]
    }
   ],
   "source": [
    "def main():\n",
    "    N_EPOCH = 200\n",
    "    L_RATE = 0.005\n",
    "    BETAS = (0.9,0.999)\n",
    "    bs_val = 32\n",
    "    \n",
    "    stop_threshold = 0.0005\n",
    "    temp_loss = None\n",
    "    early_stop = 0\n",
    "    \n",
    "    device = torch.device(\"cuda\" if torch.cuda.is_available() else \"cpu\")\n",
    "\n",
    "    train_loader = DataLoader(train_data, batch_size=bs_val, shuffle = True)\n",
    "    val_loader = DataLoader(val_data, batch_size=bs_val, shuffle = True)\n",
    "    test_loader = DataLoader(test_data, batch_size=bs_val, shuffle = True)\n",
    "    \n",
    "    model = CNN_2().to(device)\n",
    "    optimizer = optim.Adam(model.parameters(), lr=L_RATE, betas=BETAS)\n",
    "    \n",
    "    print(\"Training the model\")\n",
    "    for epoch in range(1,N_EPOCH+1):\n",
    "        train(model, device, train_loader, optimizer, epoch)\n",
    "        val_loss = validate(model, device, val_loader, nn.NLLLoss())\n",
    "        \n",
    "        \"\"\"\n",
    "        Early Stopping \n",
    "        \"\"\"\n",
    "        if temp_loss == None:\n",
    "            temp_loss = val_loss\n",
    "        else:\n",
    "            if val_loss < temp_loss:\n",
    "                early_stop = 0\n",
    "                temp_loss = val_loss\n",
    "            else:\n",
    "                early_stop += 1\n",
    "                \n",
    "        if early_stop == 5:\n",
    "            break\n",
    "\n",
    "    print(\"\\n\\n\")\n",
    "    print(\"Test Accuracy of the model:\")\n",
    "    test(model, device, test_loader)\n",
    "\n",
    "    \n",
    "if __name__ == '__main__':\n",
    "    main()"
   ]
  },
  {
   "cell_type": "code",
   "execution_count": null,
   "metadata": {},
   "outputs": [],
   "source": []
  },
  {
   "cell_type": "code",
   "execution_count": null,
   "metadata": {},
   "outputs": [],
   "source": []
  },
  {
   "cell_type": "code",
   "execution_count": null,
   "metadata": {},
   "outputs": [],
   "source": []
  },
  {
   "cell_type": "code",
   "execution_count": null,
   "metadata": {},
   "outputs": [],
   "source": []
  },
  {
   "cell_type": "code",
   "execution_count": null,
   "metadata": {},
   "outputs": [],
   "source": []
  },
  {
   "cell_type": "code",
   "execution_count": null,
   "metadata": {},
   "outputs": [],
   "source": []
  },
  {
   "cell_type": "code",
   "execution_count": null,
   "metadata": {},
   "outputs": [],
   "source": []
  },
  {
   "cell_type": "code",
   "execution_count": null,
   "metadata": {},
   "outputs": [],
   "source": [
    "'''\n",
    "Placeholder - Code to generate images and the corresponding labels\n",
    "if plot == True:\n",
    "        example_data = np.zeros([24, 150, 150])\n",
    "        example_pred = np.zeros(24)\n",
    "        \n",
    "        for i in range(24):\n",
    "            example_data[i] = data[i][0].to(\"cpu\").numpy()\n",
    "            example_pred[i] = pred[i].to(\"cpu\").numpy()\n",
    "                    \n",
    "        for i in range(24):\n",
    "            plt.subplot(5,5,i+1)\n",
    "            plt.imshow(example_data[i], cmap='gray', interpolation='none')\n",
    "            plt.title(fl_labels[example_pred[i]])\n",
    "            plt.xticks([])\n",
    "            plt.yticks([])\n",
    "        plt.show()\n",
    "'''"
   ]
  }
 ],
 "metadata": {
  "kernelspec": {
   "display_name": "Python 3",
   "language": "python",
   "name": "python3"
  },
  "language_info": {
   "codemirror_mode": {
    "name": "ipython",
    "version": 3
   },
   "file_extension": ".py",
   "mimetype": "text/x-python",
   "name": "python",
   "nbconvert_exporter": "python",
   "pygments_lexer": "ipython3",
   "version": "3.7.4"
  }
 },
 "nbformat": 4,
 "nbformat_minor": 2
}
