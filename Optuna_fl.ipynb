{
 "cells": [
  {
   "cell_type": "code",
   "execution_count": 1,
   "metadata": {},
   "outputs": [],
   "source": [
    "import model, data\n",
    "\n",
    "import torch\n",
    "from torch.utils.data import DataLoader\n",
    "from torch import optim, nn\n",
    "\n",
    "import copy\n",
    "import optuna"
   ]
  },
  {
   "cell_type": "code",
   "execution_count": 2,
   "metadata": {},
   "outputs": [],
   "source": [
    "DEVICE = torch.device(\"cuda\" if torch.cuda.is_available() else \"cpu\")\n",
    "EPOCHS = 200\n",
    "PATIENCE = 5"
   ]
  },
  {
   "cell_type": "code",
   "execution_count": 3,
   "metadata": {},
   "outputs": [],
   "source": [
    "TRAIN = data.Lung_Dataset('train', verbose = 0)\n",
    "VAL = data.Lung_Dataset('test', verbose = 0)"
   ]
  },
  {
   "cell_type": "code",
   "execution_count": 4,
   "metadata": {},
   "outputs": [],
   "source": [
    "def train(model, device, loss_criterion, optimizer, train_loader, val_loader, epochs, patience):\n",
    "    best_loss = float(\"inf\")\n",
    "    early_stop = 0\n",
    "    best_weights = None\n",
    "    \n",
    "    for i in range(epochs):\n",
    "        train_loss = train_epoch(model, device, loss_criterion, optimizer, train_loader)\n",
    "        val_loss = validate(model, device, loss_criterion, val_loader)\n",
    "        \n",
    "        \"\"\"\n",
    "        Early Stopping \n",
    "        \"\"\"\n",
    "        if val_loss < best_loss:\n",
    "            early_stop = 0\n",
    "            best_loss = val_loss\n",
    "            best_weights = copy.deepcopy(model.state_dict())\n",
    "        else:\n",
    "            early_stop += 1\n",
    "                \n",
    "        if early_stop == patience:\n",
    "            model.load_state_dict(best_weights)\n",
    "            break\n",
    "    return best_loss\n",
    "\n",
    "def train_epoch(model, device, loss_criterion, optimizer, train_loader):\n",
    "    model.to(device)\n",
    "    model.train()\n",
    "    \n",
    "    running_loss = 0\n",
    "    \n",
    "    counter = 0\n",
    "    \n",
    "    for batch_idx, (data, target) in enumerate(train_loader):\n",
    "        data, target = data.to(device), target.to(device)\n",
    "        optimizer.zero_grad()\n",
    "        \n",
    "        output = model.forward(data)\n",
    "        \n",
    "        target = target.argmax(dim=1, keepdim=True).float()\n",
    "        \n",
    "        loss = loss_criterion(output, target)\n",
    "        loss.backward()\n",
    "        optimizer.step()\n",
    "        \n",
    "        running_loss += loss.item()\n",
    "        \n",
    "        counter += 1\n",
    "\n",
    "    return (running_loss / counter)\n",
    "\n",
    "def validate(model, device, loss_criterion, val_loader):\n",
    "    model.to(device)\n",
    "    model.eval()\n",
    "\n",
    "    correct = 0\n",
    "    val_loss = 0\n",
    "\n",
    "    with torch.no_grad():\n",
    "        for data, target in val_loader:\n",
    "            data, target = data.to(device), target.to(device)\n",
    "\n",
    "            target = target.argmax(dim=1, keepdim=True).float()\n",
    "            \n",
    "            output = model.forward(data)\n",
    "            val_loss += loss_criterion(output, target).item()\n",
    "            \n",
    "            pred = torch.round(output)\n",
    "            equal_data = torch.sum(target.data == pred).item()\n",
    "            correct += equal_data\n",
    "    \n",
    "    return (val_loss / len(val_loader))"
   ]
  },
  {
   "cell_type": "code",
   "execution_count": 5,
   "metadata": {},
   "outputs": [],
   "source": [
    "def define_model(trial):\n",
    "    p = trial.suggest_float(\"dp\", 0, 0.2)\n",
    "    print(p)\n",
    "    return model.CNN(dropout=p)\n",
    "\n",
    "def objective(trial):\n",
    "    cnn = define_model(trial).to(DEVICE)\n",
    "    lr = trial.suggest_float(\"lr\", 1e-5, 1e-1, log=True)\n",
    "    wd = trial.suggest_float(\"wd\", 0, 0.2)\n",
    "    o = optim.AdamW(cnn.parameters(), lr=lr, weight_decay=wd)\n",
    "    bs = trial.suggest_categorical(\"bs\", [16, 32, 64])\n",
    "    train_loader = DataLoader(TRAIN, batch_size=bs, shuffle=True)\n",
    "    val_loader = DataLoader(VAL, batch_size=bs, shuffle=True)\n",
    "    print(lr, wd, bs)\n",
    "    return train(cnn, DEVICE, nn.BCELoss(), o, train_loader, val_loader, EPOCHS, PATIENCE)\n",
    "    "
   ]
  },
  {
   "cell_type": "code",
   "execution_count": 6,
   "metadata": {},
   "outputs": [
    {
     "name": "stderr",
     "output_type": "stream",
     "text": [
      "\u001b[32m[I 2021-03-20 11:15:21,025]\u001b[0m A new study created in memory with name: no-name-d735bf5e-fc0b-4136-8f91-825b3f19d1ba\u001b[0m\n"
     ]
    },
    {
     "name": "stdout",
     "output_type": "stream",
     "text": [
      "0.02863673616575504\n",
      "5.875856331832141e-05 0.05691017668957554 16\n"
     ]
    },
    {
     "name": "stderr",
     "output_type": "stream",
     "text": [
      "\u001b[32m[I 2021-03-20 11:16:29,451]\u001b[0m Trial 0 finished with value: 0.4603615009631866 and parameters: {'dp': 0.02863673616575504, 'lr': 5.875856331832141e-05, 'wd': 0.05691017668957554, 'bs': 16}. Best is trial 0 with value: 0.4603615009631866.\u001b[0m\n"
     ]
    },
    {
     "name": "stdout",
     "output_type": "stream",
     "text": [
      "0.14718755545973602\n",
      "2.9968317993352165e-05 0.1893069040078719 64\n"
     ]
    },
    {
     "name": "stderr",
     "output_type": "stream",
     "text": [
      "\u001b[32m[I 2021-03-20 11:17:29,874]\u001b[0m Trial 1 finished with value: 0.9431668758392334 and parameters: {'dp': 0.14718755545973602, 'lr': 2.9968317993352165e-05, 'wd': 0.1893069040078719, 'bs': 64}. Best is trial 0 with value: 0.4603615009631866.\u001b[0m\n"
     ]
    },
    {
     "name": "stdout",
     "output_type": "stream",
     "text": [
      "0.0005182289117860783\n",
      "0.0003192106921708776 0.044362220373424854 16\n"
     ]
    },
    {
     "name": "stderr",
     "output_type": "stream",
     "text": [
      "\u001b[32m[I 2021-03-20 11:18:32,986]\u001b[0m Trial 2 finished with value: 0.40608567056747585 and parameters: {'dp': 0.0005182289117860783, 'lr': 0.0003192106921708776, 'wd': 0.044362220373424854, 'bs': 16}. Best is trial 2 with value: 0.40608567056747585.\u001b[0m\n"
     ]
    },
    {
     "name": "stdout",
     "output_type": "stream",
     "text": [
      "0.017122097315603723\n",
      "8.157242180777415e-05 0.15416891306210762 32\n"
     ]
    },
    {
     "name": "stderr",
     "output_type": "stream",
     "text": [
      "\u001b[32m[I 2021-03-20 11:19:35,120]\u001b[0m Trial 3 finished with value: 0.4256924793124199 and parameters: {'dp': 0.017122097315603723, 'lr': 8.157242180777415e-05, 'wd': 0.15416891306210762, 'bs': 32}. Best is trial 2 with value: 0.40608567056747585.\u001b[0m\n"
     ]
    },
    {
     "name": "stdout",
     "output_type": "stream",
     "text": [
      "0.024159180990209018\n",
      "0.00011712667280260496 0.06134448921417926 32\n"
     ]
    },
    {
     "name": "stderr",
     "output_type": "stream",
     "text": [
      "\u001b[32m[I 2021-03-20 11:20:37,461]\u001b[0m Trial 4 finished with value: 0.3945358067750931 and parameters: {'dp': 0.024159180990209018, 'lr': 0.00011712667280260496, 'wd': 0.06134448921417926, 'bs': 32}. Best is trial 4 with value: 0.3945358067750931.\u001b[0m\n"
     ]
    },
    {
     "name": "stdout",
     "output_type": "stream",
     "text": [
      "0.021972629776838937\n",
      "0.0002191241977420577 0.13013517866242505 64\n"
     ]
    },
    {
     "name": "stderr",
     "output_type": "stream",
     "text": [
      "\u001b[32m[I 2021-03-20 11:21:38,443]\u001b[0m Trial 5 finished with value: 0.5403364717960357 and parameters: {'dp': 0.021972629776838937, 'lr': 0.0002191241977420577, 'wd': 0.13013517866242505, 'bs': 64}. Best is trial 4 with value: 0.3945358067750931.\u001b[0m\n"
     ]
    },
    {
     "name": "stdout",
     "output_type": "stream",
     "text": [
      "0.06956077121664701\n",
      "0.0005640688389531045 0.15507254649624194 32\n"
     ]
    },
    {
     "name": "stderr",
     "output_type": "stream",
     "text": [
      "\u001b[32m[I 2021-03-20 11:22:51,772]\u001b[0m Trial 6 finished with value: 0.5581732735037803 and parameters: {'dp': 0.06956077121664701, 'lr': 0.0005640688389531045, 'wd': 0.15507254649624194, 'bs': 32}. Best is trial 4 with value: 0.3945358067750931.\u001b[0m\n"
     ]
    },
    {
     "name": "stdout",
     "output_type": "stream",
     "text": [
      "0.02927520585746244\n",
      "0.07673384538359111 0.04213293133867402 16\n"
     ]
    },
    {
     "name": "stderr",
     "output_type": "stream",
     "text": [
      "\u001b[32m[I 2021-03-20 11:24:06,355]\u001b[0m Trial 7 finished with value: 0.4698717040129197 and parameters: {'dp': 0.02927520585746244, 'lr': 0.07673384538359111, 'wd': 0.04213293133867402, 'bs': 16}. Best is trial 4 with value: 0.3945358067750931.\u001b[0m\n"
     ]
    },
    {
     "name": "stdout",
     "output_type": "stream",
     "text": [
      "0.19701600499475488\n",
      "0.0022194757533465477 0.001836296581867658 16\n"
     ]
    },
    {
     "name": "stderr",
     "output_type": "stream",
     "text": [
      "\u001b[32m[I 2021-03-20 11:25:42,528]\u001b[0m Trial 8 finished with value: 0.7057867566935527 and parameters: {'dp': 0.19701600499475488, 'lr': 0.0022194757533465477, 'wd': 0.001836296581867658, 'bs': 16}. Best is trial 4 with value: 0.3945358067750931.\u001b[0m\n"
     ]
    },
    {
     "name": "stdout",
     "output_type": "stream",
     "text": [
      "0.028975499497177617\n",
      "1.3573440931125469e-05 0.1365910471421945 32\n"
     ]
    },
    {
     "name": "stderr",
     "output_type": "stream",
     "text": [
      "\u001b[32m[I 2021-03-20 11:27:04,257]\u001b[0m Trial 9 finished with value: 0.4070018738508224 and parameters: {'dp': 0.028975499497177617, 'lr': 1.3573440931125469e-05, 'wd': 0.1365910471421945, 'bs': 32}. Best is trial 4 with value: 0.3945358067750931.\u001b[0m\n"
     ]
    },
    {
     "name": "stdout",
     "output_type": "stream",
     "text": [
      "0.09694049107825271\n",
      "0.0028034807238918823 0.08580511217391977 32\n"
     ]
    },
    {
     "name": "stderr",
     "output_type": "stream",
     "text": [
      "\u001b[32m[I 2021-03-20 11:28:15,288]\u001b[0m Trial 10 finished with value: 0.45641486570239065 and parameters: {'dp': 0.09694049107825271, 'lr': 0.0028034807238918823, 'wd': 0.08580511217391977, 'bs': 32}. Best is trial 4 with value: 0.3945358067750931.\u001b[0m\n"
     ]
    },
    {
     "name": "stdout",
     "output_type": "stream",
     "text": [
      "0.06416951376806293\n",
      "0.012682796608526496 0.011269753749619117 16\n"
     ]
    },
    {
     "name": "stderr",
     "output_type": "stream",
     "text": [
      "\u001b[32m[I 2021-03-20 11:30:40,466]\u001b[0m Trial 11 finished with value: 0.37823703770454115 and parameters: {'dp': 0.06416951376806293, 'lr': 0.012682796608526496, 'wd': 0.011269753749619117, 'bs': 16}. Best is trial 11 with value: 0.37823703770454115.\u001b[0m\n"
     ]
    },
    {
     "name": "stdout",
     "output_type": "stream",
     "text": [
      "0.06948542695803014\n",
      "0.024519809479165464 0.007287191757360016 32\n"
     ]
    },
    {
     "name": "stderr",
     "output_type": "stream",
     "text": [
      "\u001b[32m[I 2021-03-20 11:32:41,645]\u001b[0m Trial 12 finished with value: 0.761397248506546 and parameters: {'dp': 0.06948542695803014, 'lr': 0.024519809479165464, 'wd': 0.007287191757360016, 'bs': 32}. Best is trial 11 with value: 0.37823703770454115.\u001b[0m\n"
     ]
    },
    {
     "name": "stdout",
     "output_type": "stream",
     "text": [
      "0.0631493558075571\n",
      "0.010242354993970394 0.07826587202947975 16\n"
     ]
    },
    {
     "name": "stderr",
     "output_type": "stream",
     "text": [
      "\u001b[32m[I 2021-03-20 11:33:43,525]\u001b[0m Trial 13 finished with value: 0.45941986028964704 and parameters: {'dp': 0.0631493558075571, 'lr': 0.010242354993970394, 'wd': 0.07826587202947975, 'bs': 16}. Best is trial 11 with value: 0.37823703770454115.\u001b[0m\n"
     ]
    },
    {
     "name": "stdout",
     "output_type": "stream",
     "text": [
      "0.1258685286441622\n",
      "0.015482051772781362 0.018373534139734887 16\n"
     ]
    },
    {
     "name": "stderr",
     "output_type": "stream",
     "text": [
      "\u001b[32m[I 2021-03-20 11:35:06,005]\u001b[0m Trial 14 finished with value: 0.3751146300480916 and parameters: {'dp': 0.1258685286441622, 'lr': 0.015482051772781362, 'wd': 0.018373534139734887, 'bs': 16}. Best is trial 14 with value: 0.3751146300480916.\u001b[0m\n"
     ]
    },
    {
     "name": "stdout",
     "output_type": "stream",
     "text": [
      "0.13613474872507092\n",
      "0.07972257851487732 0.02011317972585161 16\n"
     ]
    },
    {
     "name": "stderr",
     "output_type": "stream",
     "text": [
      "\u001b[32m[I 2021-03-20 11:37:00,561]\u001b[0m Trial 15 finished with value: 0.9141607674268576 and parameters: {'dp': 0.13613474872507092, 'lr': 0.07972257851487732, 'wd': 0.02011317972585161, 'bs': 16}. Best is trial 14 with value: 0.3751146300480916.\u001b[0m\n"
     ]
    },
    {
     "name": "stdout",
     "output_type": "stream",
     "text": [
      "0.13583953012216418\n",
      "0.013085963801613415 0.022005069484355766 16\n"
     ]
    },
    {
     "name": "stderr",
     "output_type": "stream",
     "text": [
      "\u001b[32m[I 2021-03-20 11:39:34,531]\u001b[0m Trial 16 finished with value: 0.4212121016417558 and parameters: {'dp': 0.13583953012216418, 'lr': 0.013085963801613415, 'wd': 0.022005069484355766, 'bs': 16}. Best is trial 14 with value: 0.3751146300480916.\u001b[0m\n"
     ]
    },
    {
     "name": "stdout",
     "output_type": "stream",
     "text": [
      "0.16624228569027288\n",
      "0.003965009391404885 0.002498360543027465 16\n"
     ]
    },
    {
     "name": "stderr",
     "output_type": "stream",
     "text": [
      "\u001b[32m[I 2021-03-20 11:40:46,415]\u001b[0m Trial 17 finished with value: 0.5434792391382731 and parameters: {'dp': 0.16624228569027288, 'lr': 0.003965009391404885, 'wd': 0.002498360543027465, 'bs': 16}. Best is trial 14 with value: 0.3751146300480916.\u001b[0m\n"
     ]
    },
    {
     "name": "stdout",
     "output_type": "stream",
     "text": [
      "0.10291013515309992\n",
      "0.037460296988378466 0.02858741041079732 64\n"
     ]
    },
    {
     "name": "stderr",
     "output_type": "stream",
     "text": [
      "\u001b[32m[I 2021-03-20 11:42:34,970]\u001b[0m Trial 18 finished with value: 0.7660128951072693 and parameters: {'dp': 0.10291013515309992, 'lr': 0.037460296988378466, 'wd': 0.02858741041079732, 'bs': 64}. Best is trial 14 with value: 0.3751146300480916.\u001b[0m\n"
     ]
    },
    {
     "name": "stdout",
     "output_type": "stream",
     "text": [
      "0.1034559963045821\n",
      "0.0012801550958711743 0.10140412806929389 16\n"
     ]
    },
    {
     "name": "stderr",
     "output_type": "stream",
     "text": [
      "\u001b[32m[I 2021-03-20 11:44:08,455]\u001b[0m Trial 19 finished with value: 0.4342569473844308 and parameters: {'dp': 0.1034559963045821, 'lr': 0.0012801550958711743, 'wd': 0.10140412806929389, 'bs': 16}. Best is trial 14 with value: 0.3751146300480916.\u001b[0m\n"
     ]
    },
    {
     "name": "stdout",
     "output_type": "stream",
     "text": [
      "0.08846383030255146\n",
      "0.007140839395617085 0.10709204930366126 16\n"
     ]
    },
    {
     "name": "stderr",
     "output_type": "stream",
     "text": [
      "\u001b[32m[I 2021-03-20 11:45:10,595]\u001b[0m Trial 20 finished with value: 1.2529820960301619 and parameters: {'dp': 0.08846383030255146, 'lr': 0.007140839395617085, 'wd': 0.10709204930366126, 'bs': 16}. Best is trial 14 with value: 0.3751146300480916.\u001b[0m\n"
     ]
    },
    {
     "name": "stdout",
     "output_type": "stream",
     "text": [
      "0.054609489475031824\n",
      "0.028761704426845128 0.060784839069045915 32\n"
     ]
    },
    {
     "name": "stderr",
     "output_type": "stream",
     "text": [
      "\u001b[32m[I 2021-03-20 11:46:21,322]\u001b[0m Trial 21 finished with value: 0.4032908737659454 and parameters: {'dp': 0.054609489475031824, 'lr': 0.028761704426845128, 'wd': 0.060784839069045915, 'bs': 32}. Best is trial 14 with value: 0.3751146300480916.\u001b[0m\n"
     ]
    },
    {
     "name": "stdout",
     "output_type": "stream",
     "text": [
      "0.11977527345677501\n",
      "0.006166420323605612 0.06871934025181445 32\n"
     ]
    },
    {
     "name": "stderr",
     "output_type": "stream",
     "text": [
      "\u001b[32m[I 2021-03-20 11:47:42,174]\u001b[0m Trial 22 finished with value: 0.5211186058819294 and parameters: {'dp': 0.11977527345677501, 'lr': 0.006166420323605612, 'wd': 0.06871934025181445, 'bs': 32}. Best is trial 14 with value: 0.3751146300480916.\u001b[0m\n"
     ]
    },
    {
     "name": "stdout",
     "output_type": "stream",
     "text": [
      "0.04567777732046928\n",
      "0.0001472934501278466 0.03776440429253959 16\n"
     ]
    },
    {
     "name": "stderr",
     "output_type": "stream",
     "text": [
      "\u001b[32m[I 2021-03-20 11:48:44,148]\u001b[0m Trial 23 finished with value: 0.5904580094875433 and parameters: {'dp': 0.04567777732046928, 'lr': 0.0001472934501278466, 'wd': 0.03776440429253959, 'bs': 16}. Best is trial 14 with value: 0.3751146300480916.\u001b[0m\n"
     ]
    },
    {
     "name": "stdout",
     "output_type": "stream",
     "text": [
      "0.08208767560874652\n",
      "0.0009742508193369938 0.008979260656670263 32\n"
     ]
    },
    {
     "name": "stderr",
     "output_type": "stream",
     "text": [
      "\u001b[32m[I 2021-03-20 11:49:44,694]\u001b[0m Trial 24 finished with value: 0.5195557847619057 and parameters: {'dp': 0.08208767560874652, 'lr': 0.0009742508193369938, 'wd': 0.008979260656670263, 'bs': 32}. Best is trial 14 with value: 0.3751146300480916.\u001b[0m\n"
     ]
    },
    {
     "name": "stdout",
     "output_type": "stream",
     "text": [
      "0.002914289658770372\n",
      "0.01463826681543892 0.04537506438550996 64\n"
     ]
    },
    {
     "name": "stderr",
     "output_type": "stream",
     "text": [
      "\u001b[32m[I 2021-03-20 11:51:12,627]\u001b[0m Trial 25 finished with value: 0.5335478723049164 and parameters: {'dp': 0.002914289658770372, 'lr': 0.01463826681543892, 'wd': 0.04537506438550996, 'bs': 64}. Best is trial 14 with value: 0.3751146300480916.\u001b[0m\n"
     ]
    },
    {
     "name": "stdout",
     "output_type": "stream",
     "text": [
      "0.04621749488485537\n",
      "1.637138436554386e-05 0.02145817807776044 16\n"
     ]
    },
    {
     "name": "stderr",
     "output_type": "stream",
     "text": [
      "\u001b[32m[I 2021-03-20 11:52:14,988]\u001b[0m Trial 26 finished with value: 0.4664513980730986 and parameters: {'dp': 0.04621749488485537, 'lr': 1.637138436554386e-05, 'wd': 0.02145817807776044, 'bs': 16}. Best is trial 14 with value: 0.3751146300480916.\u001b[0m\n"
     ]
    },
    {
     "name": "stdout",
     "output_type": "stream",
     "text": [
      "0.1751367957978145\n",
      "0.08606776284599904 0.08251385336766463 16\n"
     ]
    },
    {
     "name": "stderr",
     "output_type": "stream",
     "text": [
      "\u001b[32m[I 2021-03-20 11:53:37,187]\u001b[0m Trial 27 finished with value: 0.8378248933034066 and parameters: {'dp': 0.1751367957978145, 'lr': 0.08606776284599904, 'wd': 0.08251385336766463, 'bs': 16}. Best is trial 14 with value: 0.3751146300480916.\u001b[0m\n"
     ]
    },
    {
     "name": "stdout",
     "output_type": "stream",
     "text": [
      "0.11706793975033641\n",
      "0.0005290277608111185 0.05999985766448707 32\n"
     ]
    },
    {
     "name": "stderr",
     "output_type": "stream",
     "text": [
      "\u001b[32m[I 2021-03-20 11:54:57,359]\u001b[0m Trial 28 finished with value: 0.8473708957433701 and parameters: {'dp': 0.11706793975033641, 'lr': 0.0005290277608111185, 'wd': 0.05999985766448707, 'bs': 32}. Best is trial 14 with value: 0.3751146300480916.\u001b[0m\n"
     ]
    },
    {
     "name": "stdout",
     "output_type": "stream",
     "text": [
      "0.08291644051905296\n",
      "3.493761837360377e-05 0.05248346245796763 16\n"
     ]
    },
    {
     "name": "stderr",
     "output_type": "stream",
     "text": [
      "\u001b[32m[I 2021-03-20 11:55:59,724]\u001b[0m Trial 29 finished with value: 0.5296053443199549 and parameters: {'dp': 0.08291644051905296, 'lr': 3.493761837360377e-05, 'wd': 0.05248346245796763, 'bs': 16}. Best is trial 14 with value: 0.3751146300480916.\u001b[0m\n"
     ]
    },
    {
     "name": "stdout",
     "output_type": "stream",
     "text": [
      "Best trial:\n",
      "  Value:  0.3751146300480916\n",
      "  Params: \n",
      "    dp: 0.1258685286441622\n",
      "    lr: 0.015482051772781362\n",
      "    wd: 0.018373534139734887\n",
      "    bs: 16\n"
     ]
    }
   ],
   "source": [
    "study = optuna.create_study()\n",
    "study.optimize(objective, n_trials=30, timeout=3600)\n",
    "print(\"Best trial:\")\n",
    "trial = study.best_trial\n",
    "print(\"  Value: \", trial.value)\n",
    "print(\"  Params: \")\n",
    "for key, value in trial.params.items():\n",
    "    print(\"    {}: {}\".format(key, value))"
   ]
  }
 ],
 "metadata": {
  "kernelspec": {
   "display_name": "Python 3",
   "language": "python",
   "name": "python3"
  },
  "language_info": {
   "codemirror_mode": {
    "name": "ipython",
    "version": 3
   },
   "file_extension": ".py",
   "mimetype": "text/x-python",
   "name": "python",
   "nbconvert_exporter": "python",
   "pygments_lexer": "ipython3",
   "version": "3.6.10"
  }
 },
 "nbformat": 4,
 "nbformat_minor": 4
}
