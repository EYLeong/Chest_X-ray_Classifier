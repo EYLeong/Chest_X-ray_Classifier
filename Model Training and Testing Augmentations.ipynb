{
 "cells": [
  {
   "cell_type": "markdown",
   "metadata": {},
   "source": [
    "<h1> Deep Learning Small Project </h1>"
   ]
  },
  {
   "cell_type": "code",
   "execution_count": 1,
   "metadata": {},
   "outputs": [],
   "source": [
    "%matplotlib inline\n",
    "\n",
    "# Display\n",
    "from IPython.display import Image\n",
    "\n",
    "# Torch\n",
    "import torch\n",
    "from torch.utils.data import DataLoader\n",
    "from torch import optim, nn\n",
    "from torchvision import transforms\n",
    "\n",
    "# Custom\n",
    "import data\n",
    "import model\n",
    "import utils"
   ]
  },
  {
   "cell_type": "markdown",
   "metadata": {},
   "source": [
    "Defining Model Parameters"
   ]
  },
  {
   "cell_type": "code",
   "execution_count": 2,
   "metadata": {},
   "outputs": [],
   "source": [
    "N_EPOCH = 200\n",
    "L_RATE_FL = 0.015482051772781362\n",
    "BATCH_SIZE_FL = 16\n",
    "DROPOUT_FL = 0.1258685286441622\n",
    "WD_FL = 0.018373534139734887\n",
    "L_RATE_SL = 0.00022040717935498526\n",
    "BATCH_SIZE_SL = 64\n",
    "DROPOUT_SL = 0.07216065625585566\n",
    "WD_SL = 0.08267768486777832\n",
    "PATIENCE = 10\n",
    "\n",
    "device = torch.device(\"cuda\" if torch.cuda.is_available() else \"cpu\")\n",
    "\n",
    "augmentations = transforms.Compose([\n",
    "    transforms.CenterCrop((140,140)),\n",
    "    transforms.RandomAffine(degrees = 0, translate = (0.1,0), scale=(1,1.05)),\n",
    "    transforms.ToTensor(),\n",
    "    transforms.Normalize((0.4824,),(0.2363,))  \n",
    "])\n",
    "\n",
    "augmentations2 = transforms.Compose([\n",
    "    transforms.CenterCrop((140,140)),\n",
    "    transforms.RandomAffine(degrees = 0, translate = (0.1,0), scale=(1,1.05)),\n",
    "    transforms.RandomHorizontalFlip(p=0.3),\n",
    "    transforms.ToTensor(),\n",
    "    transforms.Normalize((0.4824,),(0.2363,))  \n",
    "])\n",
    "\n",
    "\n",
    "normalization = transforms.Compose([\n",
    "    transforms.ToTensor(),\n",
    "    transforms.Normalize((0.4824,),(0.2363,)) \n",
    "])"
   ]
  },
  {
   "cell_type": "markdown",
   "metadata": {},
   "source": [
    "Using Custom Dataloader, Data Split for First Layer classification task (normal vs infected)"
   ]
  },
  {
   "cell_type": "code",
   "execution_count": 3,
   "metadata": {},
   "outputs": [],
   "source": [
    "fl_labels = {\n",
    "0 : \"Normal\",\n",
    "1 : \"Infected\"\n",
    "}\n",
    "\n",
    "fl_train = data.Lung_Dataset('train', verbose = 0, transform=augmentations)\n",
    "fl_test = data.Lung_Dataset('val', verbose = 0, transform = normalization)\n",
    "fl_val = data.Lung_Dataset('test', verbose = 0, transform = normalization)\n",
    "\n",
    "\"\"\"\n",
    "Data Split for Second Layer classification task (COVID vs Non-COVID) \n",
    "\"\"\"\n",
    "\n",
    "sl_labels = {\n",
    "0 : \"COVID\",\n",
    "1 : \"Non-COVID\"\n",
    "}\n",
    "\n",
    "sl_train = data.Lung_Dataset('train', verbose = 2, transform=augmentations2)\n",
    "sl_test = data.Lung_Dataset('val', verbose = 2, transform = normalization)\n",
    "sl_val = data.Lung_Dataset('test', verbose = 2, transform = normalization)\n",
    "\n",
    "\"\"\"\n",
    "Data Split for combined classification task (normal vs COVID vs Non-COVID) \n",
    "\"\"\"\n",
    "\n",
    "combined_labels = {\n",
    "0 : \"Normal\",\n",
    "1 : \"COVID\",\n",
    "2 : \"Non-COVID\"\n",
    "}\n",
    "\n",
    "final_val = data.Lung_Dataset('test', verbose = 1, transform = normalization)\n",
    "final_test = data.Lung_Dataset('val', verbose = 1, transform = normalization)"
   ]
  },
  {
   "cell_type": "markdown",
   "metadata": {},
   "source": [
    "Training the First Layer Model"
   ]
  },
  {
   "cell_type": "code",
   "execution_count": 4,
   "metadata": {
    "scrolled": true
   },
   "outputs": [
    {
     "name": "stdout",
     "output_type": "stream",
     "text": [
      "Training the first model to classify normal and infected images\n",
      "\n",
      "\n",
      "Epoch 1\n"
     ]
    },
    {
     "data": {
      "application/vnd.jupyter.widget-view+json": {
       "model_id": "3fe6104fecc843fd9f3ba5d7245a11b4",
       "version_major": 2,
       "version_minor": 0
      },
      "text/plain": [
       "  0%|          | 0/326 [00:00<?, ?it/s]"
      ]
     },
     "metadata": {},
     "output_type": "display_data"
    },
    {
     "name": "stdout",
     "output_type": "stream",
     "text": [
      "Validation loss: 0.43688448251057893\n",
      "Validation set accuracy:  82.11382113821138 %\n",
      "\n",
      "\n",
      "Epoch 2\n"
     ]
    },
    {
     "data": {
      "application/vnd.jupyter.widget-view+json": {
       "model_id": "87e7bc838f824adfa56c0bcb9e220886",
       "version_major": 2,
       "version_minor": 0
      },
      "text/plain": [
       "  0%|          | 0/326 [00:00<?, ?it/s]"
      ]
     },
     "metadata": {},
     "output_type": "display_data"
    },
    {
     "name": "stdout",
     "output_type": "stream",
     "text": [
      "Validation loss: 0.7507243596781523\n",
      "Validation set accuracy:  72.35772357723577 %\n",
      "\n",
      "\n",
      "Epoch 3\n"
     ]
    },
    {
     "data": {
      "application/vnd.jupyter.widget-view+json": {
       "model_id": "e8dc01bc21d648b4a624f3a214bcce3f",
       "version_major": 2,
       "version_minor": 0
      },
      "text/plain": [
       "  0%|          | 0/326 [00:00<?, ?it/s]"
      ]
     },
     "metadata": {},
     "output_type": "display_data"
    },
    {
     "name": "stdout",
     "output_type": "stream",
     "text": [
      "Validation loss: 0.4517450312582346\n",
      "Validation set accuracy:  84.39024390243902 %\n",
      "\n",
      "\n",
      "Epoch 4\n"
     ]
    },
    {
     "data": {
      "application/vnd.jupyter.widget-view+json": {
       "model_id": "b8e39339454a472ba726bce0449018d3",
       "version_major": 2,
       "version_minor": 0
      },
      "text/plain": [
       "  0%|          | 0/326 [00:00<?, ?it/s]"
      ]
     },
     "metadata": {},
     "output_type": "display_data"
    },
    {
     "name": "stdout",
     "output_type": "stream",
     "text": [
      "Validation loss: 0.3374347277940848\n",
      "Validation set accuracy:  87.3170731707317 %\n",
      "\n",
      "\n",
      "Epoch 5\n"
     ]
    },
    {
     "data": {
      "application/vnd.jupyter.widget-view+json": {
       "model_id": "319535bdb24b47dbb861b3f3e9f9434a",
       "version_major": 2,
       "version_minor": 0
      },
      "text/plain": [
       "  0%|          | 0/326 [00:00<?, ?it/s]"
      ]
     },
     "metadata": {},
     "output_type": "display_data"
    },
    {
     "name": "stdout",
     "output_type": "stream",
     "text": [
      "Validation loss: 0.5895095177185841\n",
      "Validation set accuracy:  79.02439024390245 %\n",
      "\n",
      "\n",
      "Epoch 6\n"
     ]
    },
    {
     "data": {
      "application/vnd.jupyter.widget-view+json": {
       "model_id": "0749f5937c6e453492ddec752d532576",
       "version_major": 2,
       "version_minor": 0
      },
      "text/plain": [
       "  0%|          | 0/326 [00:00<?, ?it/s]"
      ]
     },
     "metadata": {},
     "output_type": "display_data"
    },
    {
     "name": "stdout",
     "output_type": "stream",
     "text": [
      "Validation loss: 0.7268497334458889\n",
      "Validation set accuracy:  73.17073170731707 %\n",
      "\n",
      "\n",
      "Epoch 7\n"
     ]
    },
    {
     "data": {
      "application/vnd.jupyter.widget-view+json": {
       "model_id": "c73b038a1c154148b23eb2a5ef36fbff",
       "version_major": 2,
       "version_minor": 0
      },
      "text/plain": [
       "  0%|          | 0/326 [00:00<?, ?it/s]"
      ]
     },
     "metadata": {},
     "output_type": "display_data"
    },
    {
     "name": "stdout",
     "output_type": "stream",
     "text": [
      "Validation loss: 0.5093129799725153\n",
      "Validation set accuracy:  77.72357723577235 %\n",
      "\n",
      "\n",
      "Epoch 8\n"
     ]
    },
    {
     "data": {
      "application/vnd.jupyter.widget-view+json": {
       "model_id": "a6224cf1fb2d482d9221af607767c004",
       "version_major": 2,
       "version_minor": 0
      },
      "text/plain": [
       "  0%|          | 0/326 [00:00<?, ?it/s]"
      ]
     },
     "metadata": {},
     "output_type": "display_data"
    },
    {
     "name": "stdout",
     "output_type": "stream",
     "text": [
      "Validation loss: 0.7131722293412074\n",
      "Validation set accuracy:  77.07317073170732 %\n",
      "\n",
      "\n",
      "Epoch 9\n"
     ]
    },
    {
     "data": {
      "application/vnd.jupyter.widget-view+json": {
       "model_id": "3556df5b916c4d0eb051bf625e4af74f",
       "version_major": 2,
       "version_minor": 0
      },
      "text/plain": [
       "  0%|          | 0/326 [00:00<?, ?it/s]"
      ]
     },
     "metadata": {},
     "output_type": "display_data"
    },
    {
     "name": "stdout",
     "output_type": "stream",
     "text": [
      "Validation loss: 1.27134444593237\n",
      "Validation set accuracy:  71.869918699187 %\n",
      "\n",
      "\n",
      "Epoch 10\n"
     ]
    },
    {
     "data": {
      "application/vnd.jupyter.widget-view+json": {
       "model_id": "4d1abe1fa3aa4ca4a96a9a10141f757b",
       "version_major": 2,
       "version_minor": 0
      },
      "text/plain": [
       "  0%|          | 0/326 [00:00<?, ?it/s]"
      ]
     },
     "metadata": {},
     "output_type": "display_data"
    },
    {
     "name": "stdout",
     "output_type": "stream",
     "text": [
      "Validation loss: 0.406121596120871\n",
      "Validation set accuracy:  85.20325203252033 %\n",
      "\n",
      "\n",
      "Epoch 11\n"
     ]
    },
    {
     "data": {
      "application/vnd.jupyter.widget-view+json": {
       "model_id": "d7c98425841b483a85f6e38bb1ca0ffc",
       "version_major": 2,
       "version_minor": 0
      },
      "text/plain": [
       "  0%|          | 0/326 [00:00<?, ?it/s]"
      ]
     },
     "metadata": {},
     "output_type": "display_data"
    },
    {
     "name": "stdout",
     "output_type": "stream",
     "text": [
      "Validation loss: 0.597694225800343\n",
      "Validation set accuracy:  78.04878048780488 %\n",
      "\n",
      "\n",
      "Epoch 12\n"
     ]
    },
    {
     "data": {
      "application/vnd.jupyter.widget-view+json": {
       "model_id": "0de7b33fd82f4bf884c978b7b6e4343d",
       "version_major": 2,
       "version_minor": 0
      },
      "text/plain": [
       "  0%|          | 0/326 [00:00<?, ?it/s]"
      ]
     },
     "metadata": {},
     "output_type": "display_data"
    },
    {
     "name": "stdout",
     "output_type": "stream",
     "text": [
      "Validation loss: 0.7919708730127567\n",
      "Validation set accuracy:  74.3089430894309 %\n",
      "\n",
      "\n",
      "Epoch 13\n"
     ]
    },
    {
     "data": {
      "application/vnd.jupyter.widget-view+json": {
       "model_id": "845e182316864181a15569ae2d54e133",
       "version_major": 2,
       "version_minor": 0
      },
      "text/plain": [
       "  0%|          | 0/326 [00:00<?, ?it/s]"
      ]
     },
     "metadata": {},
     "output_type": "display_data"
    },
    {
     "name": "stdout",
     "output_type": "stream",
     "text": [
      "Validation loss: 0.4872860108048488\n",
      "Validation set accuracy:  82.92682926829268 %\n",
      "\n",
      "\n",
      "Epoch 14\n"
     ]
    },
    {
     "data": {
      "application/vnd.jupyter.widget-view+json": {
       "model_id": "b941875972b04f6c913db73e0968fa56",
       "version_major": 2,
       "version_minor": 0
      },
      "text/plain": [
       "  0%|          | 0/326 [00:00<?, ?it/s]"
      ]
     },
     "metadata": {},
     "output_type": "display_data"
    },
    {
     "name": "stdout",
     "output_type": "stream",
     "text": [
      "Validation loss: 0.5434045652166392\n",
      "Validation set accuracy:  79.51219512195122 %\n",
      "\n",
      "\n",
      "\n",
      "Test Accuracy of the first model:\n",
      "Test set accuracy:  76.0 %\n"
     ]
    },
    {
     "data": {
      "image/png": "[encoded data removed]",
      "text/plain": [
       "<Figure size 432x288 with 1 Axes>"
      ]
     },
     "metadata": {
      "needs_background": "light"
     },
     "output_type": "display_data"
    }
   ],
   "source": [
    "#First Model Training\n",
    "fl_train_loader = DataLoader(fl_train, batch_size=BATCH_SIZE_FL, shuffle=True)\n",
    "fl_val_loader = DataLoader(fl_val, batch_size=BATCH_SIZE_FL, shuffle=True)\n",
    "fl_test_loader = DataLoader(fl_test, batch_size=BATCH_SIZE_FL, shuffle=True)\n",
    "    \n",
    "fl_model = model.CNN(dropout=DROPOUT_FL).to(device)\n",
    "fl_optimizer = optim.AdamW(fl_model.parameters(), lr=L_RATE_FL, weight_decay = WD_FL)\n",
    "    \n",
    "print(\"Training the first model to classify normal and infected images\")\n",
    "model.train(fl_model, device, nn.BCELoss(), fl_optimizer, fl_train_loader, fl_val_loader, N_EPOCH, PATIENCE, \"fl\")\n",
    "\n",
    "print(\"\\n\\n\")\n",
    "print(\"Test Accuracy of the first model:\")\n",
    "model.test(fl_model, device, fl_test_loader)\n",
    "\n",
    "fl_model.to(\"cpu\")\n",
    "    \n",
    "model.save_model(fl_model, fl_optimizer, './saved_models/fl_model_augmentations.pth')"
   ]
  },
  {
   "cell_type": "markdown",
   "metadata": {},
   "source": [
    "Training the Second Layer Model"
   ]
  },
  {
   "cell_type": "code",
   "execution_count": null,
   "metadata": {},
   "outputs": [
    {
     "name": "stdout",
     "output_type": "stream",
     "text": [
      "\n",
      "\n",
      "\n",
      "Training the second model to classify COVID and non-COVID images\n",
      "\n",
      "\n",
      "Epoch 1\n"
     ]
    },
    {
     "data": {
      "application/vnd.jupyter.widget-view+json": {
       "model_id": "082a89ecb615463c9843e13a30bae855",
       "version_major": 2,
       "version_minor": 0
      },
      "text/plain": [
       "  0%|          | 0/61 [00:00<?, ?it/s]"
      ]
     },
     "metadata": {},
     "output_type": "display_data"
    },
    {
     "name": "stdout",
     "output_type": "stream",
     "text": [
      "Validation loss: 0.6116971174875895\n",
      "Validation set accuracy:  70.60367454068242 %\n",
      "\n",
      "\n",
      "Epoch 2\n"
     ]
    },
    {
     "data": {
      "application/vnd.jupyter.widget-view+json": {
       "model_id": "736b6f9091e94a2c8d9455a538c1f953",
       "version_major": 2,
       "version_minor": 0
      },
      "text/plain": [
       "  0%|          | 0/61 [00:00<?, ?it/s]"
      ]
     },
     "metadata": {},
     "output_type": "display_data"
    },
    {
     "name": "stdout",
     "output_type": "stream",
     "text": [
      "Validation loss: 0.5504133303960165\n",
      "Validation set accuracy:  65.61679790026247 %\n",
      "\n",
      "\n",
      "Epoch 3\n"
     ]
    },
    {
     "data": {
      "application/vnd.jupyter.widget-view+json": {
       "model_id": "9b9b6c9ca8fa4e298e4a6c4779ac39ea",
       "version_major": 2,
       "version_minor": 0
      },
      "text/plain": [
       "  0%|          | 0/61 [00:00<?, ?it/s]"
      ]
     },
     "metadata": {},
     "output_type": "display_data"
    },
    {
     "name": "stdout",
     "output_type": "stream",
     "text": [
      "Validation loss: 0.5267924418052038\n",
      "Validation set accuracy:  81.62729658792651 %\n",
      "\n",
      "\n",
      "Epoch 4\n"
     ]
    },
    {
     "data": {
      "application/vnd.jupyter.widget-view+json": {
       "model_id": "54b91744d5484a878cc28255d94788c0",
       "version_major": 2,
       "version_minor": 0
      },
      "text/plain": [
       "  0%|          | 0/61 [00:00<?, ?it/s]"
      ]
     },
     "metadata": {},
     "output_type": "display_data"
    },
    {
     "name": "stdout",
     "output_type": "stream",
     "text": [
      "Validation loss: 0.5409970730543137\n",
      "Validation set accuracy:  67.45406824146981 %\n",
      "\n",
      "\n",
      "Epoch 5\n"
     ]
    },
    {
     "data": {
      "application/vnd.jupyter.widget-view+json": {
       "model_id": "94bccd9e014243438446ab4b43634672",
       "version_major": 2,
       "version_minor": 0
      },
      "text/plain": [
       "  0%|          | 0/61 [00:00<?, ?it/s]"
      ]
     },
     "metadata": {},
     "output_type": "display_data"
    },
    {
     "name": "stdout",
     "output_type": "stream",
     "text": [
      "Validation loss: 0.5811852216720581\n",
      "Validation set accuracy:  63.77952755905512 %\n",
      "\n",
      "\n",
      "Epoch 6\n"
     ]
    },
    {
     "data": {
      "application/vnd.jupyter.widget-view+json": {
       "model_id": "4cea9622e7c5490886074235ea618b82",
       "version_major": 2,
       "version_minor": 0
      },
      "text/plain": [
       "  0%|          | 0/61 [00:00<?, ?it/s]"
      ]
     },
     "metadata": {},
     "output_type": "display_data"
    },
    {
     "name": "stdout",
     "output_type": "stream",
     "text": [
      "Validation loss: 0.5091564754645029\n",
      "Validation set accuracy:  71.91601049868767 %\n",
      "\n",
      "\n",
      "Epoch 7\n"
     ]
    },
    {
     "data": {
      "application/vnd.jupyter.widget-view+json": {
       "model_id": "cef7e9e542db4b0f8f6cb39641ecc80f",
       "version_major": 2,
       "version_minor": 0
      },
      "text/plain": [
       "  0%|          | 0/61 [00:00<?, ?it/s]"
      ]
     },
     "metadata": {},
     "output_type": "display_data"
    },
    {
     "name": "stdout",
     "output_type": "stream",
     "text": [
      "Validation loss: 0.4766240219275157\n",
      "Validation set accuracy:  77.16535433070867 %\n",
      "\n",
      "\n",
      "Epoch 8\n"
     ]
    },
    {
     "data": {
      "application/vnd.jupyter.widget-view+json": {
       "model_id": "05bb3dc7c8ca40d58b80de37b1e461bf",
       "version_major": 2,
       "version_minor": 0
      },
      "text/plain": [
       "  0%|          | 0/61 [00:00<?, ?it/s]"
      ]
     },
     "metadata": {},
     "output_type": "display_data"
    },
    {
     "name": "stdout",
     "output_type": "stream",
     "text": [
      "Validation loss: 0.47908712923526764\n",
      "Validation set accuracy:  76.37795275590551 %\n",
      "\n",
      "\n",
      "Epoch 9\n"
     ]
    },
    {
     "data": {
      "application/vnd.jupyter.widget-view+json": {
       "model_id": "6694b5025b2e41b6aac924710d378ced",
       "version_major": 2,
       "version_minor": 0
      },
      "text/plain": [
       "  0%|          | 0/61 [00:00<?, ?it/s]"
      ]
     },
     "metadata": {},
     "output_type": "display_data"
    }
   ],
   "source": [
    "#Second Model Training\n",
    "sl_train_loader = DataLoader(sl_train, batch_size=BATCH_SIZE_SL, shuffle=True)\n",
    "sl_val_loader = DataLoader(sl_val, batch_size=BATCH_SIZE_SL, shuffle=True)\n",
    "sl_test_loader = DataLoader(sl_test, batch_size=BATCH_SIZE_SL, shuffle=True)\n",
    "    \n",
    "sl_model = model.CNN(dropout=DROPOUT_SL).to(device)  \n",
    "sl_optimizer = optim.Adam(sl_model.parameters(), lr=L_RATE_SL, weight_decay = WD_SL)\n",
    "    \n",
    "print(\"\\n\\n\")\n",
    "print(\"Training the second model to classify COVID and non-COVID images\")\n",
    "model.train(sl_model, device, nn.BCELoss(), sl_optimizer, sl_train_loader, sl_val_loader, N_EPOCH, PATIENCE, \"sl\")\n",
    "    \n",
    "print(\"\\n\\n\")\n",
    "print(\"Test Accuracy of the second model:\")\n",
    "model.test(sl_model, device, sl_test_loader)\n",
    "    \n",
    "sl_model.to(\"cpu\")\n",
    "    \n",
    "model.save_model(sl_model, sl_optimizer, './saved_models/sl_model_augmentations.pth')"
   ]
  },
  {
   "cell_type": "markdown",
   "metadata": {},
   "source": [
    "Analyzing the performance of each model (first layer and second layer models) "
   ]
  },
  {
   "cell_type": "markdown",
   "metadata": {},
   "source": [
    "Learning Curve of the First Layer Model"
   ]
  },
  {
   "cell_type": "code",
   "execution_count": null,
   "metadata": {},
   "outputs": [],
   "source": [
    "Image(filename='./saved_graphs/fl_learning_curve_augmented.png') "
   ]
  },
  {
   "cell_type": "markdown",
   "metadata": {},
   "source": [
    "Learning Curve of the Second Layer Model"
   ]
  },
  {
   "cell_type": "code",
   "execution_count": null,
   "metadata": {},
   "outputs": [],
   "source": [
    "Image(filename='./saved_graphs/sl_learning_curve_augmented.png') "
   ]
  },
  {
   "cell_type": "markdown",
   "metadata": {},
   "source": [
    "Combine the 2 Models and Test the results on validation and test"
   ]
  },
  {
   "cell_type": "code",
   "execution_count": null,
   "metadata": {},
   "outputs": [],
   "source": [
    "final_val_loader = DataLoader(final_val, batch_size=BATCH_SIZE_FL, shuffle=False)\n",
    "final_test_loader = DataLoader(final_test, batch_size=BATCH_SIZE_FL, shuffle=False)\n",
    "    \n",
    "combined_model = model.load_combined('./saved_models/fl_model_augmentations.pth','./saved_models/sl_model_augmentations.pth' ,\n",
    "                                     L_RATE_FL, DROPOUT_FL, WD_FL, L_RATE_SL, DROPOUT_SL, WD_SL)\n",
    "pred = combined_model.predict_loader(device, final_val_loader)\n",
    "actual = torch.empty(0, 3).to(device)\n",
    "for _, labels in final_val_loader:\n",
    "    labels = labels.to(device)\n",
    "    actual = torch.cat((actual, labels), 0)\n",
    "print(\"Validation Results\")\n",
    "print(\"Accuracy: {}\".format(model.accuracy(pred, actual)))\n",
    "print(\"Precision: {}\".format(model.precision(pred, actual)))\n",
    "print(\"Recall: {}\".format(model.recall(pred, actual)))\n",
    "print()\n",
    "pred = combined_model.predict_loader(device, final_test_loader)\n",
    "actual = torch.empty(0, 3).to(device)\n",
    "for _, labels in final_test_loader:\n",
    "    labels = labels.to(device)\n",
    "    actual = torch.cat((actual, labels), 0)\n",
    "\n",
    "print(\"Test Results\")\n",
    "print(\"Accuracy: {}\".format(model.accuracy(pred, actual)))\n",
    "print(\"Precision: {}\".format(model.precision(pred, actual)))\n",
    "print(\"Recall: {}\".format(model.recall(pred, actual)))\n",
    "\n",
    "print(\"\\n\\n\")\n",
    "print(\"Visualizing the Test Set: \")\n",
    "utils.generate_performance_display(final_test_loader, pred, combined_labels)"
   ]
  },
  {
   "cell_type": "code",
   "execution_count": null,
   "metadata": {},
   "outputs": [],
   "source": []
  }
 ],
 "metadata": {
  "kernelspec": {
   "display_name": "Python 3",
   "language": "python",
   "name": "python3"
  },
  "language_info": {
   "codemirror_mode": {
    "name": "ipython",
    "version": 3
   },
   "file_extension": ".py",
   "mimetype": "text/x-python",
   "name": "python",
   "nbconvert_exporter": "python",
   "pygments_lexer": "ipython3",
   "version": "3.7.9"
  }
 },
 "nbformat": 4,
 "nbformat_minor": 2
}
