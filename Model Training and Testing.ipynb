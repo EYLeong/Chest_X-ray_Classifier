{
 "cells": [
  {
   "cell_type": "code",
   "execution_count": 1,
   "metadata": {},
   "outputs": [],
   "source": [
    "# Torch\n",
    "import torch\n",
    "from torch.utils.data import DataLoader\n",
    "from torch import optim, nn\n",
    "\n",
    "# Custom\n",
    "import data\n",
    "import model"
   ]
  },
  {
   "cell_type": "code",
   "execution_count": 2,
   "metadata": {},
   "outputs": [],
   "source": [
    "\"\"\"\n",
    "Data Split for First Layer classification task (normal vs infected) \n",
    "\"\"\"\n",
    "\n",
    "fl_labels = {\n",
    "0 : \"Normal\",\n",
    "1 : \"Infected\"\n",
    "}\n",
    "\n",
    "fl_train = data.Lung_Dataset('train', verbose = 0)\n",
    "fl_test = data.Lung_Dataset('test', verbose = 0)\n",
    "fl_val = data.Lung_Dataset('val', verbose = 0)\n",
    "\n",
    "\"\"\"\n",
    "Data Split for Second Layer classification task (COVID vs Non-COVID) \n",
    "\"\"\"\n",
    "\n",
    "sl_labels = {\n",
    "0 : \"COVID\",\n",
    "1 : \"Non-COVID\"\n",
    "}\n",
    "\n",
    "sl_train = data.Lung_Dataset('train', verbose = 2)\n",
    "sl_test = data.Lung_Dataset('test', verbose = 2)\n",
    "sl_val = data.Lung_Dataset('val', verbose = 2)"
   ]
  },
  {
   "cell_type": "code",
   "execution_count": 3,
   "metadata": {},
   "outputs": [
    {
     "name": "stdout",
     "output_type": "stream",
     "text": [
      "Training the first model to classify normal and infected images\n",
      "Epoch 1\n"
     ]
    },
    {
     "data": {
      "application/vnd.jupyter.widget-view+json": {
       "model_id": "61425145e7c14318895b17dad574be28",
       "version_major": 2,
       "version_minor": 0
      },
      "text/plain": [
       "HBox(children=(FloatProgress(value=0.0, max=163.0), HTML(value='')))"
      ]
     },
     "metadata": {},
     "output_type": "display_data"
    },
    {
     "name": "stdout",
     "output_type": "stream",
     "text": [
      "\n",
      "Validation loss: 0.7909051775932312\n",
      "Validation set accuracy:  68.0 %\n",
      "\n",
      "Epoch 2\n"
     ]
    },
    {
     "data": {
      "application/vnd.jupyter.widget-view+json": {
       "model_id": "fc98c01e0cfa48fb8f95cae00d5952bb",
       "version_major": 2,
       "version_minor": 0
      },
      "text/plain": [
       "HBox(children=(FloatProgress(value=0.0, max=163.0), HTML(value='')))"
      ]
     },
     "metadata": {},
     "output_type": "display_data"
    },
    {
     "name": "stdout",
     "output_type": "stream",
     "text": [
      "\n",
      "Validation loss: 1.283989667892456\n",
      "Validation set accuracy:  72.0 %\n",
      "\n",
      "Epoch 3\n"
     ]
    },
    {
     "data": {
      "application/vnd.jupyter.widget-view+json": {
       "model_id": "c1ee4332ce0f4438bc652d15b0968592",
       "version_major": 2,
       "version_minor": 0
      },
      "text/plain": [
       "HBox(children=(FloatProgress(value=0.0, max=163.0), HTML(value='')))"
      ]
     },
     "metadata": {},
     "output_type": "display_data"
    },
    {
     "name": "stdout",
     "output_type": "stream",
     "text": [
      "\n",
      "Validation loss: 0.5638637542724609\n",
      "Validation set accuracy:  80.0 %\n",
      "\n",
      "Epoch 4\n"
     ]
    },
    {
     "data": {
      "application/vnd.jupyter.widget-view+json": {
       "model_id": "243802d55f3b4ef7953ee39821f5fccf",
       "version_major": 2,
       "version_minor": 0
      },
      "text/plain": [
       "HBox(children=(FloatProgress(value=0.0, max=163.0), HTML(value='')))"
      ]
     },
     "metadata": {},
     "output_type": "display_data"
    },
    {
     "name": "stdout",
     "output_type": "stream",
     "text": [
      "\n",
      "Validation loss: 0.22470298409461975\n",
      "Validation set accuracy:  88.0 %\n",
      "\n",
      "Epoch 5\n"
     ]
    },
    {
     "data": {
      "application/vnd.jupyter.widget-view+json": {
       "model_id": "fccad8cf3f8049e6a5b3d1cbeac8a010",
       "version_major": 2,
       "version_minor": 0
      },
      "text/plain": [
       "HBox(children=(FloatProgress(value=0.0, max=163.0), HTML(value='')))"
      ]
     },
     "metadata": {},
     "output_type": "display_data"
    },
    {
     "name": "stdout",
     "output_type": "stream",
     "text": [
      "\n",
      "Validation loss: 0.3365747034549713\n",
      "Validation set accuracy:  88.0 %\n",
      "\n",
      "Epoch 6\n"
     ]
    },
    {
     "data": {
      "application/vnd.jupyter.widget-view+json": {
       "model_id": "fe5dba1494934adc86e97c10409954fc",
       "version_major": 2,
       "version_minor": 0
      },
      "text/plain": [
       "HBox(children=(FloatProgress(value=0.0, max=163.0), HTML(value='')))"
      ]
     },
     "metadata": {},
     "output_type": "display_data"
    },
    {
     "name": "stdout",
     "output_type": "stream",
     "text": [
      "\n",
      "Validation loss: 0.6223231554031372\n",
      "Validation set accuracy:  84.0 %\n",
      "\n",
      "Epoch 7\n"
     ]
    },
    {
     "data": {
      "application/vnd.jupyter.widget-view+json": {
       "model_id": "42c59024702b4cbbb596cea823da5b30",
       "version_major": 2,
       "version_minor": 0
      },
      "text/plain": [
       "HBox(children=(FloatProgress(value=0.0, max=163.0), HTML(value='')))"
      ]
     },
     "metadata": {},
     "output_type": "display_data"
    },
    {
     "name": "stdout",
     "output_type": "stream",
     "text": [
      "\n",
      "Validation loss: 0.17938606441020966\n",
      "Validation set accuracy:  88.0 %\n",
      "\n",
      "Epoch 8\n"
     ]
    },
    {
     "data": {
      "application/vnd.jupyter.widget-view+json": {
       "model_id": "ca97429d105447f9978dbf7d1ee555ef",
       "version_major": 2,
       "version_minor": 0
      },
      "text/plain": [
       "HBox(children=(FloatProgress(value=0.0, max=163.0), HTML(value='')))"
      ]
     },
     "metadata": {},
     "output_type": "display_data"
    },
    {
     "name": "stdout",
     "output_type": "stream",
     "text": [
      "\n",
      "Validation loss: 0.38574036955833435\n",
      "Validation set accuracy:  88.0 %\n",
      "\n",
      "Epoch 9\n"
     ]
    },
    {
     "data": {
      "application/vnd.jupyter.widget-view+json": {
       "model_id": "e56897d81b1844479cce30945887a79a",
       "version_major": 2,
       "version_minor": 0
      },
      "text/plain": [
       "HBox(children=(FloatProgress(value=0.0, max=163.0), HTML(value='')))"
      ]
     },
     "metadata": {},
     "output_type": "display_data"
    },
    {
     "name": "stdout",
     "output_type": "stream",
     "text": [
      "\n",
      "Validation loss: 0.3254808485507965\n",
      "Validation set accuracy:  84.0 %\n",
      "\n",
      "Epoch 10\n"
     ]
    },
    {
     "data": {
      "application/vnd.jupyter.widget-view+json": {
       "model_id": "7937b9aa20a74c6b80590727e278ad8e",
       "version_major": 2,
       "version_minor": 0
      },
      "text/plain": [
       "HBox(children=(FloatProgress(value=0.0, max=163.0), HTML(value='')))"
      ]
     },
     "metadata": {},
     "output_type": "display_data"
    },
    {
     "name": "stdout",
     "output_type": "stream",
     "text": [
      "\n",
      "Validation loss: 0.0829935148358345\n",
      "Validation set accuracy:  96.0 %\n",
      "\n",
      "Epoch 11\n"
     ]
    },
    {
     "data": {
      "application/vnd.jupyter.widget-view+json": {
       "model_id": "0dfa996e788a41a7818885e8686b7631",
       "version_major": 2,
       "version_minor": 0
      },
      "text/plain": [
       "HBox(children=(FloatProgress(value=0.0, max=163.0), HTML(value='')))"
      ]
     },
     "metadata": {},
     "output_type": "display_data"
    },
    {
     "name": "stdout",
     "output_type": "stream",
     "text": [
      "\n",
      "Validation loss: 0.28695565462112427\n",
      "Validation set accuracy:  92.0 %\n",
      "\n",
      "Epoch 12\n"
     ]
    },
    {
     "data": {
      "application/vnd.jupyter.widget-view+json": {
       "model_id": "be0ccb63db5e40419926b4ebd9bd5457",
       "version_major": 2,
       "version_minor": 0
      },
      "text/plain": [
       "HBox(children=(FloatProgress(value=0.0, max=163.0), HTML(value='')))"
      ]
     },
     "metadata": {},
     "output_type": "display_data"
    },
    {
     "name": "stdout",
     "output_type": "stream",
     "text": [
      "\n",
      "Validation loss: 0.9076387286186218\n",
      "Validation set accuracy:  80.0 %\n",
      "\n",
      "Epoch 13\n"
     ]
    },
    {
     "data": {
      "application/vnd.jupyter.widget-view+json": {
       "model_id": "8c461d5e2bff4c3595fe422815265945",
       "version_major": 2,
       "version_minor": 0
      },
      "text/plain": [
       "HBox(children=(FloatProgress(value=0.0, max=163.0), HTML(value='')))"
      ]
     },
     "metadata": {},
     "output_type": "display_data"
    },
    {
     "name": "stdout",
     "output_type": "stream",
     "text": [
      "\n",
      "Validation loss: 0.327330082654953\n",
      "Validation set accuracy:  84.0 %\n",
      "\n",
      "Epoch 14\n"
     ]
    },
    {
     "data": {
      "application/vnd.jupyter.widget-view+json": {
       "model_id": "4d1eefdeafbf48b1a14e63fbdee20b92",
       "version_major": 2,
       "version_minor": 0
      },
      "text/plain": [
       "HBox(children=(FloatProgress(value=0.0, max=163.0), HTML(value='')))"
      ]
     },
     "metadata": {},
     "output_type": "display_data"
    },
    {
     "name": "stdout",
     "output_type": "stream",
     "text": [
      "\n",
      "Validation loss: 0.11998473107814789\n",
      "Validation set accuracy:  96.0 %\n",
      "\n",
      "Epoch 15\n"
     ]
    },
    {
     "data": {
      "application/vnd.jupyter.widget-view+json": {
       "model_id": "7a181ce4d7b842d8b61d83eecb401188",
       "version_major": 2,
       "version_minor": 0
      },
      "text/plain": [
       "HBox(children=(FloatProgress(value=0.0, max=163.0), HTML(value='')))"
      ]
     },
     "metadata": {},
     "output_type": "display_data"
    },
    {
     "name": "stdout",
     "output_type": "stream",
     "text": [
      "\n",
      "Validation loss: 0.15012872219085693\n",
      "Validation set accuracy:  96.0 %\n",
      "\n",
      "\n",
      "\n",
      "\n",
      "Test Accuracy of the first model:\n",
      "Test set accuracy:  76.58536585365853 %\n",
      "\n",
      "\n",
      "\n",
      "Training the second model to classify COVID and non-COVID images\n",
      "Epoch 1\n"
     ]
    },
    {
     "data": {
      "application/vnd.jupyter.widget-view+json": {
       "model_id": "84aaf9cadb764ef0b488a712e8ba0fae",
       "version_major": 2,
       "version_minor": 0
      },
      "text/plain": [
       "HBox(children=(FloatProgress(value=0.0, max=122.0), HTML(value='')))"
      ]
     },
     "metadata": {},
     "output_type": "display_data"
    },
    {
     "name": "stdout",
     "output_type": "stream",
     "text": [
      "\n",
      "Validation loss: 0.815004289150238\n",
      "Validation set accuracy:  58.8235294117647 %\n",
      "\n",
      "Epoch 2\n"
     ]
    },
    {
     "data": {
      "application/vnd.jupyter.widget-view+json": {
       "model_id": "dc514306b9974426aacec949c036fc3d",
       "version_major": 2,
       "version_minor": 0
      },
      "text/plain": [
       "HBox(children=(FloatProgress(value=0.0, max=122.0), HTML(value='')))"
      ]
     },
     "metadata": {},
     "output_type": "display_data"
    },
    {
     "name": "stdout",
     "output_type": "stream",
     "text": [
      "\n",
      "Validation loss: 0.887675940990448\n",
      "Validation set accuracy:  47.05882352941177 %\n",
      "\n",
      "Epoch 3\n"
     ]
    },
    {
     "data": {
      "application/vnd.jupyter.widget-view+json": {
       "model_id": "e4baef2b9b45448fb28de6d7494e2978",
       "version_major": 2,
       "version_minor": 0
      },
      "text/plain": [
       "HBox(children=(FloatProgress(value=0.0, max=122.0), HTML(value='')))"
      ]
     },
     "metadata": {},
     "output_type": "display_data"
    },
    {
     "name": "stdout",
     "output_type": "stream",
     "text": [
      "\n",
      "Validation loss: 0.8344905376434326\n",
      "Validation set accuracy:  52.94117647058823 %\n",
      "\n",
      "Epoch 4\n"
     ]
    },
    {
     "data": {
      "application/vnd.jupyter.widget-view+json": {
       "model_id": "fe91b8289f2e49ecb0efe166b0eb31e9",
       "version_major": 2,
       "version_minor": 0
      },
      "text/plain": [
       "HBox(children=(FloatProgress(value=0.0, max=122.0), HTML(value='')))"
      ]
     },
     "metadata": {},
     "output_type": "display_data"
    },
    {
     "name": "stdout",
     "output_type": "stream",
     "text": [
      "\n",
      "Validation loss: 0.9076252579689026\n",
      "Validation set accuracy:  58.8235294117647 %\n",
      "\n",
      "Epoch 5\n"
     ]
    },
    {
     "data": {
      "application/vnd.jupyter.widget-view+json": {
       "model_id": "49636576870943d99b20b2622b85d227",
       "version_major": 2,
       "version_minor": 0
      },
      "text/plain": [
       "HBox(children=(FloatProgress(value=0.0, max=122.0), HTML(value='')))"
      ]
     },
     "metadata": {},
     "output_type": "display_data"
    },
    {
     "name": "stdout",
     "output_type": "stream",
     "text": [
      "\n",
      "Validation loss: 0.8071427345275879\n",
      "Validation set accuracy:  64.70588235294117 %\n",
      "\n",
      "Epoch 6\n"
     ]
    },
    {
     "data": {
      "application/vnd.jupyter.widget-view+json": {
       "model_id": "a19be1342e254510b764631596097fe0",
       "version_major": 2,
       "version_minor": 0
      },
      "text/plain": [
       "HBox(children=(FloatProgress(value=0.0, max=122.0), HTML(value='')))"
      ]
     },
     "metadata": {},
     "output_type": "display_data"
    },
    {
     "name": "stdout",
     "output_type": "stream",
     "text": [
      "\n",
      "Validation loss: 0.851006805896759\n",
      "Validation set accuracy:  47.05882352941177 %\n",
      "\n",
      "Epoch 7\n"
     ]
    },
    {
     "data": {
      "application/vnd.jupyter.widget-view+json": {
       "model_id": "0a89952ecacc433c8e6afe0027b83a70",
       "version_major": 2,
       "version_minor": 0
      },
      "text/plain": [
       "HBox(children=(FloatProgress(value=0.0, max=122.0), HTML(value='')))"
      ]
     },
     "metadata": {},
     "output_type": "display_data"
    },
    {
     "name": "stdout",
     "output_type": "stream",
     "text": [
      "\n",
      "Validation loss: 0.917757511138916\n",
      "Validation set accuracy:  41.1764705882353 %\n",
      "\n",
      "Epoch 8\n"
     ]
    },
    {
     "data": {
      "application/vnd.jupyter.widget-view+json": {
       "model_id": "7365b984120c40e6a36baea36dd1c61c",
       "version_major": 2,
       "version_minor": 0
      },
      "text/plain": [
       "HBox(children=(FloatProgress(value=0.0, max=122.0), HTML(value='')))"
      ]
     },
     "metadata": {},
     "output_type": "display_data"
    },
    {
     "name": "stdout",
     "output_type": "stream",
     "text": [
      "\n",
      "Validation loss: 0.890629231929779\n",
      "Validation set accuracy:  64.70588235294117 %\n",
      "\n",
      "Epoch 9\n"
     ]
    },
    {
     "data": {
      "application/vnd.jupyter.widget-view+json": {
       "model_id": "3b43e3879f3c49419d4caa34f95599b4",
       "version_major": 2,
       "version_minor": 0
      },
      "text/plain": [
       "HBox(children=(FloatProgress(value=0.0, max=122.0), HTML(value='')))"
      ]
     },
     "metadata": {},
     "output_type": "display_data"
    },
    {
     "name": "stdout",
     "output_type": "stream",
     "text": [
      "\n",
      "Validation loss: 1.0558222532272339\n",
      "Validation set accuracy:  35.294117647058826 %\n",
      "\n",
      "Epoch 10\n"
     ]
    },
    {
     "data": {
      "application/vnd.jupyter.widget-view+json": {
       "model_id": "de960ef4a5cc4ecba15e4bc7bef981bc",
       "version_major": 2,
       "version_minor": 0
      },
      "text/plain": [
       "HBox(children=(FloatProgress(value=0.0, max=122.0), HTML(value='')))"
      ]
     },
     "metadata": {},
     "output_type": "display_data"
    },
    {
     "name": "stdout",
     "output_type": "stream",
     "text": [
      "\n",
      "Validation loss: 1.007980465888977\n",
      "Validation set accuracy:  58.8235294117647 %\n",
      "\n",
      "\n",
      "\n",
      "\n",
      "Test Accuracy of the second model:\n",
      "Test set accuracy:  92.1259842519685 %\n"
     ]
    }
   ],
   "source": [
    "def main():\n",
    "    N_EPOCH = 200\n",
    "    L_RATE = 0.001\n",
    "    BATCH_SIZE = 32\n",
    "    PATIENCE = 5\n",
    "    \n",
    "    device = torch.device(\"cuda\" if torch.cuda.is_available() else \"cpu\")\n",
    "\n",
    "    fl_train_loader = DataLoader(fl_train, batch_size=BATCH_SIZE, shuffle=True)\n",
    "    fl_val_loader = DataLoader(fl_val, batch_size=BATCH_SIZE, shuffle=True)\n",
    "    fl_test_loader = DataLoader(fl_test, batch_size=BATCH_SIZE, shuffle=True)\n",
    "    \n",
    "    fl_model = model.CNN().to(device)\n",
    "    fl_optimizer = optim.Adam(fl_model.parameters(), lr=L_RATE)\n",
    "    \n",
    "    print(\"Training the first model to classify normal and infected images\")\n",
    "    model.train(fl_model, device, nn.BCELoss(), fl_optimizer, fl_train_loader, fl_val_loader, N_EPOCH, PATIENCE)\n",
    "\n",
    "    print(\"\\n\\n\")\n",
    "    print(\"Test Accuracy of the first model:\")\n",
    "    model.test(fl_model, device, fl_test_loader)\n",
    "\n",
    "    fl_model.to(\"cpu\")\n",
    "    \n",
    "    \n",
    "    #Second Model\n",
    "    sl_train_loader = DataLoader(sl_train, batch_size=BATCH_SIZE, shuffle=True)\n",
    "    sl_val_loader = DataLoader(sl_val, batch_size=BATCH_SIZE, shuffle=True)\n",
    "    sl_test_loader = DataLoader(sl_test, batch_size=BATCH_SIZE, shuffle=True)\n",
    "    \n",
    "    sl_model = model.CNN().to(device)\n",
    "    \n",
    "    sl_optimizer = optim.Adam(sl_model.parameters(), lr=L_RATE)\n",
    "    \n",
    "    print(\"\\n\\n\")\n",
    "    print(\"Training the second model to classify COVID and non-COVID images\")\n",
    "    model.train(sl_model, device, nn.BCELoss(), sl_optimizer, sl_train_loader, sl_val_loader, N_EPOCH, PATIENCE)\n",
    "    \n",
    "    print(\"\\n\\n\")\n",
    "    print(\"Test Accuracy of the second model:\")\n",
    "    model.test(sl_model, device, sl_test_loader)\n",
    "    \n",
    "if __name__ == '__main__':\n",
    "    main()"
   ]
  },
  {
   "cell_type": "code",
   "execution_count": 4,
   "metadata": {},
   "outputs": [
    {
     "data": {
      "text/plain": [
       "'\\nPlaceholder - Code to generate images and the corresponding labels\\nif plot == True:\\n        example_data = np.zeros([24, 150, 150])\\n        example_pred = np.zeros(24)\\n        \\n        for i in range(24):\\n            example_data[i] = data[i][0].to(\"cpu\").numpy()\\n            example_pred[i] = pred[i].to(\"cpu\").numpy()\\n                    \\n        for i in range(24):\\n            plt.subplot(5,5,i+1)\\n            plt.imshow(example_data[i], cmap=\\'gray\\', interpolation=\\'none\\')\\n            plt.title(fl_labels[example_pred[i]])\\n            plt.xticks([])\\n            plt.yticks([])\\n        plt.show()\\n'"
      ]
     },
     "execution_count": 4,
     "metadata": {},
     "output_type": "execute_result"
    }
   ],
   "source": [
    "'''\n",
    "Placeholder - Code to generate images and the corresponding labels\n",
    "if plot == True:\n",
    "        example_data = np.zeros([24, 150, 150])\n",
    "        example_pred = np.zeros(24)\n",
    "        \n",
    "        for i in range(24):\n",
    "            example_data[i] = data[i][0].to(\"cpu\").numpy()\n",
    "            example_pred[i] = pred[i].to(\"cpu\").numpy()\n",
    "                    \n",
    "        for i in range(24):\n",
    "            plt.subplot(5,5,i+1)\n",
    "            plt.imshow(example_data[i], cmap='gray', interpolation='none')\n",
    "            plt.title(fl_labels[example_pred[i]])\n",
    "            plt.xticks([])\n",
    "            plt.yticks([])\n",
    "        plt.show()\n",
    "'''"
   ]
  },
  {
   "cell_type": "code",
   "execution_count": null,
   "metadata": {},
   "outputs": [],
   "source": []
  }
 ],
 "metadata": {
  "kernelspec": {
   "display_name": "Python 3",
   "language": "python",
   "name": "python3"
  },
  "language_info": {
   "codemirror_mode": {
    "name": "ipython",
    "version": 3
   },
   "file_extension": ".py",
   "mimetype": "text/x-python",
   "name": "python",
   "nbconvert_exporter": "python",
   "pygments_lexer": "ipython3",
   "version": "3.6.10"
  }
 },
 "nbformat": 4,
 "nbformat_minor": 2
}
