{
 "cells": [
  {
   "cell_type": "code",
   "execution_count": 1,
   "metadata": {},
   "outputs": [],
   "source": [
    "%matplotlib inline\n",
    "\n",
    "# Matplotlib\n",
    "import matplotlib.pyplot as plt\n",
    "# Numpy\n",
    "import numpy as np\n",
    "# Pillow\n",
    "from PIL import Image\n",
    "#tqdm\n",
    "from tqdm.notebook import tqdm\n",
    "# Torch\n",
    "import torch\n",
    "from torch.utils.data import Dataset, DataLoader\n",
    "import torch.nn as nn\n",
    "import torch.optim as optim\n",
    "import torch.nn.functional as F\n",
    "from torch.autograd import Variable\n",
    "from torchvision import transforms\n",
    "#OS\n",
    "import os"
   ]
  },
  {
   "cell_type": "markdown",
   "metadata": {},
   "source": [
    "Data Loading using the dataloader class"
   ]
  },
  {
   "cell_type": "code",
   "execution_count": 2,
   "metadata": {
    "code_folding": [
     0
    ]
   },
   "outputs": [],
   "source": [
    "class Lung_Dataset(Dataset):\n",
    "    \"\"\"\n",
    "    Lung Dataset Consisting of Infected and Non-Infected.\n",
    "    \"\"\"\n",
    "\n",
    "    def __init__(self, purpose, verbose=0):\n",
    "        \"\"\"\n",
    "        Constructor for generic Dataset class - simply assembles\n",
    "        the important parameters in attributes.\n",
    "        \n",
    "        Parameter:\n",
    "        -purpose variable should be set to a string of either 'train', 'test' or 'val'\n",
    "        -verbose takes an int of either 0,1 or 2. 0 will only differentiate between normal and infected, 1 will differentiate\n",
    "            between normal, covid and non-covid while 2 will only differentiate between covid and non-covid\n",
    "        \"\"\"\n",
    "        self.purpose = purpose\n",
    "        self.verbose = verbose\n",
    "        \n",
    "        # All images are of size 150 x 150\n",
    "        self.img_size = (150, 150)\n",
    "            \n",
    "        # The dataset has been split in training, testing and validation datasets\n",
    "        self.groups = ['train', 'test', 'val']\n",
    "        \n",
    "        # Path to images for different parts of the dataset\n",
    "        self.dataset_paths = {'train_normal': './dataset/train/normal/',\n",
    "                              'train_infected': './dataset/train/infected/',\n",
    "                              'train_infected_covid': './dataset/train/infected/covid',\n",
    "                              'train_infected_non_covid': './dataset/train/infected/non-covid',\n",
    "                              'test_normal': './dataset/test/normal/',\n",
    "                              'test_infected': './dataset/test/infected/',\n",
    "                              'test_infected_covid': './dataset/test/infected/covid',\n",
    "                              'test_infected_non_covid': './dataset/test/infected/non-covid',\n",
    "                              'val_normal': './dataset/val/normal/',\n",
    "                              'val_infected': './dataset/val/infected/',\n",
    "                              'val_infected_covid': './dataset/val/infected/covid',\n",
    "                              'val_infected_non_covid': './dataset/val/infected/non-covid'}\n",
    "        \n",
    "        self.dataset_numbers = {}\n",
    "        \n",
    "        # Consider normal and infected only\n",
    "        if verbose == 0:\n",
    "            self.classes = {0: 'normal', 1: 'infected'}\n",
    "            \n",
    "            #Populate self.dataset_numbers\n",
    "            for condition in self.classes.values():\n",
    "                key = \"{}_{}\".format(self.purpose, condition)\n",
    "                if condition == \"normal\":\n",
    "                    file_path = self.dataset_paths[key]\n",
    "                    count = len(os.listdir(file_path))\n",
    "                    self.dataset_numbers[key] = count\n",
    "                else:\n",
    "                    key1 = key + \"_covid\"\n",
    "                    key2 = key + \"_non_covid\"\n",
    "                    file_path1 = self.dataset_paths[key1]\n",
    "                    file_path2 = self.dataset_paths[key2]\n",
    "                    count1 = len(os.listdir(file_path1))\n",
    "                    count2 = len(os.listdir(file_path2))\n",
    "                    count = count1 + count2\n",
    "                    self.dataset_numbers[key] = count\n",
    "                       \n",
    "        #Consider normal, covid and non-covid\n",
    "        elif verbose == 1:\n",
    "            self.classes = {0: 'normal', 1: 'covid', 2: 'non_covid'}\n",
    "        \n",
    "            #Populate self.dataset_numbers\n",
    "            for condition in self.classes.values():\n",
    "                if condition == \"normal\":\n",
    "                    key = \"{}_{}\".format(self.purpose, condition)\n",
    "                    file_path = self.dataset_paths[key]\n",
    "                    count = len(os.listdir(file_path))\n",
    "                    self.dataset_numbers[key] = count\n",
    "                else:\n",
    "                    key = \"{}_infected\".format(self.purpose)\n",
    "                    key1 = key + \"_covid\"\n",
    "                    key2 = key + \"_non_covid\"\n",
    "                    file_path1 = self.dataset_paths[key1]\n",
    "                    file_path2 = self.dataset_paths[key2]\n",
    "                    count1 = len(os.listdir(file_path1))\n",
    "                    count2 = len(os.listdir(file_path2))\n",
    "                    self.dataset_numbers[key1] = count1\n",
    "                    self.dataset_numbers[key2] = count2\n",
    "                \n",
    "        #Consider covid and non-covid\n",
    "        elif verbose == 2:\n",
    "            self.classes = {0: 'covid', 1 :'non_covid' }\n",
    "\n",
    "            #Populate self.dataset_numbers\n",
    "            for condition in self.classes.values():\n",
    "                key = \"{}_infected\".format(self.purpose)\n",
    "                key1 = key + \"_covid\"\n",
    "                key2 = key + \"_non_covid\"\n",
    "                file_path1 = self.dataset_paths[key1]\n",
    "                file_path2 = self.dataset_paths[key2]\n",
    "                count1 = len(os.listdir(file_path1))\n",
    "                count2 = len(os.listdir(file_path2))\n",
    "                self.dataset_numbers[key1] = count1\n",
    "                self.dataset_numbers[key2] = count2\n",
    "            \n",
    "        else:\n",
    "            err_msg  = \"Verbose argument only takes in an int of either 0,1 or 2\"\n",
    "            raise TypeError(err_msg)\n",
    "        \n",
    "        \n",
    "    def describe(self):\n",
    "        \"\"\"\n",
    "        Descriptor function.\n",
    "        Will print details about the dataset when called.\n",
    "        \"\"\"\n",
    "        \n",
    "        # Generate description\n",
    "        msg = \"This is the Lung {} Dataset in the 50.039 Deep Learning class project\".format(self.purpose)\n",
    "        msg += \" in Feb-March 2021. \\n\"\n",
    "        msg += \"It contains a total of {} images, \".format(sum(self.dataset_numbers.values()))\n",
    "        msg += \"of size {} by {}.\\n\".format(self.img_size[0], self.img_size[1])\n",
    "        msg += \"The images are stored in the following locations \"\n",
    "        msg += \"and each one contains the following number of images:\\n\"\n",
    "        for key, val in self.dataset_numbers.items():\n",
    "            if key != 'infected':\n",
    "                file_path = self.dataset_paths[key]\n",
    "            else:\n",
    "                file_path = self.dataset_paths\n",
    "            msg += \" - {}, in folder {}: {} images.\\n\".format(key, file_path, val)\n",
    "        print(msg)\n",
    "        \n",
    "        \n",
    "    def open_img(self, class_val, index_val):\n",
    "        \"\"\"\n",
    "        Opens image with specified parameters.\n",
    "        \n",
    "        Parameters:\n",
    "        - class_val variable should be set to 'normal' or 'infected'.\n",
    "        - index_val should be an integer with values between 0 and the maximal number of images in dataset.\n",
    "        \n",
    "        Returns loaded image as a normalized Numpy array.\n",
    "        \"\"\"\n",
    "        group_val = self.purpose\n",
    "        err_msg = \"Error - class_val variable should be set to 'normal', 'infected', 'covid' or 'non_covid'.\"\n",
    "        assert class_val in self.classes.values(), err_msg\n",
    "        \n",
    "        if class_val == 'covid' or class_val == 'non_covid':\n",
    "            class_val = 'infected_' + class_val\n",
    "            \n",
    "        max_val = self.dataset_numbers['{}_{}'.format(group_val, class_val)]\n",
    "        err_msg = \"Error - index_val variable should be an integer between 0 and the maximal number of images.\"\n",
    "        err_msg += \"\\n(In {}/{}, you have {} images.)\".format(group_val, class_val, max_val)\n",
    "        assert isinstance(index_val, int), err_msg\n",
    "        assert index_val >= 0 and index_val <= max_val, err_msg\n",
    "        \n",
    "        # Open file as before\n",
    "        if class_val != \"infected\":\n",
    "            path_to_file = '{}/{}.jpg'.format(self.dataset_paths['{}_{}'.format(group_val, class_val)], index_val)\n",
    "        else:\n",
    "            covid_count = len(os.listdir(self.dataset_paths['{}_{}_covid'.format(group_val, class_val)]))\n",
    "            if index_val < covid_count:\n",
    "                path_to_file = '{}/{}.jpg'.format(self.dataset_paths['{}_{}_covid'.format(group_val, class_val)], index_val)\n",
    "            else:\n",
    "                index_val = index_val - covid_count\n",
    "                path_to_file = '{}/{}.jpg'.format(self.dataset_paths['{}_{}_non_covid'.format(group_val, class_val)], index_val)\n",
    "        with open(path_to_file, 'rb') as f:\n",
    "            im = np.asarray(Image.open(f))/255\n",
    "        f.close()\n",
    "        return im\n",
    "    \n",
    "    \n",
    "    def show_img(self, class_val, index_val):\n",
    "        \"\"\"\n",
    "        Opens, then displays image with specified parameters.\n",
    "        \n",
    "        Parameters:\n",
    "        - class_val variable should be set to 'normal' or 'infected'.\n",
    "        - index_val should be an integer with values between 0 and the maximal number of images in dataset.\n",
    "        \"\"\"\n",
    "        # Open image\n",
    "        im = self.open_img(class_val, index_val)\n",
    "        \n",
    "        # Display\n",
    "        plt.imshow(im)\n",
    "        \n",
    "    def __len__(self):\n",
    "        \"\"\"\n",
    "        Length special method, returns the number of images in dataset.\n",
    "        \"\"\"\n",
    "        \n",
    "        # Length function\n",
    "        return sum(self.dataset_numbers.values())\n",
    "    \n",
    "    \n",
    "    def __getitem__(self, index):\n",
    "        \"\"\"\n",
    "        Getitem special method.\n",
    "        \n",
    "        Expects an integer value index, between 0 and len(self) - 1.\n",
    "        \n",
    "        Returns the image and its label as a one hot vector, both\n",
    "        in torch tensor format in dataset.\n",
    "        \"\"\"\n",
    "        #If we only have 2 classes\n",
    "        if self.verbose == 0 or self.verbose == 2:\n",
    "            first_val = int(list(self.dataset_numbers.values())[0])\n",
    "            if index < first_val:\n",
    "                class_val = self.classes[0]\n",
    "                label = torch.Tensor([1, 0])\n",
    "            else:\n",
    "                class_val = self.classes[1]\n",
    "                index = index - first_val\n",
    "                label = torch.Tensor([0, 1])\n",
    "            im = self.open_img(class_val, index)\n",
    "            im = transforms.functional.to_tensor(np.array(im)).float()\n",
    "          \n",
    "        #If we have 3 classes to consider\n",
    "        elif self.verbose == 1:\n",
    "            first_val = int(list(self.dataset_numbers.values())[0])\n",
    "            second_val = int(list(self.dataset_numbers.values())[1])\n",
    "            if index < first_val:\n",
    "                class_val = self.classes[0]\n",
    "                label = torch.Tensor([1, 0, 0])\n",
    "            elif index >= first_val and index < first_val + second_val:\n",
    "                index = index - first_val\n",
    "                class_val = self.classes[1]\n",
    "                label = torch.Tensor([0,1,0])\n",
    "            else:\n",
    "                index = index-(first_val + second_val)\n",
    "                class_val = self.classes[2]\n",
    "                label = torch.Tensor([0,0,1])\n",
    "            im = self.open_img(class_val, index)\n",
    "            im = transforms.functional.to_tensor(np.array(im)).float()\n",
    "                \n",
    "        else:\n",
    "            raise TypeError(\"Verbose value is not 0,1 or 2\")\n",
    "        return im, label"
   ]
  },
  {
   "cell_type": "code",
   "execution_count": 3,
   "metadata": {},
   "outputs": [],
   "source": [
    "\"\"\"\n",
    "Data Split for First Layer classification task (normal vs infected) \n",
    "\"\"\"\n",
    "\n",
    "fl_labels = {\n",
    "0 : \"Normal\",\n",
    "1 : \"Infected\"\n",
    "}\n",
    "\n",
    "fl_train = Lung_Dataset('train', verbose = 0)\n",
    "fl_test = Lung_Dataset('test', verbose = 0)\n",
    "fl_val = Lung_Dataset('val', verbose = 0)\n",
    "\n",
    "\"\"\"\n",
    "Data Split for Second Layer classification task (COVID vs Non-COVID) \n",
    "\"\"\"\n",
    "\n",
    "sl_labels = {\n",
    "0 : \"COVID\",\n",
    "1 : \"Non-COVID\"\n",
    "}\n",
    "\n",
    "sl_train = Lung_Dataset('train', verbose = 2)\n",
    "sl_test = Lung_Dataset('test', verbose = 2)\n",
    "sl_val = Lung_Dataset('val', verbose = 2)"
   ]
  },
  {
   "cell_type": "markdown",
   "metadata": {},
   "source": [
    "Model Construction"
   ]
  },
  {
   "cell_type": "code",
   "execution_count": 4,
   "metadata": {
    "code_folding": []
   },
   "outputs": [],
   "source": [
    "class CNN(nn.Module):\n",
    "    def __init__(self):\n",
    "        super(CNN,self).__init__()\n",
    "        \n",
    "        \"\"\"\n",
    "        Insert each layer blocks. Same architecture will be used for the first layer and second layer CNNs\n",
    "        \"\"\"\n",
    "        self.conv1 = nn.Sequential(\n",
    "            nn.Conv2d(1, 64, kernel_size=3, stride=1, padding=1),\n",
    "            nn.MaxPool2d(kernel_size=2, stride=2),\n",
    "            nn.ReLU(),\n",
    "            nn.BatchNorm2d(64),\n",
    "            nn.Dropout(p=0.05))\n",
    "        self.conv2 = nn.Sequential(\n",
    "            nn.Conv2d(64, 128, kernel_size=3, stride=1, padding=1),\n",
    "            nn.MaxPool2d(kernel_size=2, stride=2),\n",
    "            nn.ReLU(),\n",
    "            nn.BatchNorm2d(128),\n",
    "            nn.Dropout(p=0.05))\n",
    "        self.conv3 = nn.Sequential(\n",
    "            nn.Conv2d(128, 256, kernel_size=3, stride=1, padding=1),\n",
    "            nn.MaxPool2d(kernel_size=2, stride=2),\n",
    "            nn.ReLU(),\n",
    "            nn.BatchNorm2d(256),\n",
    "            nn.Dropout(p=0.05))\n",
    "        self.conv4 = nn.Sequential(\n",
    "            nn.Conv2d(256, 512, kernel_size=3, stride=1, padding=1),\n",
    "            nn.MaxPool2d(kernel_size=2, stride=2),\n",
    "            nn.ReLU(),\n",
    "            nn.BatchNorm2d(512),\n",
    "            nn.Dropout(p=0.05))\n",
    "\n",
    "        self.final = nn.Sequential(\n",
    "            nn.AdaptiveAvgPool2d((1,1)),\n",
    "            nn.Flatten())\n",
    "\n",
    "        self.fc = nn.Linear(512, 1)\n",
    "        \n",
    "        \"\"\"\n",
    "        Initialization of the Conv layers and FC layer using Kaiming initialization\n",
    "        \"\"\"\n",
    "        self.conv1.apply(init_weights)\n",
    "        self.conv2.apply(init_weights)\n",
    "        self.conv3.apply(init_weights)\n",
    "        self.conv4.apply(init_weights)\n",
    "        self.fc.apply(init_weights)\n",
    "    \n",
    "    def forward(self,x):\n",
    "        \n",
    "        x = self.conv1(x)\n",
    "        x = self.conv2(x)\n",
    "        x = self.conv3(x)\n",
    "        x = self.conv4(x)\n",
    "        x = self.final(x)\n",
    "        x = self.fc(x)\n",
    "\n",
    "        return torch.sigmoid(x)"
   ]
  },
  {
   "cell_type": "code",
   "execution_count": 5,
   "metadata": {
    "code_folding": []
   },
   "outputs": [],
   "source": [
    "def init_weights(m):\n",
    "    if type(m) == nn.Linear or type(m) == nn.Conv2d:\n",
    "        nn.init.kaiming_normal_(m.weight, nonlinearity='relu')\n",
    "\n",
    "def train(model, device, train_loader, optimizer, epoch):\n",
    "    model.train()\n",
    "    \n",
    "    running_loss = 0\n",
    "    \n",
    "    tk0 = tqdm(train_loader, total=int(len(train_loader)))\n",
    "    counter = 0\n",
    "    \n",
    "    for batch_idx, (data, target) in enumerate(tk0):\n",
    "        data, target = data.to(device), target.to(device)\n",
    "        optimizer.zero_grad()\n",
    "        \n",
    "        output = model.forward(data)\n",
    "        \n",
    "        target = target.argmax(dim=1, keepdim=True).float()\n",
    "        \n",
    "        loss_criterion = nn.BCELoss()\n",
    "        loss = loss_criterion(output, target)\n",
    "        loss.backward()\n",
    "        optimizer.step()\n",
    "        \n",
    "        running_loss += loss.item()\n",
    "        \n",
    "        counter += 1\n",
    "        tk0.set_postfix(loss=(running_loss / (counter * train_loader.batch_size)))\n",
    "        \n",
    "        if (batch_idx + 1) % 100 == 0:\n",
    "            print('Epoch:', epoch, ',Training Loss:', running_loss / 100)\n",
    "            running_loss = 0\n",
    "        \n",
    "def validate(model, device, val_loader, loss_criterion, plot=False):\n",
    "    model.eval()\n",
    "\n",
    "    correct = 0\n",
    "    val_loss = 0\n",
    "\n",
    "    with torch.no_grad():\n",
    "        for data, target in val_loader:\n",
    "            data, target = data.to(device), target.to(device)\n",
    "\n",
    "            target = target.argmax(dim=1, keepdim=True).float()\n",
    "            \n",
    "            output = model.forward(data)\n",
    "            val_loss += loss_criterion(output, target).item()\n",
    "            \n",
    "            pred = torch.round(output)\n",
    "            equal_data = torch.sum(target.data == pred).item()\n",
    "            correct += equal_data\n",
    "\n",
    "    print(\"Validation loss: {}\".format(val_loss / len(val_loader)))\n",
    "    print('Validation set accuracy: ', 100. * correct / len(val_loader.dataset), '%')\n",
    "    \n",
    "    return (val_loss / len(val_loader))\n",
    "    \n",
    "def test(model, device, test_loader, plot=False):\n",
    "    model.eval()\n",
    "    \n",
    "    correct = 0\n",
    "    \n",
    "    with torch.no_grad():\n",
    "        for data, target in test_loader:\n",
    "            data, target = data.to(device), target.to(device)\n",
    "\n",
    "            target = target.argmax(dim=1, keepdim=True).float()\n",
    "            \n",
    "            output = model.forward(data)\n",
    "            pred = torch.round(output)\n",
    "\n",
    "            equal_data = torch.sum(target.data == pred).item()\n",
    "            correct += equal_data\n",
    "\n",
    "    print('Test set accuracy: ', 100. * correct / len(test_loader.dataset), '%')"
   ]
  },
  {
   "cell_type": "code",
   "execution_count": null,
   "metadata": {},
   "outputs": [
    {
     "name": "stdout",
     "output_type": "stream",
     "text": [
      "Training the first model to classify normal and infected images\n"
     ]
    },
    {
     "data": {
      "application/vnd.jupyter.widget-view+json": {
       "model_id": "5001511b178e4426aaaa2eb01066cd00",
       "version_major": 2,
       "version_minor": 0
      },
      "text/plain": [
       "  0%|          | 0/163 [00:00<?, ?it/s]"
      ]
     },
     "metadata": {},
     "output_type": "display_data"
    },
    {
     "name": "stdout",
     "output_type": "stream",
     "text": [
      "Epoch: 1 ,Training Loss: 0.29040430396795275\n",
      "Validation loss: 0.5365023016929626\n",
      "Validation set accuracy:  80.0 %\n"
     ]
    },
    {
     "data": {
      "application/vnd.jupyter.widget-view+json": {
       "model_id": "7d764cff78a340fd829e188e51908ba5",
       "version_major": 2,
       "version_minor": 0
      },
      "text/plain": [
       "  0%|          | 0/163 [00:00<?, ?it/s]"
      ]
     },
     "metadata": {},
     "output_type": "display_data"
    },
    {
     "name": "stdout",
     "output_type": "stream",
     "text": [
      "Epoch: 2 ,Training Loss: 0.12684269366785883\n",
      "Validation loss: 0.4281007647514343\n",
      "Validation set accuracy:  80.0 %\n"
     ]
    },
    {
     "data": {
      "application/vnd.jupyter.widget-view+json": {
       "model_id": "0894121d1db84f129d70a1715965e8eb",
       "version_major": 2,
       "version_minor": 0
      },
      "text/plain": [
       "  0%|          | 0/163 [00:00<?, ?it/s]"
      ]
     },
     "metadata": {},
     "output_type": "display_data"
    },
    {
     "name": "stdout",
     "output_type": "stream",
     "text": [
      "Epoch: 3 ,Training Loss: 0.10033320636022836\n",
      "Validation loss: 1.0439391136169434\n",
      "Validation set accuracy:  72.0 %\n"
     ]
    },
    {
     "data": {
      "application/vnd.jupyter.widget-view+json": {
       "model_id": "2e5e259869b74c0faa7cb35a47ecfea4",
       "version_major": 2,
       "version_minor": 0
      },
      "text/plain": [
       "  0%|          | 0/163 [00:00<?, ?it/s]"
      ]
     },
     "metadata": {},
     "output_type": "display_data"
    },
    {
     "name": "stdout",
     "output_type": "stream",
     "text": [
      "Epoch: 4 ,Training Loss: 0.07511252270080149\n",
      "Validation loss: 0.38340166211128235\n",
      "Validation set accuracy:  84.0 %\n"
     ]
    },
    {
     "data": {
      "application/vnd.jupyter.widget-view+json": {
       "model_id": "3a6fe4b2094944c687f7746510cf4697",
       "version_major": 2,
       "version_minor": 0
      },
      "text/plain": [
       "  0%|          | 0/163 [00:00<?, ?it/s]"
      ]
     },
     "metadata": {},
     "output_type": "display_data"
    },
    {
     "name": "stdout",
     "output_type": "stream",
     "text": [
      "Epoch: 5 ,Training Loss: 0.0697160076117143\n",
      "Validation loss: 0.3303759694099426\n",
      "Validation set accuracy:  84.0 %\n"
     ]
    },
    {
     "data": {
      "application/vnd.jupyter.widget-view+json": {
       "model_id": "95001bef8d0a4998b20964cca2672eda",
       "version_major": 2,
       "version_minor": 0
      },
      "text/plain": [
       "  0%|          | 0/163 [00:00<?, ?it/s]"
      ]
     },
     "metadata": {},
     "output_type": "display_data"
    },
    {
     "name": "stdout",
     "output_type": "stream",
     "text": [
      "Epoch: 6 ,Training Loss: 0.06187434356543235\n",
      "Validation loss: 0.8214783072471619\n",
      "Validation set accuracy:  76.0 %\n"
     ]
    },
    {
     "data": {
      "application/vnd.jupyter.widget-view+json": {
       "model_id": "b981e340f80b411987f465b060cca678",
       "version_major": 2,
       "version_minor": 0
      },
      "text/plain": [
       "  0%|          | 0/163 [00:00<?, ?it/s]"
      ]
     },
     "metadata": {},
     "output_type": "display_data"
    },
    {
     "name": "stdout",
     "output_type": "stream",
     "text": [
      "Epoch: 7 ,Training Loss: 0.06233951612841338\n",
      "Validation loss: 0.4333963394165039\n",
      "Validation set accuracy:  84.0 %\n"
     ]
    },
    {
     "data": {
      "application/vnd.jupyter.widget-view+json": {
       "model_id": "789c539eaf684ae8a4c3da00b92f0e59",
       "version_major": 2,
       "version_minor": 0
      },
      "text/plain": [
       "  0%|          | 0/163 [00:00<?, ?it/s]"
      ]
     },
     "metadata": {},
     "output_type": "display_data"
    },
    {
     "name": "stdout",
     "output_type": "stream",
     "text": [
      "Epoch: 8 ,Training Loss: 0.03532228594238404\n",
      "Validation loss: 0.4696017801761627\n",
      "Validation set accuracy:  80.0 %\n"
     ]
    },
    {
     "data": {
      "application/vnd.jupyter.widget-view+json": {
       "model_id": "74b28e05ae3d442eb6327af9fca00090",
       "version_major": 2,
       "version_minor": 0
      },
      "text/plain": [
       "  0%|          | 0/163 [00:00<?, ?it/s]"
      ]
     },
     "metadata": {},
     "output_type": "display_data"
    },
    {
     "name": "stdout",
     "output_type": "stream",
     "text": [
      "Epoch: 9 ,Training Loss: 0.04447707700077444\n",
      "Validation loss: 0.1724882870912552\n",
      "Validation set accuracy:  92.0 %\n"
     ]
    },
    {
     "data": {
      "application/vnd.jupyter.widget-view+json": {
       "model_id": "0518fd91588141e592e5ebf4b42bb107",
       "version_major": 2,
       "version_minor": 0
      },
      "text/plain": [
       "  0%|          | 0/163 [00:00<?, ?it/s]"
      ]
     },
     "metadata": {},
     "output_type": "display_data"
    },
    {
     "name": "stdout",
     "output_type": "stream",
     "text": [
      "Epoch: 10 ,Training Loss: 0.033022225288441405\n",
      "Validation loss: 0.4102571904659271\n",
      "Validation set accuracy:  84.0 %\n"
     ]
    },
    {
     "data": {
      "application/vnd.jupyter.widget-view+json": {
       "model_id": "579cf406ae0749e08b7d51a83ce7f0f9",
       "version_major": 2,
       "version_minor": 0
      },
      "text/plain": [
       "  0%|          | 0/163 [00:00<?, ?it/s]"
      ]
     },
     "metadata": {},
     "output_type": "display_data"
    },
    {
     "name": "stdout",
     "output_type": "stream",
     "text": [
      "Epoch: 11 ,Training Loss: 0.022875219838460907\n"
     ]
    }
   ],
   "source": [
    "def main():\n",
    "    N_EPOCH = 200\n",
    "    L_RATE = 0.001\n",
    "    BETAS = (0.9,0.999)\n",
    "    bs_val = 32\n",
    "    stop_threshold = 0.0005\n",
    "    temp_loss = None\n",
    "    \n",
    "    device = torch.device(\"cuda\" if torch.cuda.is_available() else \"cpu\")\n",
    "\n",
    "    fl_train_loader = DataLoader(fl_train, batch_size=bs_val, shuffle=True)\n",
    "    fl_val_loader = DataLoader(fl_val, batch_size=bs_val, shuffle=True)\n",
    "    fl_test_loader = DataLoader(fl_test, batch_size=bs_val, shuffle=True)\n",
    "    \n",
    "    fl_model = CNN().to(device)\n",
    "    fl_optimizer = optim.Adam(fl_model.parameters(), lr=L_RATE, betas=BETAS)\n",
    "    \n",
    "    print(\"Training the first model to classify normal and infected images\")\n",
    "    for epoch in range(1,N_EPOCH+1):\n",
    "        train(fl_model, device, fl_train_loader, fl_optimizer, epoch)\n",
    "        val_loss = validate(fl_model, device, fl_val_loader, nn.BCELoss())\n",
    "        \n",
    "        \"\"\"\n",
    "        Early Stopping mechanism (form of neural network regularization)\n",
    "        \"\"\"\n",
    "        if temp_loss == None:\n",
    "            temp_loss = val_loss\n",
    "        else:\n",
    "            loss_change = temp_loss - val_loss\n",
    "            temp_loss = val_loss\n",
    "            if abs(loss_change) < stop_threshold:\n",
    "                break\n",
    "\n",
    "    print(\"\\n\\n\")\n",
    "    print(\"Test Accuracy of the first model:\")\n",
    "    test(fl_model, device, fl_test_loader)\n",
    "\n",
    "    fl_model.to(\"cpu\")\n",
    "    \n",
    "    \n",
    "    \n",
    "    #Not very sure on this one - whether I should connect the same optimizer and optimize tgt for the both models...\n",
    "    temp_loss = None\n",
    "    sl_train_loader = DataLoader(sl_train, batch_size=bs_val, shuffle=True)\n",
    "    sl_val_loader = DataLoader(sl_val, batch_size=bs_val, shuffle=True)\n",
    "    sl_test_loader = DataLoader(sl_test, batch_size=bs_val, shuffle=True)\n",
    "    \n",
    "    sl_model = CNN().to(device)\n",
    "    \n",
    "    sl_optimizer = optim.Adam(sl_model.parameters(), lr=L_RATE, betas=BETAS)\n",
    "    \n",
    "    print(\"\\n\\n\")\n",
    "    print(\"Training the second model to classify COVID and non-COVID images\")\n",
    "    for epoch in range(1,N_EPOCH+1):\n",
    "        train(sl_model, device, sl_train_loader, sl_optimizer, epoch)\n",
    "        val_loss = validate(sl_model, device, sl_val_loader, nn.BCELoss())\n",
    "        \n",
    "        \"\"\"\n",
    "        Early Stopping mechanism (form of neural network regularization)\n",
    "        \"\"\"\n",
    "        if temp_loss == None:\n",
    "            temp_loss = val_loss\n",
    "        else:\n",
    "            loss_change = temp_loss - val_loss\n",
    "            temp_loss = val_loss\n",
    "            if abs(loss_change) < stop_threshold:\n",
    "                break\n",
    "    \n",
    "    print(\"\\n\\n\")\n",
    "    print(\"Test Accuracy of the second model:\")\n",
    "    test(sl_model, device, sl_test_loader)\n",
    "    \n",
    "if __name__ == '__main__':\n",
    "    main()"
   ]
  },
  {
   "cell_type": "code",
   "execution_count": null,
   "metadata": {},
   "outputs": [],
   "source": [
    "'''\n",
    "Placeholder - Code to generate images and the corresponding labels\n",
    "if plot == True:\n",
    "        example_data = np.zeros([24, 150, 150])\n",
    "        example_pred = np.zeros(24)\n",
    "        \n",
    "        for i in range(24):\n",
    "            example_data[i] = data[i][0].to(\"cpu\").numpy()\n",
    "            example_pred[i] = pred[i].to(\"cpu\").numpy()\n",
    "                    \n",
    "        for i in range(24):\n",
    "            plt.subplot(5,5,i+1)\n",
    "            plt.imshow(example_data[i], cmap='gray', interpolation='none')\n",
    "            plt.title(fl_labels[example_pred[i]])\n",
    "            plt.xticks([])\n",
    "            plt.yticks([])\n",
    "        plt.show()\n",
    "'''"
   ]
  },
  {
   "cell_type": "code",
   "execution_count": null,
   "metadata": {},
   "outputs": [],
   "source": []
  }
 ],
 "metadata": {
  "kernelspec": {
   "display_name": "Python 3",
   "language": "python",
   "name": "python3"
  },
  "language_info": {
   "codemirror_mode": {
    "name": "ipython",
    "version": 3
   },
   "file_extension": ".py",
   "mimetype": "text/x-python",
   "name": "python",
   "nbconvert_exporter": "python",
   "pygments_lexer": "ipython3",
   "version": "3.7.3"
  }
 },
 "nbformat": 4,
 "nbformat_minor": 2
}
