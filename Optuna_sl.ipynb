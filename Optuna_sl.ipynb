{
 "cells": [
  {
   "cell_type": "code",
   "execution_count": 1,
   "metadata": {},
   "outputs": [],
   "source": [
    "import model, data\n",
    "\n",
    "import torch\n",
    "from torch.utils.data import DataLoader\n",
    "from torch import optim, nn\n",
    "\n",
    "import copy\n",
    "import optuna"
   ]
  },
  {
   "cell_type": "code",
   "execution_count": 2,
   "metadata": {},
   "outputs": [],
   "source": [
    "DEVICE = torch.device(\"cuda\" if torch.cuda.is_available() else \"cpu\")\n",
    "EPOCHS = 200\n",
    "PATIENCE = 5"
   ]
  },
  {
   "cell_type": "code",
   "execution_count": 3,
   "metadata": {},
   "outputs": [],
   "source": [
    "TRAIN = data.Lung_Dataset('train', verbose = 2)\n",
    "VAL = data.Lung_Dataset('test', verbose = 2)"
   ]
  },
  {
   "cell_type": "code",
   "execution_count": 4,
   "metadata": {},
   "outputs": [],
   "source": [
    "def train(model, device, loss_criterion, optimizer, train_loader, val_loader, epochs, patience):\n",
    "    best_loss = float(\"inf\")\n",
    "    early_stop = 0\n",
    "    best_weights = None\n",
    "    \n",
    "    for i in range(epochs):\n",
    "        train_loss = train_epoch(model, device, loss_criterion, optimizer, train_loader)\n",
    "        val_loss = validate(model, device, loss_criterion, val_loader)\n",
    "        \n",
    "        \"\"\"\n",
    "        Early Stopping \n",
    "        \"\"\"\n",
    "        if val_loss < best_loss:\n",
    "            early_stop = 0\n",
    "            best_loss = val_loss\n",
    "            best_weights = copy.deepcopy(model.state_dict())\n",
    "        else:\n",
    "            early_stop += 1\n",
    "                \n",
    "        if early_stop == patience:\n",
    "            model.load_state_dict(best_weights)\n",
    "            break\n",
    "    return best_loss\n",
    "\n",
    "def train_epoch(model, device, loss_criterion, optimizer, train_loader):\n",
    "    model.to(device)\n",
    "    model.train()\n",
    "    \n",
    "    running_loss = 0\n",
    "    \n",
    "    counter = 0\n",
    "    \n",
    "    for batch_idx, (data, target) in enumerate(train_loader):\n",
    "        data, target = data.to(device), target.to(device)\n",
    "        optimizer.zero_grad()\n",
    "        \n",
    "        output = model.forward(data)\n",
    "        \n",
    "        target = target.argmax(dim=1, keepdim=True).float()\n",
    "        \n",
    "        loss = loss_criterion(output, target)\n",
    "        loss.backward()\n",
    "        optimizer.step()\n",
    "        \n",
    "        running_loss += loss.item()\n",
    "        \n",
    "        counter += 1\n",
    "\n",
    "    return (running_loss / counter)\n",
    "\n",
    "def validate(model, device, loss_criterion, val_loader):\n",
    "    model.to(device)\n",
    "    model.eval()\n",
    "\n",
    "    correct = 0\n",
    "    val_loss = 0\n",
    "\n",
    "    with torch.no_grad():\n",
    "        for data, target in val_loader:\n",
    "            data, target = data.to(device), target.to(device)\n",
    "\n",
    "            target = target.argmax(dim=1, keepdim=True).float()\n",
    "            \n",
    "            output = model.forward(data)\n",
    "            val_loss += loss_criterion(output, target).item()\n",
    "            \n",
    "            pred = torch.round(output)\n",
    "            equal_data = torch.sum(target.data == pred).item()\n",
    "            correct += equal_data\n",
    "    \n",
    "    return (val_loss / len(val_loader))"
   ]
  },
  {
   "cell_type": "code",
   "execution_count": 5,
   "metadata": {},
   "outputs": [],
   "source": [
    "def define_model(trial):\n",
    "    p = trial.suggest_float(\"dp\", 0, 0.2)\n",
    "    print(p)\n",
    "    return model.CNN(dropout=p)\n",
    "\n",
    "def objective(trial):\n",
    "    cnn = define_model(trial).to(DEVICE)\n",
    "    lr = trial.suggest_float(\"lr\", 1e-5, 1e-1, log=True)\n",
    "    wd = trial.suggest_float(\"wd\", 0, 0.2)\n",
    "    o = optim.AdamW(cnn.parameters(), lr=lr, weight_decay=wd)\n",
    "    bs = trial.suggest_categorical(\"bs\", [16, 32, 64])\n",
    "    train_loader = DataLoader(TRAIN, batch_size=bs, shuffle=True)\n",
    "    val_loader = DataLoader(VAL, batch_size=bs, shuffle=True)\n",
    "    print(lr, wd, bs)\n",
    "    return train(cnn, DEVICE, nn.BCELoss(), o, train_loader, val_loader, EPOCHS, PATIENCE)\n",
    "    "
   ]
  },
  {
   "cell_type": "code",
   "execution_count": 6,
   "metadata": {},
   "outputs": [
    {
     "name": "stderr",
     "output_type": "stream",
     "text": [
      "\u001b[32m[I 2021-03-20 10:29:09,780]\u001b[0m A new study created in memory with name: no-name-a41b37b7-57b7-47a0-a077-56244a033fe0\u001b[0m\n"
     ]
    },
    {
     "name": "stdout",
     "output_type": "stream",
     "text": [
      "0.06057165318859972\n",
      "0.0013520931046449997 0.11347722692407791 16\n"
     ]
    },
    {
     "name": "stderr",
     "output_type": "stream",
     "text": [
      "\u001b[32m[I 2021-03-20 10:30:24,255]\u001b[0m Trial 0 finished with value: 0.3333252854645252 and parameters: {'dp': 0.06057165318859972, 'lr': 0.0013520931046449997, 'wd': 0.11347722692407791, 'bs': 16}. Best is trial 0 with value: 0.3333252854645252.\u001b[0m\n"
     ]
    },
    {
     "name": "stdout",
     "output_type": "stream",
     "text": [
      "0.1522951009670115\n",
      "2.3306972611332212e-05 0.13034043863064404 64\n"
     ]
    },
    {
     "name": "stderr",
     "output_type": "stream",
     "text": [
      "\u001b[32m[I 2021-03-20 10:31:14,021]\u001b[0m Trial 1 finished with value: 0.5825112164020538 and parameters: {'dp': 0.1522951009670115, 'lr': 2.3306972611332212e-05, 'wd': 0.13034043863064404, 'bs': 64}. Best is trial 0 with value: 0.3333252854645252.\u001b[0m\n"
     ]
    },
    {
     "name": "stdout",
     "output_type": "stream",
     "text": [
      "0.10685277468376463\n",
      "0.00011111424403325367 0.022163514510014838 64\n"
     ]
    },
    {
     "name": "stderr",
     "output_type": "stream",
     "text": [
      "\u001b[32m[I 2021-03-20 10:32:14,624]\u001b[0m Trial 2 finished with value: 0.36531396210193634 and parameters: {'dp': 0.10685277468376463, 'lr': 0.00011111424403325367, 'wd': 0.022163514510014838, 'bs': 64}. Best is trial 0 with value: 0.3333252854645252.\u001b[0m\n"
     ]
    },
    {
     "name": "stdout",
     "output_type": "stream",
     "text": [
      "0.02019899633953295\n",
      "0.0001779956475560491 0.13440266698592862 64\n"
     ]
    },
    {
     "name": "stderr",
     "output_type": "stream",
     "text": [
      "\u001b[32m[I 2021-03-20 10:33:59,497]\u001b[0m Trial 3 finished with value: 0.2999621133009593 and parameters: {'dp': 0.02019899633953295, 'lr': 0.0001779956475560491, 'wd': 0.13440266698592862, 'bs': 64}. Best is trial 3 with value: 0.2999621133009593.\u001b[0m\n"
     ]
    },
    {
     "name": "stdout",
     "output_type": "stream",
     "text": [
      "0.07216065625585566\n",
      "0.00022040717935498526 0.08267768486777832 64\n"
     ]
    },
    {
     "name": "stderr",
     "output_type": "stream",
     "text": [
      "\u001b[32m[I 2021-03-20 10:35:49,913]\u001b[0m Trial 4 finished with value: 0.27932196110486984 and parameters: {'dp': 0.07216065625585566, 'lr': 0.00022040717935498526, 'wd': 0.08267768486777832, 'bs': 64}. Best is trial 4 with value: 0.27932196110486984.\u001b[0m\n"
     ]
    },
    {
     "name": "stdout",
     "output_type": "stream",
     "text": [
      "0.12808882415451758\n",
      "0.0009187683331167611 0.030708369334321618 16\n"
     ]
    },
    {
     "name": "stderr",
     "output_type": "stream",
     "text": [
      "\u001b[32m[I 2021-03-20 10:37:12,047]\u001b[0m Trial 5 finished with value: 0.31964680925011635 and parameters: {'dp': 0.12808882415451758, 'lr': 0.0009187683331167611, 'wd': 0.030708369334321618, 'bs': 16}. Best is trial 4 with value: 0.27932196110486984.\u001b[0m\n"
     ]
    },
    {
     "name": "stdout",
     "output_type": "stream",
     "text": [
      "0.1944411572945465\n",
      "0.0001902598948985696 0.027793391185003458 16\n"
     ]
    },
    {
     "name": "stderr",
     "output_type": "stream",
     "text": [
      "\u001b[32m[I 2021-03-20 10:40:13,228]\u001b[0m Trial 6 finished with value: 0.31035185636331636 and parameters: {'dp': 0.1944411572945465, 'lr': 0.0001902598948985696, 'wd': 0.027793391185003458, 'bs': 16}. Best is trial 4 with value: 0.27932196110486984.\u001b[0m\n"
     ]
    },
    {
     "name": "stdout",
     "output_type": "stream",
     "text": [
      "0.049379175134508624\n",
      "4.709053259516035e-05 0.08116132550855143 64\n"
     ]
    },
    {
     "name": "stderr",
     "output_type": "stream",
     "text": [
      "\u001b[32m[I 2021-03-20 10:41:52,392]\u001b[0m Trial 7 finished with value: 0.3349460909763972 and parameters: {'dp': 0.049379175134508624, 'lr': 4.709053259516035e-05, 'wd': 0.08116132550855143, 'bs': 64}. Best is trial 4 with value: 0.27932196110486984.\u001b[0m\n"
     ]
    },
    {
     "name": "stdout",
     "output_type": "stream",
     "text": [
      "0.06368417183913193\n",
      "0.000681851099055944 0.19212139090443808 16\n"
     ]
    },
    {
     "name": "stderr",
     "output_type": "stream",
     "text": [
      "\u001b[32m[I 2021-03-20 10:43:14,725]\u001b[0m Trial 8 finished with value: 0.2942549393822749 and parameters: {'dp': 0.06368417183913193, 'lr': 0.000681851099055944, 'wd': 0.19212139090443808, 'bs': 16}. Best is trial 4 with value: 0.27932196110486984.\u001b[0m\n"
     ]
    },
    {
     "name": "stdout",
     "output_type": "stream",
     "text": [
      "0.07692404735891667\n",
      "0.05646183215795199 0.19322731285235528 16\n"
     ]
    },
    {
     "name": "stderr",
     "output_type": "stream",
     "text": [
      "\u001b[32m[I 2021-03-20 10:44:25,401]\u001b[0m Trial 9 finished with value: 0.5773775577545166 and parameters: {'dp': 0.07692404735891667, 'lr': 0.05646183215795199, 'wd': 0.19322731285235528, 'bs': 16}. Best is trial 4 with value: 0.27932196110486984.\u001b[0m\n"
     ]
    },
    {
     "name": "stdout",
     "output_type": "stream",
     "text": [
      "0.001170578262552291\n",
      "0.01443454289045443 0.06859704531443177 32\n"
     ]
    },
    {
     "name": "stderr",
     "output_type": "stream",
     "text": [
      "\u001b[32m[I 2021-03-20 10:45:05,630]\u001b[0m Trial 10 finished with value: 0.5203975414236387 and parameters: {'dp': 0.001170578262552291, 'lr': 0.01443454289045443, 'wd': 0.06859704531443177, 'bs': 32}. Best is trial 4 with value: 0.27932196110486984.\u001b[0m\n"
     ]
    },
    {
     "name": "stdout",
     "output_type": "stream",
     "text": [
      "0.03458257847689693\n",
      "0.0011738154931952983 0.18434187580613104 32\n"
     ]
    },
    {
     "name": "stderr",
     "output_type": "stream",
     "text": [
      "\u001b[32m[I 2021-03-20 10:46:14,777]\u001b[0m Trial 11 finished with value: 0.34633087863524753 and parameters: {'dp': 0.03458257847689693, 'lr': 0.0011738154931952983, 'wd': 0.18434187580613104, 'bs': 32}. Best is trial 4 with value: 0.27932196110486984.\u001b[0m\n"
     ]
    },
    {
     "name": "stdout",
     "output_type": "stream",
     "text": [
      "0.08693234840969014\n",
      "0.004810554586855008 0.15987126992129191 64\n"
     ]
    },
    {
     "name": "stderr",
     "output_type": "stream",
     "text": [
      "\u001b[32m[I 2021-03-20 10:48:14,413]\u001b[0m Trial 12 finished with value: 0.3580191433429718 and parameters: {'dp': 0.08693234840969014, 'lr': 0.004810554586855008, 'wd': 0.15987126992129191, 'bs': 64}. Best is trial 4 with value: 0.27932196110486984.\u001b[0m\n"
     ]
    },
    {
     "name": "stdout",
     "output_type": "stream",
     "text": [
      "0.10167809408410662\n",
      "1.0041853298257173e-05 0.06852387115957422 16\n"
     ]
    },
    {
     "name": "stderr",
     "output_type": "stream",
     "text": [
      "\u001b[32m[I 2021-03-20 10:50:57,338]\u001b[0m Trial 13 finished with value: 0.3587395070741574 and parameters: {'dp': 0.10167809408410662, 'lr': 1.0041853298257173e-05, 'wd': 0.06852387115957422, 'bs': 16}. Best is trial 4 with value: 0.27932196110486984.\u001b[0m\n"
     ]
    },
    {
     "name": "stdout",
     "output_type": "stream",
     "text": [
      "0.0667346939564297\n",
      "0.0004536092613777286 0.09449274643284844 16\n"
     ]
    },
    {
     "name": "stderr",
     "output_type": "stream",
     "text": [
      "\u001b[32m[I 2021-03-20 10:52:24,965]\u001b[0m Trial 14 finished with value: 0.29124442177514237 and parameters: {'dp': 0.0667346939564297, 'lr': 0.0004536092613777286, 'wd': 0.09449274643284844, 'bs': 16}. Best is trial 4 with value: 0.27932196110486984.\u001b[0m\n"
     ]
    },
    {
     "name": "stdout",
     "output_type": "stream",
     "text": [
      "0.13169742252445413\n",
      "0.005242674157198616 0.0927586095975866 32\n"
     ]
    },
    {
     "name": "stderr",
     "output_type": "stream",
     "text": [
      "\u001b[32m[I 2021-03-20 10:53:20,917]\u001b[0m Trial 15 finished with value: 0.38984114676713943 and parameters: {'dp': 0.13169742252445413, 'lr': 0.005242674157198616, 'wd': 0.0927586095975866, 'bs': 32}. Best is trial 4 with value: 0.27932196110486984.\u001b[0m\n"
     ]
    },
    {
     "name": "stdout",
     "output_type": "stream",
     "text": [
      "0.003270953366463089\n",
      "0.00039791067130735277 0.04776987858499752 64\n"
     ]
    },
    {
     "name": "stderr",
     "output_type": "stream",
     "text": [
      "\u001b[32m[I 2021-03-20 10:54:10,023]\u001b[0m Trial 16 finished with value: 0.3481379598379135 and parameters: {'dp': 0.003270953366463089, 'lr': 0.00039791067130735277, 'wd': 0.04776987858499752, 'bs': 64}. Best is trial 4 with value: 0.27932196110486984.\u001b[0m\n"
     ]
    },
    {
     "name": "stdout",
     "output_type": "stream",
     "text": [
      "0.03796985227476649\n",
      "5.297636836200823e-05 0.11897406624194262 16\n"
     ]
    },
    {
     "name": "stderr",
     "output_type": "stream",
     "text": [
      "\u001b[32m[I 2021-03-20 10:55:30,640]\u001b[0m Trial 17 finished with value: 0.33227191989620525 and parameters: {'dp': 0.03796985227476649, 'lr': 5.297636836200823e-05, 'wd': 0.11897406624194262, 'bs': 16}. Best is trial 4 with value: 0.27932196110486984.\u001b[0m\n"
     ]
    },
    {
     "name": "stdout",
     "output_type": "stream",
     "text": [
      "0.07997327678918566\n",
      "0.003353974191500774 0.051742753271104766 64\n"
     ]
    },
    {
     "name": "stderr",
     "output_type": "stream",
     "text": [
      "\u001b[32m[I 2021-03-20 10:56:19,751]\u001b[0m Trial 18 finished with value: 0.3462867836157481 and parameters: {'dp': 0.07997327678918566, 'lr': 0.003353974191500774, 'wd': 0.051742753271104766, 'bs': 64}. Best is trial 4 with value: 0.27932196110486984.\u001b[0m\n"
     ]
    },
    {
     "name": "stdout",
     "output_type": "stream",
     "text": [
      "0.12058782077651486\n",
      "0.00040622927705186553 0.10109170243724203 64\n"
     ]
    },
    {
     "name": "stderr",
     "output_type": "stream",
     "text": [
      "\u001b[32m[I 2021-03-20 10:57:52,413]\u001b[0m Trial 19 finished with value: 0.28673263142506283 and parameters: {'dp': 0.12058782077651486, 'lr': 0.00040622927705186553, 'wd': 0.10109170243724203, 'bs': 64}. Best is trial 4 with value: 0.27932196110486984.\u001b[0m\n"
     ]
    },
    {
     "name": "stdout",
     "output_type": "stream",
     "text": [
      "0.17422375282017383\n",
      "1.5208760650365768e-05 0.15486235055100878 64\n"
     ]
    },
    {
     "name": "stderr",
     "output_type": "stream",
     "text": [
      "\u001b[32m[I 2021-03-20 10:59:57,377]\u001b[0m Trial 20 finished with value: 0.4554918756087621 and parameters: {'dp': 0.17422375282017383, 'lr': 1.5208760650365768e-05, 'wd': 0.15486235055100878, 'bs': 64}. Best is trial 4 with value: 0.27932196110486984.\u001b[0m\n"
     ]
    },
    {
     "name": "stdout",
     "output_type": "stream",
     "text": [
      "0.11426529558933218\n",
      "0.00034525434140349475 0.10188887454787803 64\n"
     ]
    },
    {
     "name": "stderr",
     "output_type": "stream",
     "text": [
      "\u001b[32m[I 2021-03-20 11:01:35,342]\u001b[0m Trial 21 finished with value: 0.31297074258327484 and parameters: {'dp': 0.11426529558933218, 'lr': 0.00034525434140349475, 'wd': 0.10188887454787803, 'bs': 64}. Best is trial 4 with value: 0.27932196110486984.\u001b[0m\n"
     ]
    },
    {
     "name": "stdout",
     "output_type": "stream",
     "text": [
      "0.09263586646860812\n",
      "8.453370991215703e-05 2.8914725989565015e-05 64\n"
     ]
    },
    {
     "name": "stderr",
     "output_type": "stream",
     "text": [
      "\u001b[32m[I 2021-03-20 11:02:29,368]\u001b[0m Trial 22 finished with value: 0.3968365043401718 and parameters: {'dp': 0.09263586646860812, 'lr': 8.453370991215703e-05, 'wd': 2.8914725989565015e-05, 'bs': 64}. Best is trial 4 with value: 0.27932196110486984.\u001b[0m\n"
     ]
    },
    {
     "name": "stdout",
     "output_type": "stream",
     "text": [
      "0.13969490331970516\n",
      "0.0004065652008039802 0.09035338883128065 64\n"
     ]
    },
    {
     "name": "stderr",
     "output_type": "stream",
     "text": [
      "\u001b[32m[I 2021-03-20 11:03:51,533]\u001b[0m Trial 23 finished with value: 0.3199833979209264 and parameters: {'dp': 0.13969490331970516, 'lr': 0.0004065652008039802, 'wd': 0.09035338883128065, 'bs': 64}. Best is trial 4 with value: 0.27932196110486984.\u001b[0m\n"
     ]
    },
    {
     "name": "stdout",
     "output_type": "stream",
     "text": [
      "0.0698028827005007\n",
      "0.0023061507359635144 0.07550077852138813 16\n"
     ]
    },
    {
     "name": "stderr",
     "output_type": "stream",
     "text": [
      "\u001b[32m[I 2021-03-20 11:04:38,096]\u001b[0m Trial 24 finished with value: 0.3499660063534975 and parameters: {'dp': 0.0698028827005007, 'lr': 0.0023061507359635144, 'wd': 0.07550077852138813, 'bs': 16}. Best is trial 4 with value: 0.27932196110486984.\u001b[0m\n"
     ]
    },
    {
     "name": "stdout",
     "output_type": "stream",
     "text": [
      "0.16055942443586732\n",
      "0.0002286398814574078 0.10928019458397432 32\n"
     ]
    },
    {
     "name": "stderr",
     "output_type": "stream",
     "text": [
      "\u001b[32m[I 2021-03-20 11:05:46,347]\u001b[0m Trial 25 finished with value: 0.3889438845217228 and parameters: {'dp': 0.16055942443586732, 'lr': 0.0002286398814574078, 'wd': 0.10928019458397432, 'bs': 32}. Best is trial 4 with value: 0.27932196110486984.\u001b[0m\n"
     ]
    },
    {
     "name": "stdout",
     "output_type": "stream",
     "text": [
      "0.11565493196236894\n",
      "0.000593927175748908 0.05160830262045148 64\n"
     ]
    },
    {
     "name": "stderr",
     "output_type": "stream",
     "text": [
      "\u001b[32m[I 2021-03-20 11:07:09,451]\u001b[0m Trial 26 finished with value: 0.3183664530515671 and parameters: {'dp': 0.11565493196236894, 'lr': 0.000593927175748908, 'wd': 0.05160830262045148, 'bs': 64}. Best is trial 4 with value: 0.27932196110486984.\u001b[0m\n"
     ]
    },
    {
     "name": "stdout",
     "output_type": "stream",
     "text": [
      "0.05314747040012667\n",
      "0.012581846753651395 0.13856288077316015 64\n"
     ]
    },
    {
     "name": "stderr",
     "output_type": "stream",
     "text": [
      "\u001b[32m[I 2021-03-20 11:08:04,410]\u001b[0m Trial 27 finished with value: 0.4394279619057973 and parameters: {'dp': 0.05314747040012667, 'lr': 0.012581846753651395, 'wd': 0.13856288077316015, 'bs': 64}. Best is trial 4 with value: 0.27932196110486984.\u001b[0m\n"
     ]
    },
    {
     "name": "stdout",
     "output_type": "stream",
     "text": [
      "0.0916757201284986\n",
      "0.0001038962091949819 0.08822813187454809 16\n"
     ]
    },
    {
     "name": "stderr",
     "output_type": "stream",
     "text": [
      "\u001b[32m[I 2021-03-20 11:09:36,383]\u001b[0m Trial 28 finished with value: 0.30898371525108814 and parameters: {'dp': 0.0916757201284986, 'lr': 0.0001038962091949819, 'wd': 0.08822813187454809, 'bs': 16}. Best is trial 4 with value: 0.27932196110486984.\u001b[0m\n"
     ]
    },
    {
     "name": "stdout",
     "output_type": "stream",
     "text": [
      "0.02146427903295997\n",
      "0.0018416920510633704 0.11751457708398019 16\n"
     ]
    },
    {
     "name": "stderr",
     "output_type": "stream",
     "text": [
      "\u001b[32m[I 2021-03-20 11:10:27,904]\u001b[0m Trial 29 finished with value: 0.328363382567962 and parameters: {'dp': 0.02146427903295997, 'lr': 0.0018416920510633704, 'wd': 0.11751457708398019, 'bs': 16}. Best is trial 4 with value: 0.27932196110486984.\u001b[0m\n"
     ]
    },
    {
     "name": "stdout",
     "output_type": "stream",
     "text": [
      "0.05878091949376712\n",
      "5.495822140663257e-05 0.10590096574482363 64\n"
     ]
    },
    {
     "name": "stderr",
     "output_type": "stream",
     "text": [
      "\u001b[32m[I 2021-03-20 11:11:43,571]\u001b[0m Trial 30 finished with value: 0.3453686734040578 and parameters: {'dp': 0.05878091949376712, 'lr': 5.495822140663257e-05, 'wd': 0.10590096574482363, 'bs': 64}. Best is trial 4 with value: 0.27932196110486984.\u001b[0m\n"
     ]
    },
    {
     "name": "stdout",
     "output_type": "stream",
     "text": [
      "0.06351793640513609\n",
      "0.0005831615420914658 0.17276232083595472 16\n"
     ]
    },
    {
     "name": "stderr",
     "output_type": "stream",
     "text": [
      "\u001b[32m[I 2021-03-20 11:12:47,234]\u001b[0m Trial 31 finished with value: 0.31891682371497154 and parameters: {'dp': 0.06351793640513609, 'lr': 0.0005831615420914658, 'wd': 0.17276232083595472, 'bs': 16}. Best is trial 4 with value: 0.27932196110486984.\u001b[0m\n"
     ]
    },
    {
     "name": "stdout",
     "output_type": "stream",
     "text": [
      "0.07025320973373538\n",
      "0.00088507324324128 0.05975621480375387 16\n"
     ]
    },
    {
     "ename": "KeyboardInterrupt",
     "evalue": "",
     "output_type": "error",
     "traceback": [
      "\u001b[0;31m---------------------------------------------------------------------------\u001b[0m",
      "\u001b[0;31mKeyboardInterrupt\u001b[0m                         Traceback (most recent call last)",
      "\u001b[0;32m<ipython-input-6-1513f1a34b2b>\u001b[0m in \u001b[0;36m<module>\u001b[0;34m\u001b[0m\n\u001b[1;32m      1\u001b[0m \u001b[0mstudy\u001b[0m \u001b[0;34m=\u001b[0m \u001b[0moptuna\u001b[0m\u001b[0;34m.\u001b[0m\u001b[0mcreate_study\u001b[0m\u001b[0;34m(\u001b[0m\u001b[0;34m)\u001b[0m\u001b[0;34m\u001b[0m\u001b[0;34m\u001b[0m\u001b[0m\n\u001b[0;32m----> 2\u001b[0;31m \u001b[0mstudy\u001b[0m\u001b[0;34m.\u001b[0m\u001b[0moptimize\u001b[0m\u001b[0;34m(\u001b[0m\u001b[0mobjective\u001b[0m\u001b[0;34m,\u001b[0m \u001b[0mn_trials\u001b[0m\u001b[0;34m=\u001b[0m\u001b[0;36m50\u001b[0m\u001b[0;34m,\u001b[0m \u001b[0mtimeout\u001b[0m\u001b[0;34m=\u001b[0m\u001b[0;36m3600\u001b[0m\u001b[0;34m)\u001b[0m\u001b[0;34m\u001b[0m\u001b[0;34m\u001b[0m\u001b[0m\n\u001b[0m\u001b[1;32m      3\u001b[0m \u001b[0mprint\u001b[0m\u001b[0;34m(\u001b[0m\u001b[0;34m\"Best trial:\"\u001b[0m\u001b[0;34m)\u001b[0m\u001b[0;34m\u001b[0m\u001b[0;34m\u001b[0m\u001b[0m\n\u001b[1;32m      4\u001b[0m \u001b[0mtrial\u001b[0m \u001b[0;34m=\u001b[0m \u001b[0mstudy\u001b[0m\u001b[0;34m.\u001b[0m\u001b[0mbest_trial\u001b[0m\u001b[0;34m\u001b[0m\u001b[0;34m\u001b[0m\u001b[0m\n\u001b[1;32m      5\u001b[0m \u001b[0mprint\u001b[0m\u001b[0;34m(\u001b[0m\u001b[0;34m\"  Value: \"\u001b[0m\u001b[0;34m,\u001b[0m \u001b[0mtrial\u001b[0m\u001b[0;34m.\u001b[0m\u001b[0mvalue\u001b[0m\u001b[0;34m)\u001b[0m\u001b[0;34m\u001b[0m\u001b[0;34m\u001b[0m\u001b[0m\n",
      "\u001b[0;32m/opt/conda/lib/python3.6/site-packages/optuna/study.py\u001b[0m in \u001b[0;36moptimize\u001b[0;34m(self, func, n_trials, timeout, n_jobs, catch, callbacks, gc_after_trial, show_progress_bar)\u001b[0m\n\u001b[1;32m    392\u001b[0m             \u001b[0mcallbacks\u001b[0m\u001b[0;34m=\u001b[0m\u001b[0mcallbacks\u001b[0m\u001b[0;34m,\u001b[0m\u001b[0;34m\u001b[0m\u001b[0;34m\u001b[0m\u001b[0m\n\u001b[1;32m    393\u001b[0m             \u001b[0mgc_after_trial\u001b[0m\u001b[0;34m=\u001b[0m\u001b[0mgc_after_trial\u001b[0m\u001b[0;34m,\u001b[0m\u001b[0;34m\u001b[0m\u001b[0;34m\u001b[0m\u001b[0m\n\u001b[0;32m--> 394\u001b[0;31m             \u001b[0mshow_progress_bar\u001b[0m\u001b[0;34m=\u001b[0m\u001b[0mshow_progress_bar\u001b[0m\u001b[0;34m,\u001b[0m\u001b[0;34m\u001b[0m\u001b[0;34m\u001b[0m\u001b[0m\n\u001b[0m\u001b[1;32m    395\u001b[0m         )\n\u001b[1;32m    396\u001b[0m \u001b[0;34m\u001b[0m\u001b[0m\n",
      "\u001b[0;32m/opt/conda/lib/python3.6/site-packages/optuna/_optimize.py\u001b[0m in \u001b[0;36m_optimize\u001b[0;34m(study, func, n_trials, timeout, n_jobs, catch, callbacks, gc_after_trial, show_progress_bar)\u001b[0m\n\u001b[1;32m     74\u001b[0m                 \u001b[0mreseed_sampler_rng\u001b[0m\u001b[0;34m=\u001b[0m\u001b[0;32mFalse\u001b[0m\u001b[0;34m,\u001b[0m\u001b[0;34m\u001b[0m\u001b[0;34m\u001b[0m\u001b[0m\n\u001b[1;32m     75\u001b[0m                 \u001b[0mtime_start\u001b[0m\u001b[0;34m=\u001b[0m\u001b[0;32mNone\u001b[0m\u001b[0;34m,\u001b[0m\u001b[0;34m\u001b[0m\u001b[0;34m\u001b[0m\u001b[0m\n\u001b[0;32m---> 76\u001b[0;31m                 \u001b[0mprogress_bar\u001b[0m\u001b[0;34m=\u001b[0m\u001b[0mprogress_bar\u001b[0m\u001b[0;34m,\u001b[0m\u001b[0;34m\u001b[0m\u001b[0;34m\u001b[0m\u001b[0m\n\u001b[0m\u001b[1;32m     77\u001b[0m             )\n\u001b[1;32m     78\u001b[0m         \u001b[0;32melse\u001b[0m\u001b[0;34m:\u001b[0m\u001b[0;34m\u001b[0m\u001b[0;34m\u001b[0m\u001b[0m\n",
      "\u001b[0;32m/opt/conda/lib/python3.6/site-packages/optuna/_optimize.py\u001b[0m in \u001b[0;36m_optimize_sequential\u001b[0;34m(study, func, n_trials, timeout, catch, callbacks, gc_after_trial, reseed_sampler_rng, time_start, progress_bar)\u001b[0m\n\u001b[1;32m    161\u001b[0m \u001b[0;34m\u001b[0m\u001b[0m\n\u001b[1;32m    162\u001b[0m         \u001b[0;32mtry\u001b[0m\u001b[0;34m:\u001b[0m\u001b[0;34m\u001b[0m\u001b[0;34m\u001b[0m\u001b[0m\n\u001b[0;32m--> 163\u001b[0;31m             \u001b[0mtrial\u001b[0m \u001b[0;34m=\u001b[0m \u001b[0m_run_trial\u001b[0m\u001b[0;34m(\u001b[0m\u001b[0mstudy\u001b[0m\u001b[0;34m,\u001b[0m \u001b[0mfunc\u001b[0m\u001b[0;34m,\u001b[0m \u001b[0mcatch\u001b[0m\u001b[0;34m)\u001b[0m\u001b[0;34m\u001b[0m\u001b[0;34m\u001b[0m\u001b[0m\n\u001b[0m\u001b[1;32m    164\u001b[0m         \u001b[0;32mexcept\u001b[0m \u001b[0mException\u001b[0m\u001b[0;34m:\u001b[0m\u001b[0;34m\u001b[0m\u001b[0;34m\u001b[0m\u001b[0m\n\u001b[1;32m    165\u001b[0m             \u001b[0;32mraise\u001b[0m\u001b[0;34m\u001b[0m\u001b[0;34m\u001b[0m\u001b[0m\n",
      "\u001b[0;32m/opt/conda/lib/python3.6/site-packages/optuna/_optimize.py\u001b[0m in \u001b[0;36m_run_trial\u001b[0;34m(study, func, catch)\u001b[0m\n\u001b[1;32m    215\u001b[0m \u001b[0;34m\u001b[0m\u001b[0m\n\u001b[1;32m    216\u001b[0m     \u001b[0;32mtry\u001b[0m\u001b[0;34m:\u001b[0m\u001b[0;34m\u001b[0m\u001b[0;34m\u001b[0m\u001b[0m\n\u001b[0;32m--> 217\u001b[0;31m         \u001b[0mvalue_or_values\u001b[0m \u001b[0;34m=\u001b[0m \u001b[0mfunc\u001b[0m\u001b[0;34m(\u001b[0m\u001b[0mtrial\u001b[0m\u001b[0;34m)\u001b[0m\u001b[0;34m\u001b[0m\u001b[0;34m\u001b[0m\u001b[0m\n\u001b[0m\u001b[1;32m    218\u001b[0m     \u001b[0;32mexcept\u001b[0m \u001b[0mexceptions\u001b[0m\u001b[0;34m.\u001b[0m\u001b[0mTrialPruned\u001b[0m \u001b[0;32mas\u001b[0m \u001b[0me\u001b[0m\u001b[0;34m:\u001b[0m\u001b[0;34m\u001b[0m\u001b[0;34m\u001b[0m\u001b[0m\n\u001b[1;32m    219\u001b[0m         \u001b[0;31m# TODO(mamu): Handle multi-objective cases.\u001b[0m\u001b[0;34m\u001b[0m\u001b[0;34m\u001b[0m\u001b[0;34m\u001b[0m\u001b[0m\n",
      "\u001b[0;32m<ipython-input-5-bbce3250f83c>\u001b[0m in \u001b[0;36mobjective\u001b[0;34m(trial)\u001b[0m\n\u001b[1;32m     13\u001b[0m     \u001b[0mval_loader\u001b[0m \u001b[0;34m=\u001b[0m \u001b[0mDataLoader\u001b[0m\u001b[0;34m(\u001b[0m\u001b[0mVAL\u001b[0m\u001b[0;34m,\u001b[0m \u001b[0mbatch_size\u001b[0m\u001b[0;34m=\u001b[0m\u001b[0mbs\u001b[0m\u001b[0;34m,\u001b[0m \u001b[0mshuffle\u001b[0m\u001b[0;34m=\u001b[0m\u001b[0;32mTrue\u001b[0m\u001b[0;34m)\u001b[0m\u001b[0;34m\u001b[0m\u001b[0;34m\u001b[0m\u001b[0m\n\u001b[1;32m     14\u001b[0m     \u001b[0mprint\u001b[0m\u001b[0;34m(\u001b[0m\u001b[0mlr\u001b[0m\u001b[0;34m,\u001b[0m \u001b[0mwd\u001b[0m\u001b[0;34m,\u001b[0m \u001b[0mbs\u001b[0m\u001b[0;34m)\u001b[0m\u001b[0;34m\u001b[0m\u001b[0;34m\u001b[0m\u001b[0m\n\u001b[0;32m---> 15\u001b[0;31m     \u001b[0;32mreturn\u001b[0m \u001b[0mtrain\u001b[0m\u001b[0;34m(\u001b[0m\u001b[0mcnn\u001b[0m\u001b[0;34m,\u001b[0m \u001b[0mDEVICE\u001b[0m\u001b[0;34m,\u001b[0m \u001b[0mnn\u001b[0m\u001b[0;34m.\u001b[0m\u001b[0mBCELoss\u001b[0m\u001b[0;34m(\u001b[0m\u001b[0;34m)\u001b[0m\u001b[0;34m,\u001b[0m \u001b[0mo\u001b[0m\u001b[0;34m,\u001b[0m \u001b[0mtrain_loader\u001b[0m\u001b[0;34m,\u001b[0m \u001b[0mval_loader\u001b[0m\u001b[0;34m,\u001b[0m \u001b[0mEPOCHS\u001b[0m\u001b[0;34m,\u001b[0m \u001b[0mPATIENCE\u001b[0m\u001b[0;34m)\u001b[0m\u001b[0;34m\u001b[0m\u001b[0;34m\u001b[0m\u001b[0m\n\u001b[0m\u001b[1;32m     16\u001b[0m \u001b[0;34m\u001b[0m\u001b[0m\n",
      "\u001b[0;32m<ipython-input-4-d0b3bde16241>\u001b[0m in \u001b[0;36mtrain\u001b[0;34m(model, device, loss_criterion, optimizer, train_loader, val_loader, epochs, patience)\u001b[0m\n\u001b[1;32m      5\u001b[0m \u001b[0;34m\u001b[0m\u001b[0m\n\u001b[1;32m      6\u001b[0m     \u001b[0;32mfor\u001b[0m \u001b[0mi\u001b[0m \u001b[0;32min\u001b[0m \u001b[0mrange\u001b[0m\u001b[0;34m(\u001b[0m\u001b[0mepochs\u001b[0m\u001b[0;34m)\u001b[0m\u001b[0;34m:\u001b[0m\u001b[0;34m\u001b[0m\u001b[0;34m\u001b[0m\u001b[0m\n\u001b[0;32m----> 7\u001b[0;31m         \u001b[0mtrain_loss\u001b[0m \u001b[0;34m=\u001b[0m \u001b[0mtrain_epoch\u001b[0m\u001b[0;34m(\u001b[0m\u001b[0mmodel\u001b[0m\u001b[0;34m,\u001b[0m \u001b[0mdevice\u001b[0m\u001b[0;34m,\u001b[0m \u001b[0mloss_criterion\u001b[0m\u001b[0;34m,\u001b[0m \u001b[0moptimizer\u001b[0m\u001b[0;34m,\u001b[0m \u001b[0mtrain_loader\u001b[0m\u001b[0;34m)\u001b[0m\u001b[0;34m\u001b[0m\u001b[0;34m\u001b[0m\u001b[0m\n\u001b[0m\u001b[1;32m      8\u001b[0m         \u001b[0mval_loss\u001b[0m \u001b[0;34m=\u001b[0m \u001b[0mvalidate\u001b[0m\u001b[0;34m(\u001b[0m\u001b[0mmodel\u001b[0m\u001b[0;34m,\u001b[0m \u001b[0mdevice\u001b[0m\u001b[0;34m,\u001b[0m \u001b[0mloss_criterion\u001b[0m\u001b[0;34m,\u001b[0m \u001b[0mval_loader\u001b[0m\u001b[0;34m)\u001b[0m\u001b[0;34m\u001b[0m\u001b[0;34m\u001b[0m\u001b[0m\n\u001b[1;32m      9\u001b[0m \u001b[0;34m\u001b[0m\u001b[0m\n",
      "\u001b[0;32m<ipython-input-4-d0b3bde16241>\u001b[0m in \u001b[0;36mtrain_epoch\u001b[0;34m(model, device, loss_criterion, optimizer, train_loader)\u001b[0m\n\u001b[1;32m     41\u001b[0m         \u001b[0mloss\u001b[0m \u001b[0;34m=\u001b[0m \u001b[0mloss_criterion\u001b[0m\u001b[0;34m(\u001b[0m\u001b[0moutput\u001b[0m\u001b[0;34m,\u001b[0m \u001b[0mtarget\u001b[0m\u001b[0;34m)\u001b[0m\u001b[0;34m\u001b[0m\u001b[0;34m\u001b[0m\u001b[0m\n\u001b[1;32m     42\u001b[0m         \u001b[0mloss\u001b[0m\u001b[0;34m.\u001b[0m\u001b[0mbackward\u001b[0m\u001b[0;34m(\u001b[0m\u001b[0;34m)\u001b[0m\u001b[0;34m\u001b[0m\u001b[0;34m\u001b[0m\u001b[0m\n\u001b[0;32m---> 43\u001b[0;31m         \u001b[0moptimizer\u001b[0m\u001b[0;34m.\u001b[0m\u001b[0mstep\u001b[0m\u001b[0;34m(\u001b[0m\u001b[0;34m)\u001b[0m\u001b[0;34m\u001b[0m\u001b[0;34m\u001b[0m\u001b[0m\n\u001b[0m\u001b[1;32m     44\u001b[0m \u001b[0;34m\u001b[0m\u001b[0m\n\u001b[1;32m     45\u001b[0m         \u001b[0mrunning_loss\u001b[0m \u001b[0;34m+=\u001b[0m \u001b[0mloss\u001b[0m\u001b[0;34m.\u001b[0m\u001b[0mitem\u001b[0m\u001b[0;34m(\u001b[0m\u001b[0;34m)\u001b[0m\u001b[0;34m\u001b[0m\u001b[0;34m\u001b[0m\u001b[0m\n",
      "\u001b[0;32m/opt/conda/lib/python3.6/site-packages/torch/optim/adamw.py\u001b[0m in \u001b[0;36mstep\u001b[0;34m(self, closure)\u001b[0m\n\u001b[1;32m     70\u001b[0m \u001b[0;34m\u001b[0m\u001b[0m\n\u001b[1;32m     71\u001b[0m                 \u001b[0;31m# Perform optimization step\u001b[0m\u001b[0;34m\u001b[0m\u001b[0;34m\u001b[0m\u001b[0;34m\u001b[0m\u001b[0m\n\u001b[0;32m---> 72\u001b[0;31m                 \u001b[0mgrad\u001b[0m \u001b[0;34m=\u001b[0m \u001b[0mp\u001b[0m\u001b[0;34m.\u001b[0m\u001b[0mgrad\u001b[0m\u001b[0;34m.\u001b[0m\u001b[0mdata\u001b[0m\u001b[0;34m\u001b[0m\u001b[0;34m\u001b[0m\u001b[0m\n\u001b[0m\u001b[1;32m     73\u001b[0m                 \u001b[0;32mif\u001b[0m \u001b[0mgrad\u001b[0m\u001b[0;34m.\u001b[0m\u001b[0mis_sparse\u001b[0m\u001b[0;34m:\u001b[0m\u001b[0;34m\u001b[0m\u001b[0;34m\u001b[0m\u001b[0m\n\u001b[1;32m     74\u001b[0m                     \u001b[0;32mraise\u001b[0m \u001b[0mRuntimeError\u001b[0m\u001b[0;34m(\u001b[0m\u001b[0;34m'Adam does not support sparse gradients, please consider SparseAdam instead'\u001b[0m\u001b[0;34m)\u001b[0m\u001b[0;34m\u001b[0m\u001b[0;34m\u001b[0m\u001b[0m\n",
      "\u001b[0;31mKeyboardInterrupt\u001b[0m: "
     ]
    }
   ],
   "source": [
    "study = optuna.create_study()\n",
    "study.optimize(objective, n_trials=50, timeout=3600)\n",
    "print(\"Best trial:\")\n",
    "trial = study.best_trial\n",
    "print(\"  Value: \", trial.value)\n",
    "print(\"  Params: \")\n",
    "for key, value in trial.params.items():\n",
    "    print(\"    {}: {}\".format(key, value))"
   ]
  }
 ],
 "metadata": {
  "kernelspec": {
   "display_name": "Python 3",
   "language": "python",
   "name": "python3"
  },
  "language_info": {
   "codemirror_mode": {
    "name": "ipython",
    "version": 3
   },
   "file_extension": ".py",
   "mimetype": "text/x-python",
   "name": "python",
   "nbconvert_exporter": "python",
   "pygments_lexer": "ipython3",
   "version": "3.6.10"
  }
 },
 "nbformat": 4,
 "nbformat_minor": 4
}
