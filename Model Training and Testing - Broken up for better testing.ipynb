{
 "cells": [
  {
   "cell_type": "markdown",
   "metadata": {},
   "source": [
    "<h1> Deep Learning Small Project </h1>"
   ]
  },
  {
   "cell_type": "code",
   "execution_count": 1,
   "metadata": {},
   "outputs": [],
   "source": [
    "%matplotlib inline\n",
    "\n",
    "# Display\n",
    "from IPython.display import Image\n",
    "\n",
    "# Torch\n",
    "import torch\n",
    "from torch.utils.data import DataLoader\n",
    "from torch import optim, nn\n",
    "\n",
    "# Custom\n",
    "import data\n",
    "import model\n",
    "import utils"
   ]
  },
  {
   "cell_type": "markdown",
   "metadata": {},
   "source": [
    "Using Custom Dataloader, Data Split for First Layer classification task (normal vs infected)"
   ]
  },
  {
   "cell_type": "code",
   "execution_count": 2,
   "metadata": {},
   "outputs": [],
   "source": [
    "fl_labels = {\n",
    "0 : \"Normal\",\n",
    "1 : \"Infected\"\n",
    "}\n",
    "\n",
    "fl_train = data.Lung_Dataset('train', verbose = 0)\n",
    "fl_test = data.Lung_Dataset('val', verbose = 0)\n",
    "fl_val = data.Lung_Dataset('test', verbose = 0)\n",
    "\n",
    "\"\"\"\n",
    "Data Split for Second Layer classification task (COVID vs Non-COVID) \n",
    "\"\"\"\n",
    "\n",
    "sl_labels = {\n",
    "0 : \"COVID\",\n",
    "1 : \"Non-COVID\"\n",
    "}\n",
    "\n",
    "sl_train = data.Lung_Dataset('train', verbose = 2)\n",
    "sl_test = data.Lung_Dataset('val', verbose = 2)\n",
    "sl_val = data.Lung_Dataset('test', verbose = 2)\n",
    "\n",
    "\"\"\"\n",
    "Data Split for combined classification task (normal vs COVID vs Non-COVID) \n",
    "\"\"\"\n",
    "\n",
    "combined_labels = {\n",
    "0 : \"Normal\",\n",
    "1 : \"COVID\",\n",
    "2 : \"Non-COVID\"\n",
    "}\n",
    "\n",
    "final_val = data.Lung_Dataset('test', verbose = 1)\n",
    "final_test = data.Lung_Dataset('val', verbose = 1)"
   ]
  },
  {
   "cell_type": "markdown",
   "metadata": {},
   "source": [
    "Defining Model Parameters"
   ]
  },
  {
   "cell_type": "code",
   "execution_count": 3,
   "metadata": {},
   "outputs": [],
   "source": [
    "N_EPOCH = 200\n",
    "L_RATE_FL = 0.001\n",
    "BATCH_SIZE_FL = 32\n",
    "DROPOUT_FL = 0.05\n",
    "WD_FL = 0.01\n",
    "L_RATE_SL = 0.01\n",
    "BATCH_SIZE_SL = 64\n",
    "DROPOUT_SL = 0.15\n",
    "WD_SL = 0.01\n",
    "PATIENCE = 10\n",
    "STEPS = 10\n",
    "\n",
    "device = torch.device(\"cuda\" if torch.cuda.is_available() else \"cpu\")"
   ]
  },
  {
   "cell_type": "markdown",
   "metadata": {},
   "source": [
    "Training the First Layer Model"
   ]
  },
  {
   "cell_type": "code",
   "execution_count": 4,
   "metadata": {
    "scrolled": true
   },
   "outputs": [
    {
     "name": "stdout",
     "output_type": "stream",
     "text": [
      "Training the first model to classify normal and infected images\n",
      "\n",
      "\n",
      "Epoch 1\n"
     ]
    },
    {
     "data": {
      "application/vnd.jupyter.widget-view+json": {
       "model_id": "4c136910d81a4518ad42a06dd1ee3e3b",
       "version_major": 2,
       "version_minor": 0
      },
      "text/plain": [
       "  0%|          | 0/163 [00:00<?, ?it/s]"
      ]
     },
     "metadata": {},
     "output_type": "display_data"
    },
    {
     "name": "stdout",
     "output_type": "stream",
     "text": [
      "Validation loss: 0.5306511223316193\n",
      "Validation set accuracy:  76.26016260162602 %\n",
      "\n",
      "\n",
      "Epoch 2\n"
     ]
    },
    {
     "data": {
      "application/vnd.jupyter.widget-view+json": {
       "model_id": "8b0507bdb4744751a6804807bc9380c9",
       "version_major": 2,
       "version_minor": 0
      },
      "text/plain": [
       "  0%|          | 0/163 [00:00<?, ?it/s]"
      ]
     },
     "metadata": {},
     "output_type": "display_data"
    },
    {
     "name": "stdout",
     "output_type": "stream",
     "text": [
      "Validation loss: 0.69262605458498\n",
      "Validation set accuracy:  72.03252032520325 %\n",
      "\n",
      "\n",
      "Epoch 3\n"
     ]
    },
    {
     "data": {
      "application/vnd.jupyter.widget-view+json": {
       "model_id": "868863f26675402bad894c555b8b8243",
       "version_major": 2,
       "version_minor": 0
      },
      "text/plain": [
       "  0%|          | 0/163 [00:00<?, ?it/s]"
      ]
     },
     "metadata": {},
     "output_type": "display_data"
    },
    {
     "name": "stdout",
     "output_type": "stream",
     "text": [
      "Validation loss: 1.3429153203964233\n",
      "Validation set accuracy:  66.5040650406504 %\n",
      "\n",
      "\n",
      "Epoch 4\n"
     ]
    },
    {
     "data": {
      "application/vnd.jupyter.widget-view+json": {
       "model_id": "646147ac01b24532b866c70bbf8668dc",
       "version_major": 2,
       "version_minor": 0
      },
      "text/plain": [
       "  0%|          | 0/163 [00:00<?, ?it/s]"
      ]
     },
     "metadata": {},
     "output_type": "display_data"
    },
    {
     "name": "stdout",
     "output_type": "stream",
     "text": [
      "Validation loss: 0.7727077573537826\n",
      "Validation set accuracy:  74.79674796747967 %\n",
      "\n",
      "\n",
      "Epoch 5\n"
     ]
    },
    {
     "data": {
      "application/vnd.jupyter.widget-view+json": {
       "model_id": "25244f2583114ee6909a05dc557e8b5a",
       "version_major": 2,
       "version_minor": 0
      },
      "text/plain": [
       "  0%|          | 0/163 [00:00<?, ?it/s]"
      ]
     },
     "metadata": {},
     "output_type": "display_data"
    },
    {
     "name": "stdout",
     "output_type": "stream",
     "text": [
      "Validation loss: 1.051837758719921\n",
      "Validation set accuracy:  70.5691056910569 %\n",
      "\n",
      "\n",
      "Epoch 6\n"
     ]
    },
    {
     "data": {
      "application/vnd.jupyter.widget-view+json": {
       "model_id": "6d8a518c1b0b4e2395985d6934e23f4b",
       "version_major": 2,
       "version_minor": 0
      },
      "text/plain": [
       "  0%|          | 0/163 [00:00<?, ?it/s]"
      ]
     },
     "metadata": {},
     "output_type": "display_data"
    },
    {
     "name": "stdout",
     "output_type": "stream",
     "text": [
      "Validation loss: 0.830896720290184\n",
      "Validation set accuracy:  72.52032520325203 %\n",
      "\n",
      "\n",
      "Epoch 7\n"
     ]
    },
    {
     "data": {
      "application/vnd.jupyter.widget-view+json": {
       "model_id": "3fd2b10fa9c0446fa76c6b021fa98a45",
       "version_major": 2,
       "version_minor": 0
      },
      "text/plain": [
       "  0%|          | 0/163 [00:00<?, ?it/s]"
      ]
     },
     "metadata": {},
     "output_type": "display_data"
    },
    {
     "name": "stdout",
     "output_type": "stream",
     "text": [
      "Validation loss: 0.8926949590444565\n",
      "Validation set accuracy:  74.95934959349593 %\n",
      "\n",
      "\n",
      "Epoch 8\n"
     ]
    },
    {
     "data": {
      "application/vnd.jupyter.widget-view+json": {
       "model_id": "11ef6b39ba1a4e8dad43921775797ed3",
       "version_major": 2,
       "version_minor": 0
      },
      "text/plain": [
       "  0%|          | 0/163 [00:00<?, ?it/s]"
      ]
     },
     "metadata": {},
     "output_type": "display_data"
    },
    {
     "name": "stdout",
     "output_type": "stream",
     "text": [
      "Validation loss: 0.6397968901321291\n",
      "Validation set accuracy:  79.83739837398375 %\n",
      "\n",
      "\n",
      "Epoch 9\n"
     ]
    },
    {
     "data": {
      "application/vnd.jupyter.widget-view+json": {
       "model_id": "ac5cba3a44cb4692977683d783b649fc",
       "version_major": 2,
       "version_minor": 0
      },
      "text/plain": [
       "  0%|          | 0/163 [00:00<?, ?it/s]"
      ]
     },
     "metadata": {},
     "output_type": "display_data"
    },
    {
     "name": "stdout",
     "output_type": "stream",
     "text": [
      "Validation loss: 0.9922987788915634\n",
      "Validation set accuracy:  75.77235772357723 %\n",
      "\n",
      "\n",
      "Epoch 10\n"
     ]
    },
    {
     "data": {
      "application/vnd.jupyter.widget-view+json": {
       "model_id": "cd4321e229a448dfbd3e6f0971c222a6",
       "version_major": 2,
       "version_minor": 0
      },
      "text/plain": [
       "  0%|          | 0/163 [00:00<?, ?it/s]"
      ]
     },
     "metadata": {},
     "output_type": "display_data"
    },
    {
     "name": "stdout",
     "output_type": "stream",
     "text": [
      "Validation loss: 1.2607937693595885\n",
      "Validation set accuracy:  74.3089430894309 %\n",
      "\n",
      "\n",
      "Epoch 11\n"
     ]
    },
    {
     "data": {
      "application/vnd.jupyter.widget-view+json": {
       "model_id": "5600eb4038b1414baa7100ecd31075fe",
       "version_major": 2,
       "version_minor": 0
      },
      "text/plain": [
       "  0%|          | 0/163 [00:00<?, ?it/s]"
      ]
     },
     "metadata": {},
     "output_type": "display_data"
    },
    {
     "name": "stdout",
     "output_type": "stream",
     "text": [
      "Validation loss: 1.5040242493152618\n",
      "Validation set accuracy:  71.70731707317073 %\n",
      "\n",
      "\n",
      "\n",
      "Test Accuracy of the first model:\n",
      "Test set accuracy:  68.0 %\n"
     ]
    },
    {
     "data": {
      "image/png": "[encoded data removed]",
      "text/plain": [
       "<Figure size 432x288 with 1 Axes>"
      ]
     },
     "metadata": {
      "needs_background": "light"
     },
     "output_type": "display_data"
    }
   ],
   "source": [
    "#First Model Training\n",
    "fl_train_loader = DataLoader(fl_train, batch_size=BATCH_SIZE_FL, shuffle=True)\n",
    "fl_val_loader = DataLoader(fl_val, batch_size=BATCH_SIZE_FL, shuffle=True)\n",
    "fl_test_loader = DataLoader(fl_test, batch_size=BATCH_SIZE_FL, shuffle=True)\n",
    "    \n",
    "fl_model = model.CNN(dropout=DROPOUT_FL).to(device)\n",
    "fl_optimizer = optim.AdamW(fl_model.parameters(), lr=L_RATE_FL, weight_decay=WD_FL)\n",
    "fl_scheduler = torch.optim.lr_scheduler.CosineAnnealingLR(fl_optimizer, STEPS)\n",
    "    \n",
    "print(\"Training the first model to classify normal and infected images\")\n",
    "model.train(fl_model, device, nn.BCELoss(), fl_optimizer, fl_train_loader, fl_val_loader, N_EPOCH, PATIENCE, \"fl\", fl_scheduler, STEPS)\n",
    "\n",
    "print(\"\\n\\n\")\n",
    "print(\"Test Accuracy of the first model:\")\n",
    "model.test(fl_model, device, fl_test_loader)\n",
    "\n",
    "fl_model.to(\"cpu\")\n",
    "    \n",
    "model.save_model(fl_model, fl_optimizer, './saved_models/fl_model.pth')"
   ]
  },
  {
   "cell_type": "markdown",
   "metadata": {},
   "source": [
    "Training the Second Layer Model"
   ]
  },
  {
   "cell_type": "code",
   "execution_count": null,
   "metadata": {},
   "outputs": [
    {
     "name": "stdout",
     "output_type": "stream",
     "text": [
      "\n",
      "\n",
      "\n",
      "Training the second model to classify COVID and non-COVID images\n",
      "\n",
      "\n",
      "Epoch 1\n"
     ]
    },
    {
     "data": {
      "application/vnd.jupyter.widget-view+json": {
       "model_id": "5e492ed0b5324e79b83db0d88071eb3c",
       "version_major": 2,
       "version_minor": 0
      },
      "text/plain": [
       "  0%|          | 0/61 [00:00<?, ?it/s]"
      ]
     },
     "metadata": {},
     "output_type": "display_data"
    },
    {
     "name": "stdout",
     "output_type": "stream",
     "text": [
      "Validation loss: 0.5930352906386057\n",
      "Validation set accuracy:  63.51706036745407 %\n",
      "\n",
      "\n",
      "Epoch 2\n"
     ]
    },
    {
     "data": {
      "application/vnd.jupyter.widget-view+json": {
       "model_id": "a700c2a7efa045d085b18c4d850b984d",
       "version_major": 2,
       "version_minor": 0
      },
      "text/plain": [
       "  0%|          | 0/61 [00:00<?, ?it/s]"
      ]
     },
     "metadata": {},
     "output_type": "display_data"
    },
    {
     "name": "stdout",
     "output_type": "stream",
     "text": [
      "Validation loss: 0.5817015171051025\n",
      "Validation set accuracy:  77.42782152230971 %\n",
      "\n",
      "\n",
      "Epoch 3\n"
     ]
    },
    {
     "data": {
      "application/vnd.jupyter.widget-view+json": {
       "model_id": "845f0a0e2c7b442fa8286e4db66c8cbe",
       "version_major": 2,
       "version_minor": 0
      },
      "text/plain": [
       "  0%|          | 0/61 [00:00<?, ?it/s]"
      ]
     },
     "metadata": {},
     "output_type": "display_data"
    },
    {
     "name": "stdout",
     "output_type": "stream",
     "text": [
      "Validation loss: 0.6150146027406057\n",
      "Validation set accuracy:  69.55380577427822 %\n",
      "\n",
      "\n",
      "Epoch 4\n"
     ]
    },
    {
     "data": {
      "application/vnd.jupyter.widget-view+json": {
       "model_id": "1c34951cc9db40308af4661d48d3932b",
       "version_major": 2,
       "version_minor": 0
      },
      "text/plain": [
       "  0%|          | 0/61 [00:00<?, ?it/s]"
      ]
     },
     "metadata": {},
     "output_type": "display_data"
    },
    {
     "name": "stdout",
     "output_type": "stream",
     "text": [
      "Validation loss: 0.48274855812390643\n",
      "Validation set accuracy:  74.01574803149606 %\n",
      "\n",
      "\n",
      "Epoch 5\n"
     ]
    },
    {
     "data": {
      "application/vnd.jupyter.widget-view+json": {
       "model_id": "83a1e9e6263444d19c9825431fb03784",
       "version_major": 2,
       "version_minor": 0
      },
      "text/plain": [
       "  0%|          | 0/61 [00:00<?, ?it/s]"
      ]
     },
     "metadata": {},
     "output_type": "display_data"
    },
    {
     "name": "stdout",
     "output_type": "stream",
     "text": [
      "Validation loss: 0.40194589893023175\n",
      "Validation set accuracy:  84.25196850393701 %\n",
      "\n",
      "\n",
      "Epoch 6\n"
     ]
    },
    {
     "data": {
      "application/vnd.jupyter.widget-view+json": {
       "model_id": "3d1e457d6654474689eaa68885a1b7f1",
       "version_major": 2,
       "version_minor": 0
      },
      "text/plain": [
       "  0%|          | 0/61 [00:00<?, ?it/s]"
      ]
     },
     "metadata": {},
     "output_type": "display_data"
    },
    {
     "name": "stdout",
     "output_type": "stream",
     "text": [
      "Validation loss: 2.5032808780670166\n",
      "Validation set accuracy:  63.51706036745407 %\n",
      "\n",
      "\n",
      "Epoch 7\n"
     ]
    },
    {
     "data": {
      "application/vnd.jupyter.widget-view+json": {
       "model_id": "d3b0dc3ee4fa4c5bab8969b4d424e7ca",
       "version_major": 2,
       "version_minor": 0
      },
      "text/plain": [
       "  0%|          | 0/61 [00:00<?, ?it/s]"
      ]
     },
     "metadata": {},
     "output_type": "display_data"
    }
   ],
   "source": [
    "#Second Model Training\n",
    "sl_train_loader = DataLoader(sl_train, batch_size=BATCH_SIZE_SL, shuffle=True)\n",
    "sl_val_loader = DataLoader(sl_val, batch_size=BATCH_SIZE_SL, shuffle=True)\n",
    "sl_test_loader = DataLoader(sl_test, batch_size=BATCH_SIZE_SL, shuffle=True)\n",
    "    \n",
    "sl_model = model.CNN(dropout=DROPOUT_SL).to(device)  \n",
    "sl_optimizer = optim.AdamW(sl_model.parameters(), lr=L_RATE_SL, weight_decay=WD_SL)\n",
    "sl_scheduler = torch.optim.lr_scheduler.CosineAnnealingLR(sl_optimizer, STEPS)\n",
    "\n",
    "print(\"\\n\\n\")\n",
    "print(\"Training the second model to classify COVID and non-COVID images\")\n",
    "model.train(sl_model, device, nn.BCELoss(), sl_optimizer, sl_train_loader, sl_val_loader, N_EPOCH, PATIENCE, \"sl\", sl_scheduler,STEPS)\n",
    "    \n",
    "print(\"\\n\\n\")\n",
    "print(\"Test Accuracy of the second model:\")\n",
    "model.test(sl_model, device, sl_test_loader)\n",
    "    \n",
    "sl_model.to(\"cpu\")\n",
    "    \n",
    "model.save_model(sl_model, sl_optimizer, './saved_models/sl_model.pth')"
   ]
  },
  {
   "cell_type": "markdown",
   "metadata": {},
   "source": [
    "Analyzing the performance of each model (first layer and second layer models) "
   ]
  },
  {
   "cell_type": "markdown",
   "metadata": {},
   "source": [
    "Learning Curve of the First Layer Model"
   ]
  },
  {
   "cell_type": "code",
   "execution_count": null,
   "metadata": {},
   "outputs": [],
   "source": [
    "Image(filename='./saved_graphs/fl_learning_curve.png') "
   ]
  },
  {
   "cell_type": "markdown",
   "metadata": {},
   "source": [
    "Learning Curve of the Second Layer Model"
   ]
  },
  {
   "cell_type": "code",
   "execution_count": null,
   "metadata": {},
   "outputs": [],
   "source": [
    "Image(filename='./saved_graphs/sl_learning_curve.png') "
   ]
  },
  {
   "cell_type": "markdown",
   "metadata": {},
   "source": [
    "Combine the 2 Models and Test the results on validation and test"
   ]
  },
  {
   "cell_type": "code",
   "execution_count": null,
   "metadata": {},
   "outputs": [],
   "source": [
    "final_val_loader = DataLoader(final_val, batch_size=BATCH_SIZE_FL, shuffle=False)\n",
    "final_test_loader = DataLoader(final_test, batch_size=BATCH_SIZE_FL, shuffle=False)\n",
    "    \n",
    "combined_model = model.load_combined('./saved_models/fl_model.pth','./saved_models/sl_model.pth',WD_FL ,L_RATE_FL, DROPOUT_FL, WD_SL, L_RATE_SL, DROPOUT_SL)\n",
    "pred = combined_model.predict_loader(device, final_val_loader)\n",
    "actual = torch.empty(0, 3).to(device)\n",
    "for _, labels in final_val_loader:\n",
    "    labels = labels.to(device)\n",
    "    actual = torch.cat((actual, labels), 0)\n",
    "print(\"Validation Results\")\n",
    "print(\"Accuracy: {}\".format(model.accuracy(pred, actual)))\n",
    "print(\"Precision: {}\".format(model.precision(pred, actual)))\n",
    "print(\"Recall: {}\".format(model.recall(pred, actual)))\n",
    "print()\n",
    "pred = combined_model.predict_loader(device, final_test_loader)\n",
    "actual = torch.empty(0, 3).to(device)\n",
    "for _, labels in final_test_loader:\n",
    "    labels = labels.to(device)\n",
    "    actual = torch.cat((actual, labels), 0)\n",
    "\n",
    "print(\"Test Results\")\n",
    "print(\"Accuracy: {}\".format(model.accuracy(pred, actual)))\n",
    "print(\"Precision: {}\".format(model.precision(pred, actual)))\n",
    "print(\"Recall: {}\".format(model.recall(pred, actual)))\n",
    "\n",
    "print(\"\\n\\n\")\n",
    "print(\"Visualizing the Test Set: \")\n",
    "utils.generate_performance_display(final_test_loader, pred, combined_labels)"
   ]
  }
 ],
 "metadata": {
  "kernelspec": {
   "display_name": "Python 3",
   "language": "python",
   "name": "python3"
  },
  "language_info": {
   "codemirror_mode": {
    "name": "ipython",
    "version": 3
   },
   "file_extension": ".py",
   "mimetype": "text/x-python",
   "name": "python",
   "nbconvert_exporter": "python",
   "pygments_lexer": "ipython3",
   "version": "3.7.10"
  }
 },
 "nbformat": 4,
 "nbformat_minor": 2
}
